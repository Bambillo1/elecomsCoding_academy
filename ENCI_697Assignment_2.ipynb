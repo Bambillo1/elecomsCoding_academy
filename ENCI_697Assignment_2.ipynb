{
  "nbformat": 4,
  "nbformat_minor": 0,
  "metadata": {
    "colab": {
      "provenance": [],
      "gpuType": "T4",
      "authorship_tag": "ABX9TyMM3Uk/Fr1i9yQPKr4YyMSB",
      "include_colab_link": true
    },
    "kernelspec": {
      "name": "python3",
      "display_name": "Python 3"
    },
    "language_info": {
      "name": "python"
    },
    "accelerator": "GPU"
  },
  "cells": [
    {
      "cell_type": "markdown",
      "metadata": {
        "id": "view-in-github",
        "colab_type": "text"
      },
      "source": [
        "<a href=\"https://colab.research.google.com/github/Bambillo1/elecomsCoding_academy/blob/main/ENCI_697Assignment_2.ipynb\" target=\"_parent\"><img src=\"https://colab.research.google.com/assets/colab-badge.svg\" alt=\"Open In Colab\"/></a>"
      ]
    },
    {
      "cell_type": "code",
      "execution_count": 3,
      "metadata": {
        "id": "6HICPbus9QmY"
      },
      "outputs": [],
      "source": [
        "import pandas as pd\n",
        "import numpy as np\n",
        "import matplotlib.pyplot as plt\n",
        "from scipy.stats import norm\n",
        "\n",
        "\n",
        "# Load the project schedule data from a CSV file\n",
        "def load_schedule_data(file):\n",
        "    df = pd.read_csv(file)\n",
        "    return df"
      ]
    },
    {
      "cell_type": "code",
      "source": [
        "schedule_data = load_schedule_data('Assignment_2.csv')"
      ],
      "metadata": {
        "id": "ra4QdTWgB9im"
      },
      "execution_count": 4,
      "outputs": []
    },
    {
      "cell_type": "code",
      "source": [
        "schedule_data"
      ],
      "metadata": {
        "colab": {
          "base_uri": "https://localhost:8080/",
          "height": 332
        },
        "id": "ygNwKvCYB9sm",
        "outputId": "fae5db74-a280-489d-c937-8618af8d796a"
      },
      "execution_count": 5,
      "outputs": [
        {
          "output_type": "execute_result",
          "data": {
            "text/plain": [
              "  Activity Distribution Type Predecessors  Mean (days)    COV\n",
              "0        A            Normal          ---           12  0.300\n",
              "1        B             Gamma          ---           25  0.360\n",
              "2        C        Log-normal            A           44  0.060\n",
              "3        D       Exponential            B           32  1.000\n",
              "4        E            Normal            B           48  0.265\n",
              "5        F            Gumbel          C,D           22  0.075\n",
              "6        G        Log-normal            D           12  0.360\n",
              "7        H             Gamma          D,E           18  0.450\n",
              "8        I            Normal          F,G           60  0.050"
            ],
            "text/html": [
              "\n",
              "  <div id=\"df-c03761ce-4c09-4955-8585-5d7c8513b046\" class=\"colab-df-container\">\n",
              "    <div>\n",
              "<style scoped>\n",
              "    .dataframe tbody tr th:only-of-type {\n",
              "        vertical-align: middle;\n",
              "    }\n",
              "\n",
              "    .dataframe tbody tr th {\n",
              "        vertical-align: top;\n",
              "    }\n",
              "\n",
              "    .dataframe thead th {\n",
              "        text-align: right;\n",
              "    }\n",
              "</style>\n",
              "<table border=\"1\" class=\"dataframe\">\n",
              "  <thead>\n",
              "    <tr style=\"text-align: right;\">\n",
              "      <th></th>\n",
              "      <th>Activity</th>\n",
              "      <th>Distribution Type</th>\n",
              "      <th>Predecessors</th>\n",
              "      <th>Mean (days)</th>\n",
              "      <th>COV</th>\n",
              "    </tr>\n",
              "  </thead>\n",
              "  <tbody>\n",
              "    <tr>\n",
              "      <th>0</th>\n",
              "      <td>A</td>\n",
              "      <td>Normal</td>\n",
              "      <td>---</td>\n",
              "      <td>12</td>\n",
              "      <td>0.300</td>\n",
              "    </tr>\n",
              "    <tr>\n",
              "      <th>1</th>\n",
              "      <td>B</td>\n",
              "      <td>Gamma</td>\n",
              "      <td>---</td>\n",
              "      <td>25</td>\n",
              "      <td>0.360</td>\n",
              "    </tr>\n",
              "    <tr>\n",
              "      <th>2</th>\n",
              "      <td>C</td>\n",
              "      <td>Log-normal</td>\n",
              "      <td>A</td>\n",
              "      <td>44</td>\n",
              "      <td>0.060</td>\n",
              "    </tr>\n",
              "    <tr>\n",
              "      <th>3</th>\n",
              "      <td>D</td>\n",
              "      <td>Exponential</td>\n",
              "      <td>B</td>\n",
              "      <td>32</td>\n",
              "      <td>1.000</td>\n",
              "    </tr>\n",
              "    <tr>\n",
              "      <th>4</th>\n",
              "      <td>E</td>\n",
              "      <td>Normal</td>\n",
              "      <td>B</td>\n",
              "      <td>48</td>\n",
              "      <td>0.265</td>\n",
              "    </tr>\n",
              "    <tr>\n",
              "      <th>5</th>\n",
              "      <td>F</td>\n",
              "      <td>Gumbel</td>\n",
              "      <td>C,D</td>\n",
              "      <td>22</td>\n",
              "      <td>0.075</td>\n",
              "    </tr>\n",
              "    <tr>\n",
              "      <th>6</th>\n",
              "      <td>G</td>\n",
              "      <td>Log-normal</td>\n",
              "      <td>D</td>\n",
              "      <td>12</td>\n",
              "      <td>0.360</td>\n",
              "    </tr>\n",
              "    <tr>\n",
              "      <th>7</th>\n",
              "      <td>H</td>\n",
              "      <td>Gamma</td>\n",
              "      <td>D,E</td>\n",
              "      <td>18</td>\n",
              "      <td>0.450</td>\n",
              "    </tr>\n",
              "    <tr>\n",
              "      <th>8</th>\n",
              "      <td>I</td>\n",
              "      <td>Normal</td>\n",
              "      <td>F,G</td>\n",
              "      <td>60</td>\n",
              "      <td>0.050</td>\n",
              "    </tr>\n",
              "  </tbody>\n",
              "</table>\n",
              "</div>\n",
              "    <div class=\"colab-df-buttons\">\n",
              "\n",
              "  <div class=\"colab-df-container\">\n",
              "    <button class=\"colab-df-convert\" onclick=\"convertToInteractive('df-c03761ce-4c09-4955-8585-5d7c8513b046')\"\n",
              "            title=\"Convert this dataframe to an interactive table.\"\n",
              "            style=\"display:none;\">\n",
              "\n",
              "  <svg xmlns=\"http://www.w3.org/2000/svg\" height=\"24px\" viewBox=\"0 -960 960 960\">\n",
              "    <path d=\"M120-120v-720h720v720H120Zm60-500h600v-160H180v160Zm220 220h160v-160H400v160Zm0 220h160v-160H400v160ZM180-400h160v-160H180v160Zm440 0h160v-160H620v160ZM180-180h160v-160H180v160Zm440 0h160v-160H620v160Z\"/>\n",
              "  </svg>\n",
              "    </button>\n",
              "\n",
              "  <style>\n",
              "    .colab-df-container {\n",
              "      display:flex;\n",
              "      gap: 12px;\n",
              "    }\n",
              "\n",
              "    .colab-df-convert {\n",
              "      background-color: #E8F0FE;\n",
              "      border: none;\n",
              "      border-radius: 50%;\n",
              "      cursor: pointer;\n",
              "      display: none;\n",
              "      fill: #1967D2;\n",
              "      height: 32px;\n",
              "      padding: 0 0 0 0;\n",
              "      width: 32px;\n",
              "    }\n",
              "\n",
              "    .colab-df-convert:hover {\n",
              "      background-color: #E2EBFA;\n",
              "      box-shadow: 0px 1px 2px rgba(60, 64, 67, 0.3), 0px 1px 3px 1px rgba(60, 64, 67, 0.15);\n",
              "      fill: #174EA6;\n",
              "    }\n",
              "\n",
              "    .colab-df-buttons div {\n",
              "      margin-bottom: 4px;\n",
              "    }\n",
              "\n",
              "    [theme=dark] .colab-df-convert {\n",
              "      background-color: #3B4455;\n",
              "      fill: #D2E3FC;\n",
              "    }\n",
              "\n",
              "    [theme=dark] .colab-df-convert:hover {\n",
              "      background-color: #434B5C;\n",
              "      box-shadow: 0px 1px 3px 1px rgba(0, 0, 0, 0.15);\n",
              "      filter: drop-shadow(0px 1px 2px rgba(0, 0, 0, 0.3));\n",
              "      fill: #FFFFFF;\n",
              "    }\n",
              "  </style>\n",
              "\n",
              "    <script>\n",
              "      const buttonEl =\n",
              "        document.querySelector('#df-c03761ce-4c09-4955-8585-5d7c8513b046 button.colab-df-convert');\n",
              "      buttonEl.style.display =\n",
              "        google.colab.kernel.accessAllowed ? 'block' : 'none';\n",
              "\n",
              "      async function convertToInteractive(key) {\n",
              "        const element = document.querySelector('#df-c03761ce-4c09-4955-8585-5d7c8513b046');\n",
              "        const dataTable =\n",
              "          await google.colab.kernel.invokeFunction('convertToInteractive',\n",
              "                                                    [key], {});\n",
              "        if (!dataTable) return;\n",
              "\n",
              "        const docLinkHtml = 'Like what you see? Visit the ' +\n",
              "          '<a target=\"_blank\" href=https://colab.research.google.com/notebooks/data_table.ipynb>data table notebook</a>'\n",
              "          + ' to learn more about interactive tables.';\n",
              "        element.innerHTML = '';\n",
              "        dataTable['output_type'] = 'display_data';\n",
              "        await google.colab.output.renderOutput(dataTable, element);\n",
              "        const docLink = document.createElement('div');\n",
              "        docLink.innerHTML = docLinkHtml;\n",
              "        element.appendChild(docLink);\n",
              "      }\n",
              "    </script>\n",
              "  </div>\n",
              "\n",
              "\n",
              "<div id=\"df-3c9855e0-7abe-496a-a4be-61b9421e23ec\">\n",
              "  <button class=\"colab-df-quickchart\" onclick=\"quickchart('df-3c9855e0-7abe-496a-a4be-61b9421e23ec')\"\n",
              "            title=\"Suggest charts.\"\n",
              "            style=\"display:none;\">\n",
              "\n",
              "<svg xmlns=\"http://www.w3.org/2000/svg\" height=\"24px\"viewBox=\"0 0 24 24\"\n",
              "     width=\"24px\">\n",
              "    <g>\n",
              "        <path d=\"M19 3H5c-1.1 0-2 .9-2 2v14c0 1.1.9 2 2 2h14c1.1 0 2-.9 2-2V5c0-1.1-.9-2-2-2zM9 17H7v-7h2v7zm4 0h-2V7h2v10zm4 0h-2v-4h2v4z\"/>\n",
              "    </g>\n",
              "</svg>\n",
              "  </button>\n",
              "\n",
              "<style>\n",
              "  .colab-df-quickchart {\n",
              "      --bg-color: #E8F0FE;\n",
              "      --fill-color: #1967D2;\n",
              "      --hover-bg-color: #E2EBFA;\n",
              "      --hover-fill-color: #174EA6;\n",
              "      --disabled-fill-color: #AAA;\n",
              "      --disabled-bg-color: #DDD;\n",
              "  }\n",
              "\n",
              "  [theme=dark] .colab-df-quickchart {\n",
              "      --bg-color: #3B4455;\n",
              "      --fill-color: #D2E3FC;\n",
              "      --hover-bg-color: #434B5C;\n",
              "      --hover-fill-color: #FFFFFF;\n",
              "      --disabled-bg-color: #3B4455;\n",
              "      --disabled-fill-color: #666;\n",
              "  }\n",
              "\n",
              "  .colab-df-quickchart {\n",
              "    background-color: var(--bg-color);\n",
              "    border: none;\n",
              "    border-radius: 50%;\n",
              "    cursor: pointer;\n",
              "    display: none;\n",
              "    fill: var(--fill-color);\n",
              "    height: 32px;\n",
              "    padding: 0;\n",
              "    width: 32px;\n",
              "  }\n",
              "\n",
              "  .colab-df-quickchart:hover {\n",
              "    background-color: var(--hover-bg-color);\n",
              "    box-shadow: 0 1px 2px rgba(60, 64, 67, 0.3), 0 1px 3px 1px rgba(60, 64, 67, 0.15);\n",
              "    fill: var(--button-hover-fill-color);\n",
              "  }\n",
              "\n",
              "  .colab-df-quickchart-complete:disabled,\n",
              "  .colab-df-quickchart-complete:disabled:hover {\n",
              "    background-color: var(--disabled-bg-color);\n",
              "    fill: var(--disabled-fill-color);\n",
              "    box-shadow: none;\n",
              "  }\n",
              "\n",
              "  .colab-df-spinner {\n",
              "    border: 2px solid var(--fill-color);\n",
              "    border-color: transparent;\n",
              "    border-bottom-color: var(--fill-color);\n",
              "    animation:\n",
              "      spin 1s steps(1) infinite;\n",
              "  }\n",
              "\n",
              "  @keyframes spin {\n",
              "    0% {\n",
              "      border-color: transparent;\n",
              "      border-bottom-color: var(--fill-color);\n",
              "      border-left-color: var(--fill-color);\n",
              "    }\n",
              "    20% {\n",
              "      border-color: transparent;\n",
              "      border-left-color: var(--fill-color);\n",
              "      border-top-color: var(--fill-color);\n",
              "    }\n",
              "    30% {\n",
              "      border-color: transparent;\n",
              "      border-left-color: var(--fill-color);\n",
              "      border-top-color: var(--fill-color);\n",
              "      border-right-color: var(--fill-color);\n",
              "    }\n",
              "    40% {\n",
              "      border-color: transparent;\n",
              "      border-right-color: var(--fill-color);\n",
              "      border-top-color: var(--fill-color);\n",
              "    }\n",
              "    60% {\n",
              "      border-color: transparent;\n",
              "      border-right-color: var(--fill-color);\n",
              "    }\n",
              "    80% {\n",
              "      border-color: transparent;\n",
              "      border-right-color: var(--fill-color);\n",
              "      border-bottom-color: var(--fill-color);\n",
              "    }\n",
              "    90% {\n",
              "      border-color: transparent;\n",
              "      border-bottom-color: var(--fill-color);\n",
              "    }\n",
              "  }\n",
              "</style>\n",
              "\n",
              "  <script>\n",
              "    async function quickchart(key) {\n",
              "      const quickchartButtonEl =\n",
              "        document.querySelector('#' + key + ' button');\n",
              "      quickchartButtonEl.disabled = true;  // To prevent multiple clicks.\n",
              "      quickchartButtonEl.classList.add('colab-df-spinner');\n",
              "      try {\n",
              "        const charts = await google.colab.kernel.invokeFunction(\n",
              "            'suggestCharts', [key], {});\n",
              "      } catch (error) {\n",
              "        console.error('Error during call to suggestCharts:', error);\n",
              "      }\n",
              "      quickchartButtonEl.classList.remove('colab-df-spinner');\n",
              "      quickchartButtonEl.classList.add('colab-df-quickchart-complete');\n",
              "    }\n",
              "    (() => {\n",
              "      let quickchartButtonEl =\n",
              "        document.querySelector('#df-3c9855e0-7abe-496a-a4be-61b9421e23ec button');\n",
              "      quickchartButtonEl.style.display =\n",
              "        google.colab.kernel.accessAllowed ? 'block' : 'none';\n",
              "    })();\n",
              "  </script>\n",
              "</div>\n",
              "    </div>\n",
              "  </div>\n"
            ]
          },
          "metadata": {},
          "execution_count": 5
        }
      ]
    },
    {
      "cell_type": "code",
      "source": [
        "schedule_data['COV'] = schedule_data['COV'].apply(float)"
      ],
      "metadata": {
        "id": "FI7diF7dB92o"
      },
      "execution_count": 6,
      "outputs": []
    },
    {
      "cell_type": "code",
      "source": [
        "# Simulate activity durations based on distribution type\n",
        "def simulate_duration(mean, cv, distribution_type):\n",
        "    if distribution_type == \"Normal\":\n",
        "        return np.random.normal(mean, mean * cv)\n",
        "    elif distribution_type == \"Log-normal\":\n",
        "        mu = np.log(mean / np.sqrt(1 + cv**2))\n",
        "        sigma = np.sqrt(np.log(1 + cv**2))\n",
        "        return np.random.lognormal(mu, sigma)\n",
        "    elif distribution_type == \"Exponential\":\n",
        "        return np.random.exponential(scale=mean)\n",
        "    elif distribution_type == \"Gamma\":\n",
        "        shape = (mean / cv)**2\n",
        "        scale = cv**2 / mean\n",
        "        return np.random.gamma(shape, scale)\n",
        "    elif distribution_type == \"Gumbel\":\n",
        "        return np.random.gumbel(mean, cv)\n",
        "    else:\n",
        "        raise ValueError(f\"Unsupported distribution type: {distribution_type}\")"
      ],
      "metadata": {
        "id": "Ubry6rP6B9_D"
      },
      "execution_count": 7,
      "outputs": []
    },
    {
      "cell_type": "code",
      "source": [
        "# Perform Monte Carlo Simulation\n",
        "def monte_carlo_simulation(schedule_data, num_samples=250000):\n",
        "    project_durations = []\n",
        "\n",
        "    for _ in range(num_samples):\n",
        "        sampled_durations = []\n",
        "\n",
        "        for index, row in schedule_data.iterrows():\n",
        "            mean_duration = row['Mean (days)']\n",
        "            cv = row['COV']\n",
        "            distribution_type = row['Distribution Type']\n",
        "\n",
        "            duration = simulate_duration(mean_duration, cv, distribution_type)\n",
        "            sampled_durations.append(max(duration, 0))\n",
        "\n",
        "        total_duration = sum(sampled_durations)\n",
        "        project_durations.append(total_duration)\n",
        "\n",
        "    return project_durations"
      ],
      "metadata": {
        "id": "yPKP4Ix0B-Kj"
      },
      "execution_count": 8,
      "outputs": []
    },
    {
      "cell_type": "code",
      "source": [
        "# Calculate mean and standard deviation\n",
        "def calculate_mean_std(project_durations):\n",
        "    mean_duration = np.mean(project_durations)\n",
        "    std_deviation = np.std(project_durations)\n",
        "    return mean_duration, std_deviation"
      ],
      "metadata": {
        "id": "lLMy_50HB_hm"
      },
      "execution_count": 9,
      "outputs": []
    },
    {
      "cell_type": "code",
      "source": [
        "def plot_cdf(project_durations):\n",
        "    sorted_durations = np.sort(project_durations)\n",
        "    yvals = np.arange(len(sorted_durations)) / float(len(sorted_durations))\n",
        "\n",
        "    plt.figure(figsize=(10, 6))\n",
        "    plt.plot(sorted_durations, yvals, marker='.', linestyle='none')\n",
        "    plt.xlabel('Project Duration')\n",
        "    plt.ylabel('CDF')\n",
        "    plt.title('Cumulative Distribution Function (CDF) of Project Duration')\n",
        "    plt.grid(True)\n",
        "    plt.show()\n"
      ],
      "metadata": {
        "id": "sSgIqs4lCBKj"
      },
      "execution_count": 10,
      "outputs": []
    },
    {
      "cell_type": "code",
      "source": [
        "# Main function\n",
        "def main():\n",
        "    file_path = 'Assignment_2.csv'  # Update with your file path\n",
        "    schedule_data = load_schedule_data(file_path)\n",
        "\n",
        "    num_samples = int(input(\"Enter the number of desired samples (default 250000): \") or 250000)\n",
        "\n",
        "    project_durations = monte_carlo_simulation(schedule_data, num_samples)\n",
        "\n",
        "    mean_duration, std_deviation = calculate_mean_std(project_durations)\n",
        "\n",
        "    print(f\"Total Duration of Project (Mean): {mean_duration:.2f} days\")\n",
        "    print(f\"Total Duration of Project (Standard Deviation): {std_deviation:.2f} days\")\n",
        "\n",
        "    plot_cdf(project_durations)\n",
        "\n",
        "if __name__ == \"__main__\":\n",
        "    main()"
      ],
      "metadata": {
        "colab": {
          "base_uri": "https://localhost:8080/",
          "height": 616
        },
        "id": "I4kMpUhLCYyK",
        "outputId": "7012ef6a-5b5a-4932-c878-d8be8388442e"
      },
      "execution_count": 11,
      "outputs": [
        {
          "output_type": "stream",
          "name": "stdout",
          "text": [
            "Enter the number of desired samples (default 250000): 250000\n",
            "Total Duration of Project (Mean): 273.01 days\n",
            "Total Duration of Project (Standard Deviation): 35.05 days\n"
          ]
        },
        {
          "output_type": "display_data",
          "data": {
            "text/plain": [
              "<Figure size 1000x600 with 1 Axes>"
            ],
            "image/png": "[encoded data removed]"
          },
          "metadata": {}
        }
      ]
    },
    {
      "cell_type": "code",
      "source": [
        "from scipy.stats import norm\n",
        "\n",
        "# Calculate completion date for a given confidence level\n",
        "def calculate_completion_date(project_durations, confidence_level):\n",
        "    z_score = norm.ppf(1 - (1 - confidence_level / 100) / 2)  # Z-score for confidence interval\n",
        "\n",
        "    mean_duration = np.mean(project_durations)\n",
        "    std_deviation = np.std(project_durations)\n",
        "\n",
        "    # Calculate confidence interval\n",
        "    lower_bound = mean_duration - z_score * (std_deviation / np.sqrt(len(project_durations)))\n",
        "    upper_bound = mean_duration + z_score * (std_deviation / np.sqrt(len(project_durations)))\n",
        "\n",
        "    return lower_bound, upper_bound\n"
      ],
      "metadata": {
        "id": "bpXyk5fbCYr3"
      },
      "execution_count": 12,
      "outputs": []
    },
    {
      "cell_type": "code",
      "source": [
        "# Main function\n",
        "def main():\n",
        "    file_path = 'Assignment_2.csv'\n",
        "    schedule_data = load_schedule_data(file_path)\n",
        "\n",
        "    num_samples = int(input(\"Enter the number of desired samples (default 250000): \") or 250000)\n",
        "\n",
        "    project_durations = monte_carlo_simulation(schedule_data, num_samples)\n",
        "\n",
        "    mean_duration, std_deviation = calculate_mean_std(project_durations)\n",
        "\n",
        "    print(f\"Total Duration of Project (Mean): {mean_duration:.2f} days\")\n",
        "    print(f\"Total Duration of Project (Standard Deviation): {std_deviation:.2f} days\")\n",
        "\n",
        "    plot_cdf(project_durations)\n",
        "\n",
        "    confidence_level = float(input(\"Enter the desired confidence level (e.g., 95): \"))\n",
        "    lower_bound, upper_bound = calculate_completion_date(project_durations, confidence_level)\n",
        "\n",
        "    print(f\"This project will finish within {upper_bound:.2f} days with a {confidence_level}% confidence level.\")\n",
        "\n",
        "if __name__ == \"__main__\":\n",
        "    main()\n"
      ],
      "metadata": {
        "colab": {
          "base_uri": "https://localhost:8080/",
          "height": 633
        },
        "id": "LdC6iw-gC0c2",
        "outputId": "6cf39af7-5a5c-4282-dc2d-cb7f0e50de07"
      },
      "execution_count": 13,
      "outputs": [
        {
          "metadata": {
            "tags": null
          },
          "name": "stdout",
          "output_type": "stream",
          "text": [
            "Total Duration of Project (Mean): 273.09 days\n",
            "Total Duration of Project (Standard Deviation): 35.01 days\n"
          ]
        },
        {
          "data": {
            "image/png": "[encoded data removed]",
            "text/plain": [
              "<Figure size 1000x600 with 1 Axes>"
            ]
          },
          "metadata": {},
          "output_type": "display_data"
        },
        {
          "output_type": "stream",
          "name": "stdout",
          "text": [
            "Enter the desired confidence level (e.g., 95): 95\n",
            "This project will finish within 273.22 days with a 95.0% confidence level.\n"
          ]
        }
      ]
    },
    {
      "cell_type": "code",
      "source": [
        "# Function to determine the critical path\n",
        "def find_critical_path(schedule_data):\n",
        "\n",
        "\n",
        "    return list(schedule_data['Activity'])\n",
        "\n",
        "# Calculate the probability of each activity being on the critical path\n",
        "def calculate_critical_path_probabilities(project_durations, critical_path_activities):\n",
        "    activity_probabilities = {}\n",
        "    num_samples = len(project_durations)\n",
        "\n",
        "    for activity in critical_path_activities:\n",
        "        # Count how many times the activity was on the critical path\n",
        "        count = sum(1 for durations in project_durations if durations == 0)\n",
        "\n",
        "        probability = count / num_samples\n",
        "        activity_probabilities[activity] = probability\n",
        "\n",
        "    return activity_probabilities\n"
      ],
      "metadata": {
        "id": "YRNfX-9iC0Ot"
      },
      "execution_count": 22,
      "outputs": []
    },
    {
      "cell_type": "code",
      "source": [
        "activity_probabilities = calculate_critical_path_probabilities(project_durations, critical_path_activities)"
      ],
      "metadata": {
        "id": "csnwwBetWeiJ",
        "outputId": "691681c5-f356-4aa4-8699-69a4adb19b9d",
        "colab": {
          "base_uri": "https://localhost:8080/",
          "height": 180
        }
      },
      "execution_count": 25,
      "outputs": [
        {
          "output_type": "error",
          "ename": "NameError",
          "evalue": "ignored",
          "traceback": [
            "\u001b[0;31m---------------------------------------------------------------------------\u001b[0m",
            "\u001b[0;31mNameError\u001b[0m                                 Traceback (most recent call last)",
            "\u001b[0;32m<ipython-input-25-c08148be53c8>\u001b[0m in \u001b[0;36m<cell line: 1>\u001b[0;34m()\u001b[0m\n\u001b[0;32m----> 1\u001b[0;31m \u001b[0mactivity_probabilities\u001b[0m \u001b[0;34m=\u001b[0m \u001b[0mcalculate_critical_path_probabilities\u001b[0m\u001b[0;34m(\u001b[0m\u001b[0mproject_durations\u001b[0m\u001b[0;34m,\u001b[0m \u001b[0mcritical_path_activities\u001b[0m\u001b[0;34m)\u001b[0m\u001b[0;34m\u001b[0m\u001b[0;34m\u001b[0m\u001b[0m\n\u001b[0m",
            "\u001b[0;31mNameError\u001b[0m: name 'critical_path_activities' is not defined"
          ]
        }
      ]
    },
    {
      "cell_type": "code",
      "source": [
        "# Main function\n",
        "def main():\n",
        "    file_path = 'Assignment_2.csv'  # Update with your file path\n",
        "    schedule_data = load_schedule_data(file_path)\n",
        "\n",
        "    num_samples = int(input(\"Enter the number of desired samples (default 250000): \") or 250000)\n",
        "\n",
        "    project_durations = monte_carlo_simulation(schedule_data, num_samples)\n",
        "\n",
        "    # Find the critical path (replace with your logic)\n",
        "    critical_path_activities = find_critical_path(schedule_data)\n",
        "\n",
        "    mean_duration, std_deviation = calculate_mean_std(project_durations)\n",
        "\n",
        "    print(f\"Total Duration of Project (Mean): {mean_duration:.2f} days\")\n",
        "    print(f\"Total Duration of Project (Standard Deviation): {std_deviation:.2f} days\")\n",
        "\n",
        "    plot_cdf(project_durations)\n",
        "\n",
        "    confidence_level = float(input(\"Enter the desired confidence level (e.g., 95): \"))\n",
        "    lower_bound, upper_bound = calculate_completion_date(project_durations, confidence_level)\n",
        "\n",
        "    print(f\"This project will finish within {upper_bound:.2f} days with a {confidence_level}% confidence level.\")\n",
        "\n",
        "    # Calculate critical path probabilities\n",
        "    activity_probabilities = calculate_critical_path_probabilities(project_durations, critical_path_activities)\n",
        "\n",
        "    # Draw the column chart for critical path probabilities\n",
        "def plot_critical_path_probabilities(activity_probabilities):\n",
        "    plt.figure(figsize=(10, 6))\n",
        "    activities = list(activity_probabilities.keys())\n",
        "    probabilities = list(activity_probabilities.values())\n",
        "    plt.bar(activities, probabilities, color='skyblue')\n",
        "    plt.xlabel('Activities')\n",
        "    plt.ylabel('Probability')\n",
        "    plt.title('Probability of Activities on Critical Path')\n",
        "    plt.xticks(rotation=45)\n",
        "    plt.grid(axis='y', linestyle='--', alpha=0.7)\n",
        "    plt.show()\n",
        "\n",
        "# ... (Previous code for main function) ...\n",
        "\n",
        "if __name__ == \"__main__\":\n",
        "    main()\n",
        "\n"
      ],
      "metadata": {
        "id": "01ApV2zsCYjl",
        "colab": {
          "base_uri": "https://localhost:8080/",
          "height": 633
        },
        "outputId": "7d8eb319-4820-40fd-9f25-dc58cca7f3aa"
      },
      "execution_count": 23,
      "outputs": [
        {
          "metadata": {
            "tags": null
          },
          "name": "stdout",
          "output_type": "stream",
          "text": [
            "Total Duration of Project (Mean): 273.02 days\n",
            "Total Duration of Project (Standard Deviation): 35.06 days\n"
          ]
        },
        {
          "data": {
            "image/png": "[encoded data removed]",
            "text/plain": [
              "<Figure size 1000x600 with 1 Axes>"
            ]
          },
          "metadata": {},
          "output_type": "display_data"
        },
        {
          "output_type": "stream",
          "name": "stdout",
          "text": [
            "Enter the desired confidence level (e.g., 95): 95\n",
            "This project will finish within 273.16 days with a 95.0% confidence level.\n"
          ]
        }
      ]
    },
    {
      "cell_type": "code",
      "source": [
        "plot_critical_path_probabilities(activity_probabilities)"
      ],
      "metadata": {
        "id": "Eea9uVt0WS2p",
        "outputId": "870d69b4-4032-487b-a17f-a316f0f68fec",
        "colab": {
          "base_uri": "https://localhost:8080/",
          "height": 180
        }
      },
      "execution_count": 24,
      "outputs": [
        {
          "output_type": "error",
          "ename": "NameError",
          "evalue": "ignored",
          "traceback": [
            "\u001b[0;31m---------------------------------------------------------------------------\u001b[0m",
            "\u001b[0;31mNameError\u001b[0m                                 Traceback (most recent call last)",
            "\u001b[0;32m<ipython-input-24-dc1ef9a66d3a>\u001b[0m in \u001b[0;36m<cell line: 1>\u001b[0;34m()\u001b[0m\n\u001b[0;32m----> 1\u001b[0;31m \u001b[0mplot_critical_path_probabilities\u001b[0m\u001b[0;34m(\u001b[0m\u001b[0mactivity_probabilities\u001b[0m\u001b[0;34m)\u001b[0m\u001b[0;34m\u001b[0m\u001b[0;34m\u001b[0m\u001b[0m\n\u001b[0m",
            "\u001b[0;31mNameError\u001b[0m: name 'activity_probabilities' is not defined"
          ]
        }
      ]
    },
    {
      "cell_type": "code",
      "source": [
        "# Calculate the Free Float for a given activity\n",
        "def calculate_free_float(activity, schedule_data, project_durations):\n",
        "    # Find the index of the activity in the schedule data\n",
        "    activity_index = schedule_data[schedule_data['Activity'] == activity].index[0]\n",
        "\n",
        "    # Duration of the activity\n",
        "    activity_duration = schedule_data['Mean (days)'][activity_index]\n",
        "\n",
        "    # Earliest Start Time (ES)\n",
        "    es = project_durations - activity_duration\n",
        "\n",
        "    # Latest Start Time (LS)\n",
        "    ls = min(project_durations)\n",
        "\n",
        "    # Free Float (FF) = LS - ES\n",
        "    free_float = ls - es\n",
        "\n",
        "    mean_ff = np.mean(free_float)\n",
        "    std_ff = np.std(free_float)\n",
        "\n",
        "    return mean_ff, std_ff, free_float\n",
        "\n",
        "# Plot the Cumulative Distribution Function (CDF) of Free Float for a given activity\n",
        "def plot_free_float_cdf(activity, free_float):\n",
        "    plt.figure(figsize=(10, 6))\n",
        "    plt.hist(free_float, bins=30, density=True, cumulative=True, color='blue', alpha=0.7)\n",
        "    plt.xlabel('Free Float')\n",
        "    plt.ylabel('CDF')\n",
        "    plt.title(f'CDF of Free Float for Activity {activity}')\n",
        "    plt.grid(True)\n",
        "    plt.show()\n",
        "\n",
        "\n",
        "file_path = 'Assignment_2.csv'\n",
        "schedule_data = load_schedule_data(file_path)\n",
        "project_durations = monte_carlo_simulation(schedule_data)\n",
        "\n",
        "activity = input(\"Enter the activity code (e.g., D): \")\n",
        "mean_ff, std_ff, free_float = calculate_free_float(activity, schedule_data, project_durations)\n",
        "\n",
        "print(f\"Free Float for Activity {activity}:\")\n",
        "print(f\"Mean Free Float: {mean_ff:.2f} days\")\n",
        "print(f\"Standard Deviation of Free Float: {std_ff:.2f} days\")\n",
        "\n",
        "plot_free_float_cdf(activity, free_float)"
      ],
      "metadata": {
        "colab": {
          "base_uri": "https://localhost:8080/",
          "height": 633
        },
        "id": "eOizA8QVDbE9",
        "outputId": "d8d8a9d0-96ac-4339-e5eb-e5b31788eac8"
      },
      "execution_count": 21,
      "outputs": [
        {
          "output_type": "stream",
          "name": "stdout",
          "text": [
            "Enter the activity code (e.g., D): D\n",
            "Free Float for Activity D:\n",
            "Mean Free Float: -57.23 days\n",
            "Standard Deviation of Free Float: 35.14 days\n"
          ]
        },
        {
          "output_type": "display_data",
          "data": {
            "text/plain": [
              "<Figure size 1000x600 with 1 Axes>"
            ],
            "image/png": "[encoded data removed]"
          },
          "metadata": {}
        }
      ]
    },
    {
      "cell_type": "code",
      "source": [],
      "metadata": {
        "id": "WlkLEOARDa9T"
      },
      "execution_count": null,
      "outputs": []
    },
    {
      "cell_type": "code",
      "source": [],
      "metadata": {
        "id": "ikEZJL0fCYb7"
      },
      "execution_count": null,
      "outputs": []
    },
    {
      "cell_type": "code",
      "source": [],
      "metadata": {
        "id": "LabH-Y29CYWs"
      },
      "execution_count": null,
      "outputs": []
    }
  ]
}