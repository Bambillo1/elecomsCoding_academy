{
  "nbformat": 4,
  "nbformat_minor": 0,
  "metadata": {
    "colab": {
      "provenance": [],
      "gpuType": "T4",
      "authorship_tag": "ABX9TyOZTB5NpbS47C4YNhRVQfKR",
      "include_colab_link": true
    },
    "kernelspec": {
      "name": "python3",
      "display_name": "Python 3"
    },
    "language_info": {
      "name": "python"
    },
    "accelerator": "GPU"
  },
  "cells": [
    {
      "cell_type": "markdown",
      "metadata": {
        "id": "view-in-github",
        "colab_type": "text"
      },
      "source": [
        "<a href=\"https://colab.research.google.com/github/Bambillo1/elecomsCoding_academy/blob/main/Assignment4.ipynb\" target=\"_parent\"><img src=\"https://colab.research.google.com/assets/colab-badge.svg\" alt=\"Open In Colab\"/></a>"
      ]
    },
    {
      "cell_type": "code",
      "execution_count": 32,
      "metadata": {
        "id": "UuonvT1EOByo"
      },
      "outputs": [],
      "source": [
        "import matplotlib.pyplot as plt  # Imports the matplotlib library for plotting\n",
        "import pandas as pd  # Imports the pandas library for data manipulation and analysis\n",
        "from re import sub  # Imports the sub function from the re (regular expression) module to perform substitutions\n",
        "from decimal import Decimal  # Imports the Decimal class from the decimal module for decimal arithmetic\n",
        "import copy  # Imports the copy module for creating copies of objects\n",
        "\n",
        "# Defines a function to convert a currency string to a Decimal value\n",
        "def convert_currency_to_decimal(money):\n",
        "    decimal_value = Decimal(sub(r'[^\\d.]', '', money))  # Removes non-digit characters except for the decimal point\n",
        "    return decimal_value\n",
        "\n",
        "# Defines a function to convert a Decimal value to a currency string\n",
        "def convert_decimal_to_currency(decimal):\n",
        "    currency = \"${:,.2f}\".format(decimal)  # Formats the Decimal value as a currency string with 2 decimal places\n",
        "    return currency\n",
        "\n",
        "# A utility method to perform ceil division\n",
        "def ceil_div(a, b):\n",
        "    return -(a // -b)  # Performs ceiling division by using floor division and adjusting the result\n",
        "\n",
        "# Sets options for pandas to display all columns in output and adjusts the width for better readability\n",
        "pd.set_option('display.max_columns', None)\n",
        "pd.set_option('display.width', 350)\n"
      ]
    },
    {
      "cell_type": "markdown",
      "source": [
        "This code imports necessary libraries like matplotlib and pandas for visualization and data manipulation. It defines functions to convert currency strings to Decimal values and vice versa. Additionally, it includes a utility method for ceiling division and sets display options for pandas to show all columns and adjust the output width.\n",
        "\n",
        "The convert_currency_to_decimal function uses regular expressions to remove any non-digit characters (except the decimal point) from a currency string and returns the corresponding Decimal value.\n",
        "\n",
        "The convert_decimal_to_currency function formats a Decimal value as a currency string in the format \"$x,xxx.xx\".\n",
        "\n",
        "The ceil_div function calculates the ceiling division of two numbers using floor division and adjustments.\n",
        "\n",
        "The last two lines set options for pandas to display data by configuring the maximum number of columns displayed and adjusting the display width for better visualization of tabular data."
      ],
      "metadata": {
        "id": "JfrJoKgL7sWg"
      }
    },
    {
      "cell_type": "code",
      "source": [
        "class Activity:\n",
        "    def __init__(self, name, duration, depends_on, planned_cost, actual_complete, actual_cost):\n",
        "        # Initializes various attributes related to project scheduling and cost\n",
        "        self.early_start = None\n",
        "        self.early_finish = None\n",
        "        self.late_start = None\n",
        "        self.late_finish = None\n",
        "        self.total_float = None\n",
        "        self.duration = duration\n",
        "        self.name = name\n",
        "        self.depends_on = depends_on\n",
        "        self.precedes = []  # Holds activities that this one precedes\n",
        "        self.planned_cost = planned_cost\n",
        "        self.actual_complete = actual_complete\n",
        "        self.acwp = actual_cost  # Actual Cost of Work Performed\n",
        "        self.bcwp = None  # Budgeted Cost of Work Performed\n",
        "        self.bcws = None  # Budgeted Cost of Work Scheduled\n",
        "        self.spi = None  # Schedule Performance Index\n",
        "        self.sv = None  # Schedule Variance\n",
        "        self.cpi = None  # Cost Performance Index\n",
        "        self.cv = None  # Cost Variance\n",
        "        self.actual_duration_till_now = None\n",
        "        self.revised_duration = None\n",
        "\n",
        "    def __str__(self):\n",
        "        # Returns a formatted string representation of the Activity object\n",
        "        return f\"Name: {self.name}\\n\" \\\n",
        "               f\"Duration: {self.duration}\\n\" \\\n",
        "               f\"Early Start: {self.early_start}\\n\" \\\n",
        "               f\"Early Finish: {self.early_finish}\\n\" \\\n",
        "               f\"Late Start: {self.late_start}\\n\" \\\n",
        "               f\"Late Finish: {self.late_finish}\\n\" \\\n",
        "               f\"Total Float: {self.total_float}\\n\" \\\n",
        "               f\"Depends on: {self.depends_on}\\n\" \\\n",
        "               f\"Precedes: {self.precedes}\\n\" \\\n",
        "               f\"Planned Cost: {self.planned_cost}\\n\" \\\n",
        "               f\"Actual Complete %: {self.actual_complete}\\n\" \\\n",
        "               f\"ACWP: {self.acwp}\\n\" \\\n",
        "               f\"BCWP: {self.bcwp}\\n\" \\\n",
        "               f\"BCWS: {self.bcws}\\n\" \\\n",
        "               f\"SPI: {self.spi}\\n\" \\\n",
        "               f\"SV: {self.sv}\\n\" \\\n",
        "               f\"CPI: {self.cpi}\\n\" \\\n",
        "               f\"CV: {self.cv}\"\n"
      ],
      "metadata": {
        "id": "KPf95CWeOW2D"
      },
      "execution_count": 33,
      "outputs": []
    },
    {
      "cell_type": "markdown",
      "source": [
        "The Activity class is designed to represent tasks or activities in a project management scenario.\n",
        "The __init__ method initializes various attributes related to scheduling, cost, and project dependencies.\n",
        "The __str__ method provides a string representation of the Activity object, displaying its attributes for easy readability and debugging.\n",
        "The attributes within the Activity class hold information about different aspects of project activities, such as start and finish times, dependencies, costs, schedule and cost performance metrics, and more."
      ],
      "metadata": {
        "id": "RE-c2tlx79ro"
      }
    },
    {
      "cell_type": "code",
      "source": [
        "# Ask the user to input the analysis week\n",
        "analysis_week = int(input(\"Enter Report Date (Week): \"))\n",
        "\n",
        "# Initialize an empty dictionary to store Activity objects\n",
        "activity_list1 = {}\n",
        "\n",
        "# Use pandas to read data from a CSV file named \"Assignment_4.csv\"\n",
        "df = pd.read_csv(\"Assignment_4.csv\")\n",
        "\n",
        "# Iterate over each row in the DataFrame obtained from the CSV file\n",
        "for i in df.index:\n",
        "    # Processing the \"Dependency\" column to create a list of dependencies for the Activity\n",
        "    depends_on = str(df[\"Dependency\"][i]).replace(\" \", \"\").replace(\"---\", \"\").split(\",\")\n",
        "    if depends_on[0] == \"\":\n",
        "        depends_on = None\n",
        "\n",
        "    # Create Activity objects using data from the CSV file and store them in the activity_list1 dictionary\n",
        "    activity_list1[df[\"Task\"][i]] = Activity(\n",
        "        df[\"Task\"][i],  # Name of the Task\n",
        "        df[\"Scheduled Duration (Week)\"][i],  # Duration of the Task\n",
        "        depends_on,  # Dependencies of the Task\n",
        "        df[\"Planned Cost \"][i],  # Planned Cost for the Task\n",
        "        df[\"Actual Complete%\"][i],  # Actual Completion Percentage for the Task\n",
        "        df[\"Actual Cost till Now\"][i]  # Actual Cost until the present time for the Task\n",
        "    )\n"
      ],
      "metadata": {
        "colab": {
          "base_uri": "https://localhost:8080/"
        },
        "id": "_lajvqHHOeVy",
        "outputId": "5e3738ec-f00d-47c5-cace-0ea426ce24e9"
      },
      "execution_count": 34,
      "outputs": [
        {
          "name": "stdout",
          "output_type": "stream",
          "text": [
            "Enter Report Date (Week): 4\n"
          ]
        }
      ]
    },
    {
      "cell_type": "markdown",
      "source": [
        "analysis_week = int(input(\"Enter Report Date (Week): \")): This line prompts the user to input an analysis week and stores it as an integer in the variable analysis_week.\n",
        "activity_list1 = {}: Initializes an empty dictionary activity_list1 to store instances of Activity objects.\n",
        "df = pd.read_csv(\"Assignment_4.csv\"): Uses Pandas to read data from a CSV file named \"Assignment_4.csv\" into a DataFrame called df.\n",
        "The subsequent for loop iterates over each row (i) in the DataFrame (df.index) to create Activity objects.\n",
        "Inside the loop:\n",
        "depends_on: Extracts dependencies from the \"Dependency\" column in the DataFrame, processes them, and"
      ],
      "metadata": {
        "id": "i8HO93EV8n89"
      }
    },
    {
      "cell_type": "code",
      "source": [
        "def compute_early_start_and_finish(activity, activity_list):\n",
        "    if activity.depends_on is None:\n",
        "        # Activity does not depend on any other activity; it's the first activity\n",
        "        if activity.early_finish is not None:\n",
        "            # Early finish already computed, return the activity\n",
        "            return activity\n",
        "        # Set the early start to 0 and calculate the early finish based on duration\n",
        "        activity.early_start = 0\n",
        "        activity.early_finish = 0 + activity.duration\n",
        "        return activity\n",
        "    else:\n",
        "        # Activity depends on other activities\n",
        "        dependencies = activity.depends_on\n",
        "        max_finish = 0\n",
        "\n",
        "        # Iterate through each dependency and compute their early start and finish\n",
        "        for activity_name in dependencies:\n",
        "            dependent_activity = compute_early_start_and_finish(activity_list[activity_name], activity_list)\n",
        "            if activity.name not in dependent_activity.precedes:\n",
        "                dependent_activity.precedes.append(activity.name)\n",
        "\n",
        "            # Update the max_finish with the greatest early finish among dependencies\n",
        "            if dependent_activity.early_finish > max_finish:\n",
        "                max_finish = dependent_activity.early_finish\n",
        "\n",
        "        # Set the early start of the current activity to the max finish among dependencies\n",
        "        activity.early_start = max_finish\n",
        "        # Calculate the early finish of the current activity\n",
        "        activity.early_finish = activity.early_start + activity.duration\n",
        "        return activity\n"
      ],
      "metadata": {
        "id": "bgBZXT46Ot9e"
      },
      "execution_count": 35,
      "outputs": []
    },
    {
      "cell_type": "markdown",
      "source": [
        "The function takes in an activity (an instance of the Activity class) and a dictionary (activity_list) containing all activities.\n",
        "It computes the early start and early finish times for the given activity based on its dependencies and the durations of those dependencies.\n",
        "If the activity has no dependencies (activity.depends_on is None), it means it's the first activity in the sequence. In this case, it sets its early start to 0 and calculates the early finish by adding its duration.\n",
        "If the activity has dependencies, it iterates through each dependency, recursively calling compute_early_start_and_finish to compute their early start and finish times.\n",
        "It then determines the greatest early finish among the dependencies and sets the current activity's early start to that value. The early finish of the current activity is then calculated by adding its duration to the early start.\n",
        "This function essentially walks through the activity dependencies, calculates the earliest start and finish times for each activity, and updates their attributes accordingly, considering the interdependencies between different activities in the project schedule."
      ],
      "metadata": {
        "id": "VSCaFPkp-glq"
      }
    },
    {
      "cell_type": "code",
      "source": [
        "def create_finish_activity(activity_list):\n",
        "    # Create a placeholder finish activity\n",
        "    finish_activity = Activity(\"finish\", 0, [], 0, 0, 0)\n",
        "    max_early_finish = 0\n",
        "\n",
        "    # Iterate over the list of activities\n",
        "    for activity_name in activity_list:\n",
        "        activity = activity_list[activity_name]\n",
        "\n",
        "        # If the activity doesn't have any activities that come after it, add it to the dependencies of the finish activity\n",
        "        if len(activity.precedes) == 0:\n",
        "            finish_activity.depends_on.append(activity_name)\n",
        "\n",
        "        # Track the greatest early finish among all activities\n",
        "        if activity.early_finish > max_early_finish:\n",
        "            max_early_finish = activity.early_finish\n",
        "\n",
        "    # Set the early and late start/finish of the finish activity to the greatest early finish found\n",
        "    finish_activity.early_finish = max_early_finish\n",
        "    finish_activity.late_finish = max_early_finish\n",
        "    finish_activity.early_start = max_early_finish\n",
        "    finish_activity.late_start = max_early_finish\n",
        "\n",
        "    return finish_activity\n"
      ],
      "metadata": {
        "id": "G_q5JjLfO2GW"
      },
      "execution_count": 36,
      "outputs": []
    },
    {
      "cell_type": "markdown",
      "source": [
        "create_finish_activity takes in the activity_list, a dictionary containing all activities.\n",
        "It creates a placeholder finish_activity with default values for a task named \"finish\" and all time-related attributes initialized to 0.\n",
        "The function iterates through each activity in the activity_list.\n",
        "For each activity, if it doesn't have any activities that come after it (len(activity.precedes) == 0), it means it's a final activity in the sequence. Thus, it's added to the dependencies of the finish_activity.\n",
        "Meanwhile, it keeps track of the maximum early finish time encountered among all activities.\n",
        "Finally, it sets the early and late start/finish of the finish_activity to the maximum early finish found among all activities.\n",
        "The function then returns this finish_activity."
      ],
      "metadata": {
        "id": "tXQm605gO2OK"
      }
    },
    {
      "cell_type": "code",
      "source": [
        "def compute_late_start_and_finish(finish_activity, activity_list):\n",
        "    # Get the list of activities that precede the finish activity\n",
        "    precedent_activities = finish_activity.depends_on\n",
        "    # If there is no preceding activity, return\n",
        "    if precedent_activities is None:\n",
        "        return finish_activity\n",
        "    # Iterate over each preceding activity\n",
        "    for activity_name in precedent_activities:\n",
        "        # Get the activity object for easy manipulation\n",
        "        activity = activity_list[activity_name]\n",
        "        # If the activity's late finish is not set, set it to the late start of the finish activity\n",
        "        if activity.late_finish is None:\n",
        "            activity.late_finish = finish_activity.late_start\n",
        "        # Otherwise, if activity's late finish is greater than the finish activity's late start,\n",
        "        # Set the activity's late finish to the finish activity's late start.\n",
        "        else:\n",
        "            if activity.late_finish > finish_activity.late_start:\n",
        "                activity.late_finish = finish_activity.late_start\n",
        "        activity.late_start = activity.late_finish - activity.duration\n",
        "        activity.total_float = activity.late_finish - activity.early_finish\n",
        "        compute_late_start_and_finish(activity, activity_list)\n",
        "\n",
        "\n",
        "def populate_early_start_and_finish_of_all_activities(activity_list):\n",
        "    for activity in activity_list:\n",
        "        compute_early_start_and_finish(activity_list[activity], activity_list)\n",
        "\n",
        "\n",
        "# Compute early start and finish for all activities\n",
        "populate_early_start_and_finish_of_all_activities(activity_list1)\n",
        "# Create finish activity\n",
        "finish_activity = create_finish_activity(activity_list1);\n",
        "# Compute late start and finish for all activities given the finish activity\n",
        "compute_late_start_and_finish(finish_activity, activity_list1)\n",
        "\n",
        "# Compute percent complete by analysis week\n",
        "for activity_name in activity_list1:\n",
        "    # Calculate complete % by analysis week\n",
        "    activity = activity_list1[activity_name]\n",
        "    activity.bcwp = convert_decimal_to_currency(convert_currency_to_decimal(activity.planned_cost) * (\n",
        "            Decimal(activity.actual_complete) / Decimal('100.00')))\n",
        "    if convert_currency_to_decimal(activity.acwp) != 0.00:\n",
        "        activity.cpi = \"{:.2f}\".format(\n",
        "            convert_currency_to_decimal(activity.bcwp) / convert_currency_to_decimal(activity.acwp))\n",
        "    else:\n",
        "        activity.cpi = Decimal(\"0.00\")\n",
        "    activity.cv = convert_decimal_to_currency(\n",
        "        convert_currency_to_decimal(activity.bcwp) - convert_currency_to_decimal(activity.acwp))\n",
        "    percent_complete = (analysis_week - activity.early_start) / activity.duration\n",
        "    if percent_complete <= 0:\n",
        "        percent_complete = 0\n",
        "    elif percent_complete >= 1:\n",
        "        percent_complete = 1\n",
        "    # percent_complete = \"{:.2f}\".format(percent_complete)\n",
        "    activity.bcws = convert_decimal_to_currency(\n",
        "        convert_currency_to_decimal(activity.planned_cost) * Decimal(percent_complete))\n",
        "    if convert_currency_to_decimal(activity.bcws) != 0.00:\n",
        "        activity.spi = \"{:.2f}\".format(\n",
        "            convert_currency_to_decimal(activity.bcwp) / convert_currency_to_decimal(activity.bcws))\n",
        "    else:\n",
        "        activity.spi = Decimal(\"0.00\")\n",
        "    activity.sv = convert_decimal_to_currency(\n",
        "        convert_currency_to_decimal(activity.bcwp) - convert_currency_to_decimal(activity.bcws))\n",
        "    # Calculate actual duration till now and revised duration\n",
        "    actual_duration_till_now = 0\n",
        "    if activity.early_start < analysis_week:\n",
        "        if activity.actual_complete < 100:\n",
        "            actual_duration_till_now = analysis_week - activity.early_start\n",
        "        else:\n",
        "            if activity.early_finish < analysis_week:\n",
        "                actual_duration_till_now = activity.duration\n",
        "            else:\n",
        "                actual_duration_till_now = analysis_week - activity.early_start\n",
        "    else:\n",
        "        actual_duration_till_now = 0\n",
        "    activity.actual_duration_till_now = actual_duration_till_now\n",
        "    # print(activity.actual_complete/100)\n",
        "    if activity.actual_complete != 0.00:\n",
        "        activity.revised_duration = int(ceil_div(activity.actual_duration_till_now, (activity.actual_complete / 100)))\n",
        "    else:\n",
        "        activity.revised_duration = activity.duration"
      ],
      "metadata": {
        "id": "z2k0ZogqPPIP"
      },
      "execution_count": 37,
      "outputs": []
    },
    {
      "cell_type": "markdown",
      "source": [
        "This code sequence performs a series of functions and calculations related to project management. It initializes and computes various attributes of activities, including early start/finish, late start/finish, and several project metrics such as BCWP, CPI, CV, BCWS, SPI, SV, actual duration till now, and revised duration based on the completion percentage and analysis week."
      ],
      "metadata": {
        "id": "waN3I6duBM3z"
      }
    },
    {
      "cell_type": "code",
      "source": [
        "# Initialize data structures for storing project management metrics\n",
        "data = {\"Task\": [], \"ACWP\": [], \"BCWP\": [], \"BCWS\": [], \"SPI\": [], \"SV\": [], \"CPI\": [], \"CV\": []}\n",
        "ev_graph_values_data = {\"Task\": [], \"Planned Duration\": [], \"Actual Duration till now\": [], \"BCWS/Week\": [],\n",
        "                        \"ACWP/Week\": [], \"BCWP/Week\": []}\n",
        "bcws_graph_data = {}  # Stores BCWS (Budgeted Cost of Work Scheduled) graph data\n",
        "acwp_graph_data = {}  # Stores ACWP (Actual Cost of Work Performed) graph data\n",
        "bcwp_graph_data = {}  # Stores BCWP (Budgeted Cost of Work Performed) graph data\n",
        "\n",
        "# Loop through all activities to gather and calculate metrics for the project\n",
        "for activity_name in activity_list1:\n",
        "    activity = activity_list1[activity_name]\n",
        "\n",
        "    # Store project metrics in the data dictionary\n",
        "    data[\"Task\"].append(activity_name)\n",
        "    data[\"ACWP\"].append(activity.acwp)\n",
        "    data[\"BCWP\"].append(activity.bcwp)\n",
        "    data[\"BCWS\"].append(activity.bcws)\n",
        "    data[\"SPI\"].append(activity.spi)\n",
        "    data[\"SV\"].append(activity.sv)\n",
        "    data[\"CPI\"].append(activity.cpi)\n",
        "    data[\"CV\"].append(activity.cv)\n",
        "\n",
        "    # Calculate and store EV (Earned Value) graph values\n",
        "    ev_graph_values_data[\"Task\"].append(activity.name)\n",
        "    ev_graph_values_data[\"Planned Duration\"].append(activity.duration)\n",
        "    ev_graph_values_data[\"Actual Duration till now\"].append(activity.actual_duration_till_now)\n",
        "\n",
        "    bcws_per_week = convert_currency_to_decimal(activity.planned_cost) / activity.duration\n",
        "    ev_graph_values_data[\"BCWS/Week\"].append(convert_decimal_to_currency(bcws_per_week))\n",
        "\n",
        "    if activity.actual_duration_till_now != 0.00:\n",
        "        acwp_per_week = convert_currency_to_decimal(activity.acwp) / activity.actual_duration_till_now\n",
        "    else:\n",
        "        acwp_per_week = 0.00\n",
        "    ev_graph_values_data[\"ACWP/Week\"].append(convert_decimal_to_currency(acwp_per_week))\n",
        "\n",
        "    if activity.actual_duration_till_now != 0.00:\n",
        "        bcwp_per_week = convert_currency_to_decimal(activity.bcwp) / activity.actual_duration_till_now\n",
        "    else:\n",
        "        bcwp_per_week = 0.00\n",
        "    ev_graph_values_data[\"BCWP/Week\"].append(convert_decimal_to_currency(bcwp_per_week))\n",
        "\n",
        "    # Calculate and store BCWS, ACWP, BCWP graph data for each activity\n",
        "    bcws_graph_data[activity.name] = []\n",
        "    for i in range(finish_activity.early_finish):\n",
        "        if i >= activity.early_start and i < activity.early_finish:\n",
        "            bcws_graph_data[activity.name].append(bcws_per_week)\n",
        "        else:\n",
        "            bcws_graph_data[activity.name].append(Decimal(0))\n",
        "\n",
        "    acwp_graph_data[activity.name] = []\n",
        "    for i in range(analysis_week):\n",
        "        if i >= activity.early_start and i < activity.early_finish:\n",
        "            acwp_graph_data[activity.name].append(acwp_per_week)\n",
        "        else:\n",
        "            acwp_graph_data[activity.name].append(Decimal(0))\n",
        "\n",
        "    bcwp_graph_data[activity.name] = []\n",
        "    for i in range(analysis_week):\n",
        "        if i >= activity.early_start and i < activity.early_finish:\n",
        "            bcwp_graph_data[activity.name].append(bcwp_per_week)\n",
        "        else:\n",
        "            bcwp_graph_data[activity.name].append(Decimal(0))\n"
      ],
      "metadata": {
        "id": "HD_Ofe29PPMN"
      },
      "execution_count": 38,
      "outputs": []
    },
    {
      "cell_type": "markdown",
      "source": [
        "This block initializes dictionaries (data, ev_graph_values_data, bcws_graph_data, acwp_graph_data, bcwp_graph_data) to store project management metrics and graph data related to activities.\n",
        "It iterates through each activity in activity_list1.\n",
        "For each activity:\n",
        "Collects project metrics such as ACWP, BCWP, BCWS, SPI, SV, CPI, and CV into the data dictionary.\n",
        "Calculates and collects EV graph values (Planned Duration, Actual Duration till now, BCWS/Week, ACWP/Week, BCWP/Week) into the ev_graph_values_data dictionary.\n",
        "Calculates and stores BCWS, ACWP, BCWP graph data into respective dictionaries (bcws_graph_data, acwp_graph_data, bcwp_graph_data) for each activity based on their time frame (early_start and early_finish). These graphs show values over time for each activity."
      ],
      "metadata": {
        "id": "Ol50OuhNBo_0"
      }
    },
    {
      "cell_type": "code",
      "source": [
        "def populateCummulatives(graph_data):\n",
        "    cummulative = []  # Initialize an empty list to store cumulative values\n",
        "    first_activity_name = \"\"  # Initialize a variable to store the first activity name\n",
        "\n",
        "    # Loop through activity names in graph_data to find the first activity\n",
        "    for activity_name in graph_data:\n",
        "        first_activity_name = activity_name  # Set the first activity name\n",
        "        break  # Exit the loop after the first activity name is obtained\n",
        "\n",
        "    sum = 0  # Initialize a variable to store the cumulative sum\n",
        "\n",
        "    # Loop through the range of data for the first activity\n",
        "    for i in range(len(graph_data[first_activity_name])):\n",
        "        # Loop through each activity in graph_data to calculate the cumulative sum for each index\n",
        "        for activity_name in graph_data:\n",
        "            sum = sum + graph_data[activity_name][i]  # Add the value of each activity at index i to the sum\n",
        "        cummulative.append(sum)  # Append the cumulative sum to the cummulative list\n",
        "\n",
        "    return cummulative  # Return the list of cumulative sums for each index\n"
      ],
      "metadata": {
        "id": "2Wot9UUIO2dt"
      },
      "execution_count": 39,
      "outputs": []
    },
    {
      "cell_type": "markdown",
      "source": [
        "The function populateCummulatives takes in a dictionary graph_data, which contains numerical data related to different activities.\n",
        "It creates an empty list cummulative to store the calculated cumulative values.\n",
        "It initializes first_activity_name to store the name of the first activity encountered in graph_data.\n",
        "The function calculates the cumulative sum for each index across all activities in graph_data and stores these cumulative sums in the cummulative list.\n",
        "It returns the list containing cumulative sums corresponding to each index across activities."
      ],
      "metadata": {
        "id": "-VhYEJf4B7-d"
      }
    },
    {
      "cell_type": "code",
      "source": [
        "# Initialize variables to store total values for different metrics\n",
        "total_acwp = 0\n",
        "total_bcwp = 0\n",
        "total_bcws = 0\n",
        "\n",
        "# Calculate total ACWP (Actual Cost of Work Performed)\n",
        "for acwp in data[\"ACWP\"]:\n",
        "    total_acwp = total_acwp + convert_currency_to_decimal(acwp)\n",
        "\n",
        "# Calculate total BCWP (Budgeted Cost of Work Performed)\n",
        "for bcwp in data[\"BCWP\"]:\n",
        "    total_bcwp = total_bcwp + convert_currency_to_decimal(bcwp)\n",
        "\n",
        "# Calculate total BCWS (Budgeted Cost of Work Scheduled)\n",
        "for bcws in data[\"BCWS\"]:\n",
        "    total_bcws = total_bcws + convert_currency_to_decimal(bcws)\n",
        "\n",
        "# Calculate total SPI (Schedule Performance Index)\n",
        "if total_bcws != 0.00:\n",
        "    total_spi = total_bcwp / total_bcws\n",
        "else:\n",
        "    total_spi = 0.00\n",
        "\n",
        "# Calculate total SV (Schedule Variance)\n",
        "total_sv = total_bcwp - total_bcws\n",
        "\n",
        "# Calculate total CPI (Cost Performance Index)\n",
        "if total_acwp != 0.00:\n",
        "    total_cpi = total_bcwp / total_acwp\n",
        "else:\n",
        "    total_cpi = 0.00\n",
        "\n",
        "# Calculate total CV (Cost Variance)\n",
        "total_cv = total_bcwp - total_acwp\n",
        "\n",
        "# Append aggregated totals to the data dictionary\n",
        "data[\"Task\"].append(\"Total\")\n",
        "data[\"ACWP\"].append(convert_decimal_to_currency(total_acwp))\n",
        "data[\"BCWP\"].append(convert_decimal_to_currency(total_bcwp))\n",
        "data[\"BCWS\"].append(convert_decimal_to_currency(total_bcws))\n",
        "data[\"SPI\"].append(\"{:.2f}\".format(total_spi))\n",
        "data[\"SV\"].append(convert_decimal_to_currency(total_sv))\n",
        "data[\"CPI\"].append(\"{:.2f}\".format(total_cpi))\n",
        "data[\"CV\"].append(convert_decimal_to_currency(total_cv))\n",
        "\n",
        "# Create a DataFrame with the updated data\n",
        "new_df = pd.DataFrame(data)\n",
        "\n",
        "# Display the DataFrame\n",
        "print(f\"EV Analysis at week {analysis_week}\")\n",
        "print(new_df)\n",
        "print(\"\")\n"
      ],
      "metadata": {
        "id": "qqXP38rJB_XV",
        "colab": {
          "base_uri": "https://localhost:8080/"
        },
        "outputId": "1b1a3da6-fdc1-4d49-e833-9c71b0e90e4f"
      },
      "execution_count": 40,
      "outputs": [
        {
          "output_type": "stream",
          "name": "stdout",
          "text": [
            "EV Analysis at week 4\n",
            "    Task       ACWP       BCWP       BCWS   SPI        SV   CPI          CV\n",
            "0      A      $600     $700.00    $700.00  1.00     $0.00  1.17     $100.00\n",
            "1      B      $600     $240.00    $720.00  0.33  $-480.00  0.40    $-360.00\n",
            "2      C        $0       $0.00      $0.00  0.00     $0.00  0.00       $0.00\n",
            "3      D        $0       $0.00      $0.00  0.00     $0.00  0.00       $0.00\n",
            "4      E    $1,000     $400.00    $800.00  0.50  $-400.00  0.40    $-600.00\n",
            "5      F    $2,200   $1,400.07    $700.00  2.00   $700.07  0.64    $-799.93\n",
            "6      G    $1,800   $2,100.00  $1,260.00  1.67   $840.00  1.17     $300.00\n",
            "7  Total  $6,200.00  $4,840.07  $4,180.00  1.16   $660.07  0.78  $-1,359.93\n",
            "\n"
          ]
        }
      ]
    },
    {
      "cell_type": "markdown",
      "source": [
        "Total Calculation:\n",
        "\n",
        "Three loops calculate the total values for ACWP, BCWP, and BCWS by summing up their respective values across all activities.\n",
        "SPI (Schedule Performance Index), SV (Schedule Variance), CPI (Cost Performance Index), and CV (Cost Variance) are calculated using formulas based on the aggregated values.\n",
        "Appending Totals to Data:\n",
        "\n",
        "The aggregated totals for each metric are appended to the data dictionary under the \"Total\" task.\n",
        "DataFrame Creation:\n",
        "\n",
        "A new DataFrame (new_df) is created from the updated data dictionary.\n",
        "Printing Results:\n",
        "\n",
        "The code prints a header indicating the analysis week and then prints the newly created DataFrame to display the project management metrics for all activities, including the aggregated totals under the \"Total\" task."
      ],
      "metadata": {
        "id": "A9HvFBMTCyKj"
      }
    },
    {
      "cell_type": "code",
      "source": [
        "# Calculate cumulative values for BCWS, ACWP, and BCWP using populateCummulatives function\n",
        "bcws_cummulatives = populateCummulatives(bcws_graph_data)\n",
        "acwp_cummulatives = populateCummulatives(acwp_graph_data)\n",
        "bcwp_cummulatives = populateCummulatives(bcwp_graph_data)\n",
        "\n",
        "# Generate lists representing weeks (time) for plotting\n",
        "weeks = []\n",
        "for i in range(1, finish_activity.early_finish + 1):\n",
        "    weeks.append(i)\n",
        "\n",
        "weeks_for_acwp = []\n",
        "for i in range(1, analysis_week + 1):\n",
        "    weeks_for_acwp.append(i)\n",
        "\n",
        "# Plot the EV graph using Matplotlib\n",
        "plt.plot(weeks, bcws_cummulatives, label=\"BCWS\", marker=\"*\")\n",
        "plt.plot(weeks_for_acwp, acwp_cummulatives, label=\"ACWP\", marker=\"s\")\n",
        "plt.plot(weeks_for_acwp, bcwp_cummulatives, label=\"BCWP\", marker=\"^\")\n",
        "plt.title(\"EV Graph\")\n",
        "plt.xlabel(\"Duration (Weeks)\")\n",
        "plt.ylabel(\"Cummulative Cost\")\n",
        "plt.legend()\n",
        "plt.show()\n",
        "\n",
        "# Create a DataFrame to display EV graph values\n",
        "ev_graph_df = pd.DataFrame(ev_graph_values_data)\n",
        "print(f\"EV Graph Values at week {analysis_week}\")\n",
        "print(ev_graph_df)\n",
        "print(\"\")\n"
      ],
      "metadata": {
        "id": "ydIGeSBBC7rL",
        "colab": {
          "base_uri": "https://localhost:8080/",
          "height": 646
        },
        "outputId": "f7b3635b-a589-4bdd-eb37-746b0942315e"
      },
      "execution_count": 41,
      "outputs": [
        {
          "output_type": "display_data",
          "data": {
            "text/plain": [
              "<Figure size 640x480 with 1 Axes>"
            ],
            "image/png": "[encoded data removed]"
          },
          "metadata": {}
        },
        {
          "output_type": "stream",
          "name": "stdout",
          "text": [
            "EV Graph Values at week 4\n",
            "  Task  Planned Duration  Actual Duration till now BCWS/Week  ACWP/Week  BCWP/Week\n",
            "0    A                 1                         1   $700.00    $600.00    $700.00\n",
            "1    B                 5                         3   $240.00    $200.00     $80.00\n",
            "2    C                 2                         0   $650.00      $0.00      $0.00\n",
            "3    D                 2                         0   $500.00      $0.00      $0.00\n",
            "4    E                 2                         3   $400.00    $333.33    $133.33\n",
            "5    F                 3                         1   $700.00  $2,200.00  $1,400.07\n",
            "6    G                 5                         3   $420.00    $600.00    $700.00\n",
            "\n"
          ]
        }
      ]
    },
    {
      "cell_type": "markdown",
      "source": [
        "Calculation of Cumulative Values:\n",
        "\n",
        "populateCummulatives function is used to calculate cumulative values for BCWS, ACWP, and BCWP using data from bcws_graph_data, acwp_graph_data, and bcwp_graph_data.\n",
        "Weeks Generation:\n",
        "\n",
        "Lists (weeks, weeks_for_acwp) are generated to represent weeks or time intervals for plotting the EV graph. These lists are used as x-axis values.\n",
        "Plotting the EV Graph:\n",
        "\n",
        "Matplotlib (plt) is used to plot the EV graph. It generates lines representing cumulative costs over time for BCWS, ACWP, and BCWP.\n",
        "The graph is labeled and customized with a title, axis labels, and a legend.\n",
        "Displaying EV Graph Values:\n",
        "\n",
        "A DataFrame (ev_graph_df) is created using the data in ev_graph_values_data.\n",
        "The code prints the DataFrame, displaying the EV graph values calculated at the specified analysis week."
      ],
      "metadata": {
        "id": "j79qvSimDPRT"
      }
    },
    {
      "cell_type": "code",
      "source": [
        "# Initialize total planned cost variable\n",
        "total_planned_cost = 0\n",
        "\n",
        "# Calculate total planned cost by summing up planned costs of all activities\n",
        "for activity_name in activity_list1:\n",
        "    activity = activity_list1[activity_name]\n",
        "    total_planned_cost = total_planned_cost + convert_currency_to_decimal(activity.planned_cost)\n",
        "\n",
        "# Calculate estimate at completion (EAC) using Cost Performance Index (CPI)\n",
        "estimate_at_completion = total_planned_cost / Decimal(\"{:.2f}\".format(total_cpi))\n",
        "\n",
        "# Calculate Project Duration and Estimated Project Duration using Schedule Performance Index (SPI)\n",
        "project_duration = finish_activity.early_finish\n",
        "estimated_project_duration = \"{:.2f}\".format(project_duration / total_spi)\n",
        "\n",
        "# Print the calculated estimates\n",
        "print(f\"Estimate at completion: {convert_decimal_to_currency(estimate_at_completion)}\")\n",
        "print(f'Estimated Project Duration: {estimated_project_duration}')\n",
        "\n",
        "# Create a deep copy of the activity list\n",
        "copied_activity_list = copy.deepcopy(activity_list1)\n",
        "\n",
        "# Set Duration of copied activities to revised duration and reset parameters for re-computation\n",
        "for activity_name in copied_activity_list:\n",
        "    activity = copied_activity_list[activity_name]\n",
        "    activity.duration = activity.revised_duration\n",
        "    activity.early_start = None\n",
        "    activity.early_finish = None\n",
        "    activity.late_start = None\n",
        "    activity.late_finish = None\n",
        "    activity.total_float = None\n",
        "    activity.precedes = []\n",
        "\n",
        "# Compute early start and finish for all activities in the copied list\n",
        "populate_early_start_and_finish_of_all_activities(copied_activity_list)\n",
        "\n",
        "# Create finish activity for the copied list\n",
        "copied_finish_activity = create_finish_activity(copied_activity_list)\n",
        "\n",
        "# Compute late start and finish for all activities in the copied list\n",
        "compute_late_start_and_finish(copied_finish_activity, copied_activity_list)\n",
        "\n",
        "# Initialize a dictionary to store revised scheduling data\n",
        "updated_schedule_data = {\"Task\": [], \"Duration\": [], \"ESo\": [], \"EFo\": [], \"LSo\": [], \"LFo\": [],\n",
        "                         \"Revised Duration\": [], \"ESr\": [], \"EFr\": [], \"LSr\": [], \"LFr\": []}\n"
      ],
      "metadata": {
        "id": "97kT6xe5DSv1",
        "colab": {
          "base_uri": "https://localhost:8080/"
        },
        "outputId": "a6dd9853-b97d-464a-b1c8-9086bf7c5dc0"
      },
      "execution_count": 42,
      "outputs": [
        {
          "output_type": "stream",
          "name": "stdout",
          "text": [
            "Estimate at completion: $11,794.87\n",
            "Estimated Project Duration: 8.64\n"
          ]
        }
      ]
    },
    {
      "cell_type": "markdown",
      "source": [
        "Total Planned Cost Calculation:\n",
        "\n",
        "Calculates the total planned cost by summing up the planned costs of all activities in activity_list1.\n",
        "Estimate at Completion (EAC):\n",
        "\n",
        "Uses the Cost Performance Index (CPI) to estimate the total cost required for project completion (estimate_at_completion).\n",
        "Project Duration and Estimated Project Duration:\n",
        "\n",
        "Calculates the project duration and the estimated project duration using the Schedule Performance Index (SPI).\n",
        "Manipulation of Copied Activity List:\n",
        "\n",
        "Creates a deep copy of the activity list and modifies it by setting activity durations to revised durations and resetting parameters for re-computation.\n",
        "Computation of Early and Late Start/Finish:\n",
        "\n",
        "Calculates the early start and finish for activities in the copied list, creates a finish activity, and computes the late start and finish times for all activities.\n",
        "Initialization of Revised Scheduling Data:\n",
        "\n",
        "Initializes an empty dictionary updated_schedule_data to store revised scheduling information."
      ],
      "metadata": {
        "id": "m9NbHk9QYaF2"
      }
    },
    {
      "cell_type": "code",
      "source": [
        "# Loop through each activity in activity_list1 and copied_activity_list\n",
        "for activity_name in activity_list1:\n",
        "    # Get the original activity and its corresponding revised activity from the copied list\n",
        "    activity = activity_list1[activity_name]\n",
        "    revised_activity = copied_activity_list[activity_name]\n",
        "\n",
        "    # Append scheduling data for both original and revised activities to updated_schedule_data dictionary\n",
        "    updated_schedule_data[\"Task\"].append(activity.name)\n",
        "    updated_schedule_data[\"Duration\"].append(activity.duration)\n",
        "    updated_schedule_data[\"ESo\"].append(activity.early_start)\n",
        "    updated_schedule_data[\"EFo\"].append(activity.early_finish)\n",
        "    updated_schedule_data[\"LSo\"].append(activity.late_start)\n",
        "    updated_schedule_data[\"LFo\"].append(activity.late_finish)\n",
        "    updated_schedule_data[\"Revised Duration\"].append(revised_activity.duration)\n",
        "    updated_schedule_data[\"ESr\"].append(revised_activity.early_start)\n",
        "    updated_schedule_data[\"EFr\"].append(revised_activity.early_finish)\n",
        "    updated_schedule_data[\"LSr\"].append(revised_activity.late_start)\n",
        "    updated_schedule_data[\"LFr\"].append(revised_activity.late_finish)\n",
        "\n",
        "# Create a DataFrame from updated_schedule_data\n",
        "revised_schedule_df = pd.DataFrame(updated_schedule_data)\n",
        "\n",
        "# Print the revised schedule DataFrame\n",
        "print(\"\")\n",
        "print(f\"Revised Schedule at week {analysis_week}\")\n",
        "print(revised_schedule_df)\n"
      ],
      "metadata": {
        "colab": {
          "base_uri": "https://localhost:8080/"
        },
        "id": "V4gd9zGwYbUB",
        "outputId": "293e6409-b2d0-4dad-a9f0-89be329e8e73"
      },
      "execution_count": 43,
      "outputs": [
        {
          "output_type": "stream",
          "name": "stdout",
          "text": [
            "\n",
            "Revised Schedule at week 4\n",
            "  Task  Duration  ESo  EFo  LSo  LFo  Revised Duration  ESr  EFr  LSr  LFr\n",
            "0    A         1    0    1    0    1                 1    0    1    0    1\n",
            "1    B         5    1    6    1    6                15    1   16    1   16\n",
            "2    C         2    6    8    6    8                 2   16   18   16   18\n",
            "3    D         2    8   10    8   10                 2   18   20   18   20\n",
            "4    E         2    1    3    3    5                 6    1    7   10   16\n",
            "5    F         3    3    6    5    8                 2    7    9   16   18\n",
            "6    G         5    1    6    3    8                 3    1    4   15   18\n"
          ]
        }
      ]
    },
    {
      "cell_type": "markdown",
      "source": [
        "Iteration through Activities:\n",
        "\n",
        "The loop iterates through each activity in activity_list1.\n",
        "For each activity, it retrieves scheduling-related data such as name, duration, early start/finish, and late start/finish from both the original activity_list1 and the revised copied_activity_list.\n",
        "Data Collection:\n",
        "\n",
        "Data from the original and revised activities are appended into the updated_schedule_data dictionary under specific keys representing different scheduling attributes.\n",
        "DataFrame Creation:\n",
        "\n",
        "Once the loop completes, a DataFrame revised_schedule_df is created using the collected scheduling data stored in the updated_schedule_data dictionary.\n",
        "Displaying Revised Schedule:\n",
        "\n",
        "Finally, the code prints the DataFrame displaying the revised scheduling information for each activity at the specified analysis week.\n",
        "This code segment essentially collects scheduling details for each activity, both from the original and revised versions, and organizes this information into a DataFrame for easy visualization and comparison of the revised schedule."
      ],
      "metadata": {
        "id": "MkKvienQYyZq"
      }
    }
  ]
}