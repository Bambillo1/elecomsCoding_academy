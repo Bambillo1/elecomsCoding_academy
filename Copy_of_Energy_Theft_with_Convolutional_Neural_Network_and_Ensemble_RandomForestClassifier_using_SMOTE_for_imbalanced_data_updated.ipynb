{
  "cells": [
    {
      "cell_type": "markdown",
      "metadata": {
        "id": "view-in-github",
        "colab_type": "text"
      },
      "source": [
        "<a href=\"https://colab.research.google.com/github/Bambillo1/elecomsCoding_academy/blob/main/Copy_of_Energy_Theft_with_Convolutional_Neural_Network_and_Ensemble_RandomForestClassifier_using_SMOTE_for_imbalanced_data_updated.ipynb\" target=\"_parent\"><img src=\"https://colab.research.google.com/assets/colab-badge.svg\" alt=\"Open In Colab\"/></a>"
      ]
    },
    {
      "cell_type": "markdown",
      "metadata": {
        "id": "fiz4p8Wk7U3j"
      },
      "source": [
        "#Import Libraries"
      ],
      "id": "fiz4p8Wk7U3j"
    },
    {
      "cell_type": "code",
      "execution_count": null,
      "metadata": {
        "colab": {
          "base_uri": "https://localhost:8080/"
        },
        "id": "honey-price",
        "outputId": "d5f309c9-3dc3-43db-959b-3fcf30f7d67c"
      },
      "outputs": [
        {
          "name": "stdout",
          "output_type": "stream",
          "text": [
            "Collecting plot-metric\n",
            "  Downloading plot_metric-0.0.6-py3-none-any.whl (13 kB)\n",
            "Requirement already satisfied: scipy>=1.1.0 in /usr/local/lib/python3.10/dist-packages (from plot-metric) (1.11.4)\n",
            "Requirement already satisfied: matplotlib>=3.0.2 in /usr/local/lib/python3.10/dist-packages (from plot-metric) (3.7.1)\n",
            "Requirement already satisfied: colorlover>=0.3.0 in /usr/local/lib/python3.10/dist-packages (from plot-metric) (0.3.0)\n",
            "Requirement already satisfied: pandas>=0.23.4 in /usr/local/lib/python3.10/dist-packages (from plot-metric) (1.5.3)\n",
            "Requirement already satisfied: seaborn>=0.9.0 in /usr/local/lib/python3.10/dist-packages (from plot-metric) (0.12.2)\n",
            "Requirement already satisfied: numpy>=1.15.4 in /usr/local/lib/python3.10/dist-packages (from plot-metric) (1.23.5)\n",
            "Requirement already satisfied: scikit-learn>=0.21.2 in /usr/local/lib/python3.10/dist-packages (from plot-metric) (1.2.2)\n",
            "Requirement already satisfied: contourpy>=1.0.1 in /usr/local/lib/python3.10/dist-packages (from matplotlib>=3.0.2->plot-metric) (1.2.0)\n",
            "Requirement already satisfied: cycler>=0.10 in /usr/local/lib/python3.10/dist-packages (from matplotlib>=3.0.2->plot-metric) (0.12.1)\n",
            "Requirement already satisfied: fonttools>=4.22.0 in /usr/local/lib/python3.10/dist-packages (from matplotlib>=3.0.2->plot-metric) (4.47.0)\n",
            "Requirement already satisfied: kiwisolver>=1.0.1 in /usr/local/lib/python3.10/dist-packages (from matplotlib>=3.0.2->plot-metric) (1.4.5)\n",
            "Requirement already satisfied: packaging>=20.0 in /usr/local/lib/python3.10/dist-packages (from matplotlib>=3.0.2->plot-metric) (23.2)\n",
            "Requirement already satisfied: pillow>=6.2.0 in /usr/local/lib/python3.10/dist-packages (from matplotlib>=3.0.2->plot-metric) (9.4.0)\n",
            "Requirement already satisfied: pyparsing>=2.3.1 in /usr/local/lib/python3.10/dist-packages (from matplotlib>=3.0.2->plot-metric) (3.1.1)\n",
            "Requirement already satisfied: python-dateutil>=2.7 in /usr/local/lib/python3.10/dist-packages (from matplotlib>=3.0.2->plot-metric) (2.8.2)\n",
            "Requirement already satisfied: pytz>=2020.1 in /usr/local/lib/python3.10/dist-packages (from pandas>=0.23.4->plot-metric) (2023.3.post1)\n",
            "Requirement already satisfied: joblib>=1.1.1 in /usr/local/lib/python3.10/dist-packages (from scikit-learn>=0.21.2->plot-metric) (1.3.2)\n",
            "Requirement already satisfied: threadpoolctl>=2.0.0 in /usr/local/lib/python3.10/dist-packages (from scikit-learn>=0.21.2->plot-metric) (3.2.0)\n",
            "Requirement already satisfied: six>=1.5 in /usr/local/lib/python3.10/dist-packages (from python-dateutil>=2.7->matplotlib>=3.0.2->plot-metric) (1.16.0)\n",
            "Installing collected packages: plot-metric\n",
            "Successfully installed plot-metric-0.0.6\n"
          ]
        },
        {
          "name": "stderr",
          "output_type": "stream",
          "text": [
            "WARNING:tensorflow:From /usr/local/lib/python3.10/dist-packages/tensorflow/python/compat/v2_compat.py:108: disable_resource_variables (from tensorflow.python.ops.variable_scope) is deprecated and will be removed in a future version.\n",
            "Instructions for updating:\n",
            "non-resource variables are not supported in the long term\n"
          ]
        },
        {
          "name": "stdout",
          "output_type": "stream",
          "text": [
            "Collecting plot-keras-history\n",
            "  Downloading plot_keras_history-1.1.38.tar.gz (11 kB)\n",
            "  Preparing metadata (setup.py) ... \u001b[?25l\u001b[?25hdone\n",
            "Requirement already satisfied: matplotlib in /usr/local/lib/python3.10/dist-packages (from plot-keras-history) (3.7.1)\n",
            "Requirement already satisfied: pandas in /usr/local/lib/python3.10/dist-packages (from plot-keras-history) (1.5.3)\n",
            "Requirement already satisfied: scipy in /usr/local/lib/python3.10/dist-packages (from plot-keras-history) (1.11.4)\n",
            "Collecting support_developer>=1.0.2 (from plot-keras-history)\n",
            "  Downloading support_developer-1.0.5.tar.gz (4.9 kB)\n",
            "  Preparing metadata (setup.py) ... \u001b[?25l\u001b[?25hdone\n",
            "Collecting sanitize_ml_labels>=1.0.48 (from plot-keras-history)\n",
            "  Downloading sanitize_ml_labels-1.0.51.tar.gz (322 kB)\n",
            "\u001b[2K     \u001b[90m━━━━━━━━━━━━━━━━━━━━━━━━━━━━━━━━━━━━━━━━\u001b[0m \u001b[32m322.5/322.5 kB\u001b[0m \u001b[31m5.4 MB/s\u001b[0m eta \u001b[36m0:00:00\u001b[0m\n",
            "\u001b[?25h  Preparing metadata (setup.py) ... \u001b[?25l\u001b[?25hdone\n",
            "Collecting compress_json (from sanitize_ml_labels>=1.0.48->plot-keras-history)\n",
            "  Downloading compress_json-1.0.10.tar.gz (6.4 kB)\n",
            "  Preparing metadata (setup.py) ... \u001b[?25l\u001b[?25hdone\n",
            "Requirement already satisfied: contourpy>=1.0.1 in /usr/local/lib/python3.10/dist-packages (from matplotlib->plot-keras-history) (1.2.0)\n",
            "Requirement already satisfied: cycler>=0.10 in /usr/local/lib/python3.10/dist-packages (from matplotlib->plot-keras-history) (0.12.1)\n",
            "Requirement already satisfied: fonttools>=4.22.0 in /usr/local/lib/python3.10/dist-packages (from matplotlib->plot-keras-history) (4.47.0)\n",
            "Requirement already satisfied: kiwisolver>=1.0.1 in /usr/local/lib/python3.10/dist-packages (from matplotlib->plot-keras-history) (1.4.5)\n",
            "Requirement already satisfied: numpy>=1.20 in /usr/local/lib/python3.10/dist-packages (from matplotlib->plot-keras-history) (1.23.5)\n",
            "Requirement already satisfied: packaging>=20.0 in /usr/local/lib/python3.10/dist-packages (from matplotlib->plot-keras-history) (23.2)\n",
            "Requirement already satisfied: pillow>=6.2.0 in /usr/local/lib/python3.10/dist-packages (from matplotlib->plot-keras-history) (9.4.0)\n",
            "Requirement already satisfied: pyparsing>=2.3.1 in /usr/local/lib/python3.10/dist-packages (from matplotlib->plot-keras-history) (3.1.1)\n",
            "Requirement already satisfied: python-dateutil>=2.7 in /usr/local/lib/python3.10/dist-packages (from matplotlib->plot-keras-history) (2.8.2)\n",
            "Requirement already satisfied: pytz>=2020.1 in /usr/local/lib/python3.10/dist-packages (from pandas->plot-keras-history) (2023.3.post1)\n",
            "Requirement already satisfied: six>=1.5 in /usr/local/lib/python3.10/dist-packages (from python-dateutil>=2.7->matplotlib->plot-keras-history) (1.16.0)\n",
            "Building wheels for collected packages: plot-keras-history, sanitize_ml_labels, support_developer, compress_json\n",
            "  Building wheel for plot-keras-history (setup.py) ... \u001b[?25l\u001b[?25hdone\n",
            "  Created wheel for plot-keras-history: filename=plot_keras_history-1.1.38-py3-none-any.whl size=9455 sha256=7caf542944c614c3b75dd19208cf1c9686fe6400439db0e0404215f18371f754\n",
            "  Stored in directory: /root/.cache/pip/wheels/2f/31/6c/bbc9703b7baa8bd3802a8aedd9e2f9e66941b0cf0d456ab4cc\n",
            "  Building wheel for sanitize_ml_labels (setup.py) ... \u001b[?25l\u001b[?25hdone\n",
            "  Created wheel for sanitize_ml_labels: filename=sanitize_ml_labels-1.0.51-py3-none-any.whl size=321865 sha256=6ca551ee34d21c3c35d90663d2d072bccb176157f2d9531bf82515acdc3f41ae\n",
            "  Stored in directory: /root/.cache/pip/wheels/30/9f/f5/37d037c39ac8b305590d5956f7021c6ca94b63c68be24f6841\n",
            "  Building wheel for support_developer (setup.py) ... \u001b[?25l\u001b[?25hdone\n",
            "  Created wheel for support_developer: filename=support_developer-1.0.5-py3-none-any.whl size=5630 sha256=3dfa7ac783fb0cacde871d87cc6fcd680b76fbfa36b40d6e56727c928a98c139\n",
            "  Stored in directory: /root/.cache/pip/wheels/b6/72/c8/3054a5897ba0713dfa7a941364d68cbd42b0755c8e2ec1c18c\n",
            "  Building wheel for compress_json (setup.py) ... \u001b[?25l\u001b[?25hdone\n",
            "  Created wheel for compress_json: filename=compress_json-1.0.10-py3-none-any.whl size=5817 sha256=47a87ac1020b71861d55ed049b4980ecf0c488d3556ffaa98836e5fbed563688\n",
            "  Stored in directory: /root/.cache/pip/wheels/7b/55/94/bc79987b855aac5990e0d015c2e604aa50bc5147673e98530c\n",
            "Successfully built plot-keras-history sanitize_ml_labels support_developer compress_json\n",
            "Installing collected packages: support_developer, compress_json, sanitize_ml_labels, plot-keras-history\n",
            "Successfully installed compress_json-1.0.10 plot-keras-history-1.1.38 sanitize_ml_labels-1.0.51 support_developer-1.0.5\n"
          ]
        }
      ],
      "source": [
        "#import libraries\n",
        "import pandas as pd\n",
        "import numpy as np\n",
        "import seaborn as sns\n",
        "import matplotlib.pyplot as plt\n",
        "import math\n",
        "import statistics\n",
        "import imblearn\n",
        "import plotly.express as px\n",
        "from imblearn.over_sampling import SMOTE\n",
        "from sklearn.preprocessing import StandardScaler, MinMaxScaler\n",
        "from sklearn.ensemble import RandomForestClassifier\n",
        "from sklearn.model_selection import train_test_split\n",
        "from sklearn.metrics import classification_report, accuracy_score\n",
        "from sklearn.metrics import confusion_matrix\n",
        "from sklearn.metrics import f1_score\n",
        "from sklearn.metrics import (auc, confusion_matrix, precision_recall_curve, precision_score, recall_score, roc_auc_score, roc_curve)\n",
        "!pip install plot-metric\n",
        "from plot_metric.functions import BinaryClassification\n",
        "\n",
        "from sklearn.model_selection import train_test_split\n",
        "from sklearn.metrics import accuracy_score\n",
        "from matplotlib import pyplot\n",
        "import matplotlib.pyplot as plt\n",
        "import matplotlib.pyplot as plot\n",
        "import pandas as pd\n",
        "import numpy as np\n",
        "\n",
        "from keras.models import Sequential\n",
        "from keras.layers import Dense\n",
        "from keras.layers import Dropout\n",
        "from keras.layers import Conv1D\n",
        "from keras.layers import Flatten\n",
        "import tensorflow as tf\n",
        "import tensorflow.compat.v1 as tf\n",
        "tf.disable_v2_behavior()\n",
        "from numpy import loadtxt\n",
        "import keras\n",
        "from tensorflow.keras import Sequential\n",
        "from tensorflow.keras.layers import Conv2D, MaxPooling2D, Dense, Activation, Dropout, Flatten, BatchNormalization\n",
        "from tensorflow.keras.optimizers import Adam, RMSprop, SGD\n",
        "from tensorflow.keras import Model\n",
        "from tensorflow.keras.callbacks import ModelCheckpoint,EarlyStopping,CSVLogger, LearningRateScheduler,ReduceLROnPlateau\n",
        "from tensorflow.keras.metrics import binary_crossentropy, TruePositives, TrueNegatives, FalsePositives, FalseNegatives, BinaryAccuracy, Precision, Recall, AUC\n",
        "!pip install plot-keras-history\n",
        "from tensorflow.keras.callbacks import ModelCheckpoint\n",
        "from plot_keras_history import plot_history\n",
        "from tensorflow. keras.utils import plot_model\n",
        "from tabulate import tabulate\n"
      ],
      "id": "honey-price"
    },
    {
      "cell_type": "markdown",
      "metadata": {
        "id": "QCJFfJiF8AIP"
      },
      "source": [
        "#Using google drive to import dataset into colab"
      ],
      "id": "QCJFfJiF8AIP"
    },
    {
      "cell_type": "code",
      "execution_count": null,
      "metadata": {
        "colab": {
          "base_uri": "https://localhost:8080/"
        },
        "id": "TPAmFZ7wt-if",
        "outputId": "4815c437-9373-419f-c989-d24eae089258"
      },
      "outputs": [
        {
          "name": "stdout",
          "output_type": "stream",
          "text": [
            "Mounted at /content/gdrive\n"
          ]
        }
      ],
      "source": [
        "#Using google drive to import dataset into colab\n",
        "from google.colab import drive\n",
        "drive.mount('/content/gdrive')"
      ],
      "id": "TPAmFZ7wt-if"
    },
    {
      "cell_type": "code",
      "execution_count": null,
      "metadata": {
        "colab": {
          "base_uri": "https://localhost:8080/"
        },
        "id": "Kp60fhKRVShi",
        "outputId": "c635ff21-8662-4ccb-9e94-434a5a156566"
      },
      "outputs": [
        {
          "name": "stdout",
          "output_type": "stream",
          "text": [
            "/usr/local/lib/python3.10/dist-packages/gdown/cli.py:121: FutureWarning: Option `--id` was deprecated in version 4.3.1 and will be removed in 5.0. You don't need to pass it anymore to use a file ID.\n",
            "  warnings.warn(\n",
            "Downloading...\n",
            "From: https://drive.google.com/uc?id=1pTpBfO1CwStFodOtIn_uzzNOWpAmQn_8\n",
            "To: /content/data.csv\n",
            "100% 175M/175M [00:07<00:00, 23.4MB/s]\n"
          ]
        }
      ],
      "source": [
        "!gdown --id 1pTpBfO1CwStFodOtIn_uzzNOWpAmQn_8"
      ],
      "id": "Kp60fhKRVShi"
    },
    {
      "cell_type": "markdown",
      "metadata": {
        "id": "lln8-MRq7cO6"
      },
      "source": [
        "# Web link from google drive that links dataset to this colab"
      ],
      "id": "lln8-MRq7cO6"
    },
    {
      "cell_type": "code",
      "execution_count": null,
      "metadata": {
        "id": "0eIB1rZruRgE"
      },
      "outputs": [],
      "source": [
        "#link from google drive that links dataset to this colab\n",
        "#!gdown  --id 1OIz8U3aymDeGDUIl83vyTFCPyfLulSgM"
      ],
      "id": "0eIB1rZruRgE"
    },
    {
      "cell_type": "markdown",
      "metadata": {
        "id": "Ig35qe474RQ2"
      },
      "source": [
        "#Data Exploration"
      ],
      "id": "Ig35qe474RQ2"
    },
    {
      "cell_type": "markdown",
      "metadata": {
        "id": "5SuwKgQyst72"
      },
      "source": [
        "##EDA\n",
        "\n",
        "###Using pandas read_csv module to read in data"
      ],
      "id": "5SuwKgQyst72"
    },
    {
      "cell_type": "code",
      "execution_count": null,
      "metadata": {
        "id": "amateur-entity"
      },
      "outputs": [],
      "source": [
        "#Using pandas read_csv module to read in data\n",
        "df = pd.read_csv('data.csv')"
      ],
      "id": "amateur-entity"
    },
    {
      "cell_type": "code",
      "execution_count": null,
      "metadata": {
        "colab": {
          "base_uri": "https://localhost:8080/",
          "height": 412
        },
        "id": "a7qi9EEL1r12",
        "outputId": "47f21f91-862d-4f0e-ad1d-d8a64e532edb"
      },
      "outputs": [
        {
          "data": {
            "text/html": [
              "\n",
              "  <div id=\"df-fa1696ae-d68d-41ab-8119-75985303b840\" class=\"colab-df-container\">\n",
              "    <div>\n",
              "<style scoped>\n",
              "    .dataframe tbody tr th:only-of-type {\n",
              "        vertical-align: middle;\n",
              "    }\n",
              "\n",
              "    .dataframe tbody tr th {\n",
              "        vertical-align: top;\n",
              "    }\n",
              "\n",
              "    .dataframe thead th {\n",
              "        text-align: right;\n",
              "    }\n",
              "</style>\n",
              "<table border=\"1\" class=\"dataframe\">\n",
              "  <thead>\n",
              "    <tr style=\"text-align: right;\">\n",
              "      <th></th>\n",
              "      <th>CONS_NO</th>\n",
              "      <th>FLAG</th>\n",
              "      <th>2014/1/1</th>\n",
              "      <th>2014/1/10</th>\n",
              "      <th>2014/1/11</th>\n",
              "      <th>2014/1/12</th>\n",
              "      <th>2014/1/13</th>\n",
              "      <th>2014/1/14</th>\n",
              "      <th>2014/1/15</th>\n",
              "      <th>2014/1/16</th>\n",
              "      <th>...</th>\n",
              "      <th>2016/9/28</th>\n",
              "      <th>2016/9/29</th>\n",
              "      <th>2016/9/3</th>\n",
              "      <th>2016/9/30</th>\n",
              "      <th>2016/9/4</th>\n",
              "      <th>2016/9/5</th>\n",
              "      <th>2016/9/6</th>\n",
              "      <th>2016/9/7</th>\n",
              "      <th>2016/9/8</th>\n",
              "      <th>2016/9/9</th>\n",
              "    </tr>\n",
              "  </thead>\n",
              "  <tbody>\n",
              "    <tr>\n",
              "      <th>0</th>\n",
              "      <td>0387DD8A07E07FDA6271170F86AD9151</td>\n",
              "      <td>1</td>\n",
              "      <td>NaN</td>\n",
              "      <td>NaN</td>\n",
              "      <td>NaN</td>\n",
              "      <td>NaN</td>\n",
              "      <td>NaN</td>\n",
              "      <td>NaN</td>\n",
              "      <td>NaN</td>\n",
              "      <td>NaN</td>\n",
              "      <td>...</td>\n",
              "      <td>10.12</td>\n",
              "      <td>9.96</td>\n",
              "      <td>16.92</td>\n",
              "      <td>7.60</td>\n",
              "      <td>27.22</td>\n",
              "      <td>18.05</td>\n",
              "      <td>26.47</td>\n",
              "      <td>18.75</td>\n",
              "      <td>17.84</td>\n",
              "      <td>14.92</td>\n",
              "    </tr>\n",
              "    <tr>\n",
              "      <th>1</th>\n",
              "      <td>01D6177B5D4FFE0CABA9EF17DAFC2B84</td>\n",
              "      <td>1</td>\n",
              "      <td>NaN</td>\n",
              "      <td>NaN</td>\n",
              "      <td>NaN</td>\n",
              "      <td>NaN</td>\n",
              "      <td>NaN</td>\n",
              "      <td>NaN</td>\n",
              "      <td>NaN</td>\n",
              "      <td>NaN</td>\n",
              "      <td>...</td>\n",
              "      <td>0.00</td>\n",
              "      <td>0.00</td>\n",
              "      <td>0.00</td>\n",
              "      <td>0.00</td>\n",
              "      <td>0.00</td>\n",
              "      <td>0.00</td>\n",
              "      <td>0.00</td>\n",
              "      <td>0.00</td>\n",
              "      <td>0.00</td>\n",
              "      <td>0.00</td>\n",
              "    </tr>\n",
              "    <tr>\n",
              "      <th>2</th>\n",
              "      <td>4B75AC4F2D8434CFF62DB64D0BB43103</td>\n",
              "      <td>1</td>\n",
              "      <td>NaN</td>\n",
              "      <td>NaN</td>\n",
              "      <td>NaN</td>\n",
              "      <td>NaN</td>\n",
              "      <td>NaN</td>\n",
              "      <td>NaN</td>\n",
              "      <td>NaN</td>\n",
              "      <td>NaN</td>\n",
              "      <td>...</td>\n",
              "      <td>NaN</td>\n",
              "      <td>NaN</td>\n",
              "      <td>NaN</td>\n",
              "      <td>NaN</td>\n",
              "      <td>NaN</td>\n",
              "      <td>NaN</td>\n",
              "      <td>NaN</td>\n",
              "      <td>NaN</td>\n",
              "      <td>NaN</td>\n",
              "      <td>NaN</td>\n",
              "    </tr>\n",
              "    <tr>\n",
              "      <th>3</th>\n",
              "      <td>B32AC8CC6D5D805AC053557AB05F5343</td>\n",
              "      <td>1</td>\n",
              "      <td>NaN</td>\n",
              "      <td>NaN</td>\n",
              "      <td>NaN</td>\n",
              "      <td>NaN</td>\n",
              "      <td>NaN</td>\n",
              "      <td>NaN</td>\n",
              "      <td>NaN</td>\n",
              "      <td>NaN</td>\n",
              "      <td>...</td>\n",
              "      <td>6.50</td>\n",
              "      <td>9.99</td>\n",
              "      <td>11.78</td>\n",
              "      <td>18.59</td>\n",
              "      <td>26.80</td>\n",
              "      <td>18.57</td>\n",
              "      <td>14.59</td>\n",
              "      <td>12.82</td>\n",
              "      <td>19.37</td>\n",
              "      <td>15.92</td>\n",
              "    </tr>\n",
              "    <tr>\n",
              "      <th>4</th>\n",
              "      <td>EDFC78B07BA2908B3395C4EB2304665E</td>\n",
              "      <td>1</td>\n",
              "      <td>2.90</td>\n",
              "      <td>3.42</td>\n",
              "      <td>3.81</td>\n",
              "      <td>4.58</td>\n",
              "      <td>3.56</td>\n",
              "      <td>4.25</td>\n",
              "      <td>3.86</td>\n",
              "      <td>3.53</td>\n",
              "      <td>...</td>\n",
              "      <td>17.77</td>\n",
              "      <td>10.37</td>\n",
              "      <td>15.32</td>\n",
              "      <td>13.51</td>\n",
              "      <td>12.23</td>\n",
              "      <td>14.68</td>\n",
              "      <td>16.35</td>\n",
              "      <td>18.14</td>\n",
              "      <td>18.41</td>\n",
              "      <td>17.31</td>\n",
              "    </tr>\n",
              "    <tr>\n",
              "      <th>5</th>\n",
              "      <td>6BCFD78138BC72A9BA1BFB0B79382192</td>\n",
              "      <td>1</td>\n",
              "      <td>NaN</td>\n",
              "      <td>NaN</td>\n",
              "      <td>NaN</td>\n",
              "      <td>NaN</td>\n",
              "      <td>NaN</td>\n",
              "      <td>NaN</td>\n",
              "      <td>NaN</td>\n",
              "      <td>NaN</td>\n",
              "      <td>...</td>\n",
              "      <td>2.82</td>\n",
              "      <td>5.52</td>\n",
              "      <td>3.12</td>\n",
              "      <td>3.13</td>\n",
              "      <td>4.20</td>\n",
              "      <td>3.23</td>\n",
              "      <td>3.85</td>\n",
              "      <td>2.78</td>\n",
              "      <td>3.55</td>\n",
              "      <td>2.54</td>\n",
              "    </tr>\n",
              "    <tr>\n",
              "      <th>6</th>\n",
              "      <td>34C1954AA3703C4F8BD8EAEA7C4B7B83</td>\n",
              "      <td>1</td>\n",
              "      <td>0.11</td>\n",
              "      <td>0.53</td>\n",
              "      <td>0.45</td>\n",
              "      <td>0.51</td>\n",
              "      <td>1.32</td>\n",
              "      <td>0.71</td>\n",
              "      <td>0.12</td>\n",
              "      <td>0.52</td>\n",
              "      <td>...</td>\n",
              "      <td>4.33</td>\n",
              "      <td>2.46</td>\n",
              "      <td>1.23</td>\n",
              "      <td>3.19</td>\n",
              "      <td>1.17</td>\n",
              "      <td>1.36</td>\n",
              "      <td>0.56</td>\n",
              "      <td>1.02</td>\n",
              "      <td>1.96</td>\n",
              "      <td>1.83</td>\n",
              "    </tr>\n",
              "    <tr>\n",
              "      <th>7</th>\n",
              "      <td>768309B0EB11FD436CEE5ABFB84F4C0C</td>\n",
              "      <td>1</td>\n",
              "      <td>0.91</td>\n",
              "      <td>0.86</td>\n",
              "      <td>1.10</td>\n",
              "      <td>0.66</td>\n",
              "      <td>5.82</td>\n",
              "      <td>3.17</td>\n",
              "      <td>1.18</td>\n",
              "      <td>4.05</td>\n",
              "      <td>...</td>\n",
              "      <td>2.36</td>\n",
              "      <td>2.82</td>\n",
              "      <td>2.28</td>\n",
              "      <td>3.70</td>\n",
              "      <td>3.07</td>\n",
              "      <td>4.61</td>\n",
              "      <td>3.13</td>\n",
              "      <td>3.10</td>\n",
              "      <td>3.74</td>\n",
              "      <td>3.13</td>\n",
              "    </tr>\n",
              "    <tr>\n",
              "      <th>8</th>\n",
              "      <td>D0A186208CE83FBCCF730857C9A75B6F</td>\n",
              "      <td>1</td>\n",
              "      <td>NaN</td>\n",
              "      <td>NaN</td>\n",
              "      <td>NaN</td>\n",
              "      <td>NaN</td>\n",
              "      <td>NaN</td>\n",
              "      <td>NaN</td>\n",
              "      <td>NaN</td>\n",
              "      <td>NaN</td>\n",
              "      <td>...</td>\n",
              "      <td>3.36</td>\n",
              "      <td>3.41</td>\n",
              "      <td>4.73</td>\n",
              "      <td>3.54</td>\n",
              "      <td>4.20</td>\n",
              "      <td>2.77</td>\n",
              "      <td>3.02</td>\n",
              "      <td>4.06</td>\n",
              "      <td>4.75</td>\n",
              "      <td>4.86</td>\n",
              "    </tr>\n",
              "    <tr>\n",
              "      <th>9</th>\n",
              "      <td>516954F5FF177CE314656D727FCC66A5</td>\n",
              "      <td>1</td>\n",
              "      <td>11.02</td>\n",
              "      <td>8.24</td>\n",
              "      <td>7.94</td>\n",
              "      <td>7.92</td>\n",
              "      <td>8.31</td>\n",
              "      <td>7.39</td>\n",
              "      <td>8.27</td>\n",
              "      <td>8.05</td>\n",
              "      <td>...</td>\n",
              "      <td>51.36</td>\n",
              "      <td>52.39</td>\n",
              "      <td>113.35</td>\n",
              "      <td>60.89</td>\n",
              "      <td>115.62</td>\n",
              "      <td>108.69</td>\n",
              "      <td>87.88</td>\n",
              "      <td>86.36</td>\n",
              "      <td>81.51</td>\n",
              "      <td>81.75</td>\n",
              "    </tr>\n",
              "  </tbody>\n",
              "</table>\n",
              "<p>10 rows × 1036 columns</p>\n",
              "</div>\n",
              "    <div class=\"colab-df-buttons\">\n",
              "\n",
              "  <div class=\"colab-df-container\">\n",
              "    <button class=\"colab-df-convert\" onclick=\"convertToInteractive('df-fa1696ae-d68d-41ab-8119-75985303b840')\"\n",
              "            title=\"Convert this dataframe to an interactive table.\"\n",
              "            style=\"display:none;\">\n",
              "\n",
              "  <svg xmlns=\"http://www.w3.org/2000/svg\" height=\"24px\" viewBox=\"0 -960 960 960\">\n",
              "    <path d=\"M120-120v-720h720v720H120Zm60-500h600v-160H180v160Zm220 220h160v-160H400v160Zm0 220h160v-160H400v160ZM180-400h160v-160H180v160Zm440 0h160v-160H620v160ZM180-180h160v-160H180v160Zm440 0h160v-160H620v160Z\"/>\n",
              "  </svg>\n",
              "    </button>\n",
              "\n",
              "  <style>\n",
              "    .colab-df-container {\n",
              "      display:flex;\n",
              "      gap: 12px;\n",
              "    }\n",
              "\n",
              "    .colab-df-convert {\n",
              "      background-color: #E8F0FE;\n",
              "      border: none;\n",
              "      border-radius: 50%;\n",
              "      cursor: pointer;\n",
              "      display: none;\n",
              "      fill: #1967D2;\n",
              "      height: 32px;\n",
              "      padding: 0 0 0 0;\n",
              "      width: 32px;\n",
              "    }\n",
              "\n",
              "    .colab-df-convert:hover {\n",
              "      background-color: #E2EBFA;\n",
              "      box-shadow: 0px 1px 2px rgba(60, 64, 67, 0.3), 0px 1px 3px 1px rgba(60, 64, 67, 0.15);\n",
              "      fill: #174EA6;\n",
              "    }\n",
              "\n",
              "    .colab-df-buttons div {\n",
              "      margin-bottom: 4px;\n",
              "    }\n",
              "\n",
              "    [theme=dark] .colab-df-convert {\n",
              "      background-color: #3B4455;\n",
              "      fill: #D2E3FC;\n",
              "    }\n",
              "\n",
              "    [theme=dark] .colab-df-convert:hover {\n",
              "      background-color: #434B5C;\n",
              "      box-shadow: 0px 1px 3px 1px rgba(0, 0, 0, 0.15);\n",
              "      filter: drop-shadow(0px 1px 2px rgba(0, 0, 0, 0.3));\n",
              "      fill: #FFFFFF;\n",
              "    }\n",
              "  </style>\n",
              "\n",
              "    <script>\n",
              "      const buttonEl =\n",
              "        document.querySelector('#df-fa1696ae-d68d-41ab-8119-75985303b840 button.colab-df-convert');\n",
              "      buttonEl.style.display =\n",
              "        google.colab.kernel.accessAllowed ? 'block' : 'none';\n",
              "\n",
              "      async function convertToInteractive(key) {\n",
              "        const element = document.querySelector('#df-fa1696ae-d68d-41ab-8119-75985303b840');\n",
              "        const dataTable =\n",
              "          await google.colab.kernel.invokeFunction('convertToInteractive',\n",
              "                                                    [key], {});\n",
              "        if (!dataTable) return;\n",
              "\n",
              "        const docLinkHtml = 'Like what you see? Visit the ' +\n",
              "          '<a target=\"_blank\" href=https://colab.research.google.com/notebooks/data_table.ipynb>data table notebook</a>'\n",
              "          + ' to learn more about interactive tables.';\n",
              "        element.innerHTML = '';\n",
              "        dataTable['output_type'] = 'display_data';\n",
              "        await google.colab.output.renderOutput(dataTable, element);\n",
              "        const docLink = document.createElement('div');\n",
              "        docLink.innerHTML = docLinkHtml;\n",
              "        element.appendChild(docLink);\n",
              "      }\n",
              "    </script>\n",
              "  </div>\n",
              "\n",
              "\n",
              "<div id=\"df-e4f0203c-7f5c-4607-b736-6fbc0afcff16\">\n",
              "  <button class=\"colab-df-quickchart\" onclick=\"quickchart('df-e4f0203c-7f5c-4607-b736-6fbc0afcff16')\"\n",
              "            title=\"Suggest charts\"\n",
              "            style=\"display:none;\">\n",
              "\n",
              "<svg xmlns=\"http://www.w3.org/2000/svg\" height=\"24px\"viewBox=\"0 0 24 24\"\n",
              "     width=\"24px\">\n",
              "    <g>\n",
              "        <path d=\"M19 3H5c-1.1 0-2 .9-2 2v14c0 1.1.9 2 2 2h14c1.1 0 2-.9 2-2V5c0-1.1-.9-2-2-2zM9 17H7v-7h2v7zm4 0h-2V7h2v10zm4 0h-2v-4h2v4z\"/>\n",
              "    </g>\n",
              "</svg>\n",
              "  </button>\n",
              "\n",
              "<style>\n",
              "  .colab-df-quickchart {\n",
              "      --bg-color: #E8F0FE;\n",
              "      --fill-color: #1967D2;\n",
              "      --hover-bg-color: #E2EBFA;\n",
              "      --hover-fill-color: #174EA6;\n",
              "      --disabled-fill-color: #AAA;\n",
              "      --disabled-bg-color: #DDD;\n",
              "  }\n",
              "\n",
              "  [theme=dark] .colab-df-quickchart {\n",
              "      --bg-color: #3B4455;\n",
              "      --fill-color: #D2E3FC;\n",
              "      --hover-bg-color: #434B5C;\n",
              "      --hover-fill-color: #FFFFFF;\n",
              "      --disabled-bg-color: #3B4455;\n",
              "      --disabled-fill-color: #666;\n",
              "  }\n",
              "\n",
              "  .colab-df-quickchart {\n",
              "    background-color: var(--bg-color);\n",
              "    border: none;\n",
              "    border-radius: 50%;\n",
              "    cursor: pointer;\n",
              "    display: none;\n",
              "    fill: var(--fill-color);\n",
              "    height: 32px;\n",
              "    padding: 0;\n",
              "    width: 32px;\n",
              "  }\n",
              "\n",
              "  .colab-df-quickchart:hover {\n",
              "    background-color: var(--hover-bg-color);\n",
              "    box-shadow: 0 1px 2px rgba(60, 64, 67, 0.3), 0 1px 3px 1px rgba(60, 64, 67, 0.15);\n",
              "    fill: var(--button-hover-fill-color);\n",
              "  }\n",
              "\n",
              "  .colab-df-quickchart-complete:disabled,\n",
              "  .colab-df-quickchart-complete:disabled:hover {\n",
              "    background-color: var(--disabled-bg-color);\n",
              "    fill: var(--disabled-fill-color);\n",
              "    box-shadow: none;\n",
              "  }\n",
              "\n",
              "  .colab-df-spinner {\n",
              "    border: 2px solid var(--fill-color);\n",
              "    border-color: transparent;\n",
              "    border-bottom-color: var(--fill-color);\n",
              "    animation:\n",
              "      spin 1s steps(1) infinite;\n",
              "  }\n",
              "\n",
              "  @keyframes spin {\n",
              "    0% {\n",
              "      border-color: transparent;\n",
              "      border-bottom-color: var(--fill-color);\n",
              "      border-left-color: var(--fill-color);\n",
              "    }\n",
              "    20% {\n",
              "      border-color: transparent;\n",
              "      border-left-color: var(--fill-color);\n",
              "      border-top-color: var(--fill-color);\n",
              "    }\n",
              "    30% {\n",
              "      border-color: transparent;\n",
              "      border-left-color: var(--fill-color);\n",
              "      border-top-color: var(--fill-color);\n",
              "      border-right-color: var(--fill-color);\n",
              "    }\n",
              "    40% {\n",
              "      border-color: transparent;\n",
              "      border-right-color: var(--fill-color);\n",
              "      border-top-color: var(--fill-color);\n",
              "    }\n",
              "    60% {\n",
              "      border-color: transparent;\n",
              "      border-right-color: var(--fill-color);\n",
              "    }\n",
              "    80% {\n",
              "      border-color: transparent;\n",
              "      border-right-color: var(--fill-color);\n",
              "      border-bottom-color: var(--fill-color);\n",
              "    }\n",
              "    90% {\n",
              "      border-color: transparent;\n",
              "      border-bottom-color: var(--fill-color);\n",
              "    }\n",
              "  }\n",
              "</style>\n",
              "\n",
              "  <script>\n",
              "    async function quickchart(key) {\n",
              "      const quickchartButtonEl =\n",
              "        document.querySelector('#' + key + ' button');\n",
              "      quickchartButtonEl.disabled = true;  // To prevent multiple clicks.\n",
              "      quickchartButtonEl.classList.add('colab-df-spinner');\n",
              "      try {\n",
              "        const charts = await google.colab.kernel.invokeFunction(\n",
              "            'suggestCharts', [key], {});\n",
              "      } catch (error) {\n",
              "        console.error('Error during call to suggestCharts:', error);\n",
              "      }\n",
              "      quickchartButtonEl.classList.remove('colab-df-spinner');\n",
              "      quickchartButtonEl.classList.add('colab-df-quickchart-complete');\n",
              "    }\n",
              "    (() => {\n",
              "      let quickchartButtonEl =\n",
              "        document.querySelector('#df-e4f0203c-7f5c-4607-b736-6fbc0afcff16 button');\n",
              "      quickchartButtonEl.style.display =\n",
              "        google.colab.kernel.accessAllowed ? 'block' : 'none';\n",
              "    })();\n",
              "  </script>\n",
              "</div>\n",
              "\n",
              "    </div>\n",
              "  </div>\n"
            ],
            "text/plain": [
              "                            CONS_NO  FLAG  2014/1/1  2014/1/10  2014/1/11  \\\n",
              "0  0387DD8A07E07FDA6271170F86AD9151     1       NaN        NaN        NaN   \n",
              "1  01D6177B5D4FFE0CABA9EF17DAFC2B84     1       NaN        NaN        NaN   \n",
              "2  4B75AC4F2D8434CFF62DB64D0BB43103     1       NaN        NaN        NaN   \n",
              "3  B32AC8CC6D5D805AC053557AB05F5343     1       NaN        NaN        NaN   \n",
              "4  EDFC78B07BA2908B3395C4EB2304665E     1      2.90       3.42       3.81   \n",
              "5  6BCFD78138BC72A9BA1BFB0B79382192     1       NaN        NaN        NaN   \n",
              "6  34C1954AA3703C4F8BD8EAEA7C4B7B83     1      0.11       0.53       0.45   \n",
              "7  768309B0EB11FD436CEE5ABFB84F4C0C     1      0.91       0.86       1.10   \n",
              "8  D0A186208CE83FBCCF730857C9A75B6F     1       NaN        NaN        NaN   \n",
              "9  516954F5FF177CE314656D727FCC66A5     1     11.02       8.24       7.94   \n",
              "\n",
              "   2014/1/12  2014/1/13  2014/1/14  2014/1/15  2014/1/16  ...  2016/9/28  \\\n",
              "0        NaN        NaN        NaN        NaN        NaN  ...      10.12   \n",
              "1        NaN        NaN        NaN        NaN        NaN  ...       0.00   \n",
              "2        NaN        NaN        NaN        NaN        NaN  ...        NaN   \n",
              "3        NaN        NaN        NaN        NaN        NaN  ...       6.50   \n",
              "4       4.58       3.56       4.25       3.86       3.53  ...      17.77   \n",
              "5        NaN        NaN        NaN        NaN        NaN  ...       2.82   \n",
              "6       0.51       1.32       0.71       0.12       0.52  ...       4.33   \n",
              "7       0.66       5.82       3.17       1.18       4.05  ...       2.36   \n",
              "8        NaN        NaN        NaN        NaN        NaN  ...       3.36   \n",
              "9       7.92       8.31       7.39       8.27       8.05  ...      51.36   \n",
              "\n",
              "   2016/9/29  2016/9/3  2016/9/30  2016/9/4  2016/9/5  2016/9/6  2016/9/7  \\\n",
              "0       9.96     16.92       7.60     27.22     18.05     26.47     18.75   \n",
              "1       0.00      0.00       0.00      0.00      0.00      0.00      0.00   \n",
              "2        NaN       NaN        NaN       NaN       NaN       NaN       NaN   \n",
              "3       9.99     11.78      18.59     26.80     18.57     14.59     12.82   \n",
              "4      10.37     15.32      13.51     12.23     14.68     16.35     18.14   \n",
              "5       5.52      3.12       3.13      4.20      3.23      3.85      2.78   \n",
              "6       2.46      1.23       3.19      1.17      1.36      0.56      1.02   \n",
              "7       2.82      2.28       3.70      3.07      4.61      3.13      3.10   \n",
              "8       3.41      4.73       3.54      4.20      2.77      3.02      4.06   \n",
              "9      52.39    113.35      60.89    115.62    108.69     87.88     86.36   \n",
              "\n",
              "   2016/9/8  2016/9/9  \n",
              "0     17.84     14.92  \n",
              "1      0.00      0.00  \n",
              "2       NaN       NaN  \n",
              "3     19.37     15.92  \n",
              "4     18.41     17.31  \n",
              "5      3.55      2.54  \n",
              "6      1.96      1.83  \n",
              "7      3.74      3.13  \n",
              "8      4.75      4.86  \n",
              "9     81.51     81.75  \n",
              "\n",
              "[10 rows x 1036 columns]"
            ]
          },
          "execution_count": 6,
          "metadata": {},
          "output_type": "execute_result"
        }
      ],
      "source": [
        "#Check first 10 rows of the dataframe df\n",
        "df.head(10)"
      ],
      "id": "a7qi9EEL1r12"
    },
    {
      "cell_type": "code",
      "execution_count": null,
      "metadata": {
        "colab": {
          "base_uri": "https://localhost:8080/"
        },
        "id": "TnH1zGhIwMCu",
        "outputId": "4c0c6cde-45b0-4a64-ef2b-1cf8e9f60806"
      },
      "outputs": [
        {
          "data": {
            "text/plain": [
              "FLAG             0\n",
              "2014/1/1       NaN\n",
              "2014/1/10      NaN\n",
              "2014/1/11      NaN\n",
              "2014/1/12      NaN\n",
              "             ...  \n",
              "2016/9/5     29.86\n",
              "2016/9/6     28.36\n",
              "2016/9/7     25.77\n",
              "2016/9/8     23.24\n",
              "2016/9/9     25.58\n",
              "Name: 30010, Length: 1035, dtype: object"
            ]
          },
          "execution_count": 7,
          "metadata": {},
          "output_type": "execute_result"
        }
      ],
      "source": [
        "df.iloc[30010, 1:]"
      ],
      "id": "TnH1zGhIwMCu"
    },
    {
      "cell_type": "code",
      "execution_count": null,
      "metadata": {
        "id": "coordinated-sudan"
      },
      "outputs": [],
      "source": [
        "# @title Default title text\n",
        "#Proportion of flag (1) and not flag(0)\n",
        "\n",
        "num_Flagged = df[df['FLAG'] == 1].shape[0]\n",
        "num_unflagged = df[df['FLAG'] == 0].shape[0]"
      ],
      "id": "coordinated-sudan"
    },
    {
      "cell_type": "code",
      "execution_count": null,
      "metadata": {
        "colab": {
          "base_uri": "https://localhost:8080/"
        },
        "id": "electronic-latex",
        "outputId": "b8b0929b-8487-4dfe-fe4d-26387fec9ede"
      },
      "outputs": [
        {
          "data": {
            "text/plain": [
              "3615"
            ]
          },
          "execution_count": 9,
          "metadata": {},
          "output_type": "execute_result"
        }
      ],
      "source": [
        "num_Flagged"
      ],
      "id": "electronic-latex"
    },
    {
      "cell_type": "code",
      "execution_count": null,
      "metadata": {
        "colab": {
          "base_uri": "https://localhost:8080/"
        },
        "id": "irap0GwcwKvd",
        "outputId": "8c098f7d-77e8-4bb0-faa3-d28cec4b3c4d"
      },
      "outputs": [
        {
          "data": {
            "text/plain": [
              "38757"
            ]
          },
          "execution_count": 10,
          "metadata": {},
          "output_type": "execute_result"
        }
      ],
      "source": [
        "num_unflagged"
      ],
      "id": "irap0GwcwKvd"
    },
    {
      "cell_type": "code",
      "execution_count": null,
      "metadata": {
        "colab": {
          "base_uri": "https://localhost:8080/"
        },
        "id": "conceptual-interval",
        "outputId": "3fc4d28f-cf18-430f-da45-10fb866c7441"
      },
      "outputs": [
        {
          "name": "stdout",
          "output_type": "stream",
          "text": [
            "8.531577456811101 % of customers flagged.\n",
            "91.4684225431889 % of customers unflagged.\n"
          ]
        }
      ],
      "source": [
        "#Print proportion of flagged and unflagged customers in the whole data\n",
        "print(num_Flagged / (num_Flagged + num_unflagged) * 100, '% of customers flagged.')\n",
        "\n",
        "print(num_unflagged / (num_Flagged + num_unflagged) * 100, '% of customers unflagged.')"
      ],
      "id": "conceptual-interval"
    },
    {
      "cell_type": "code",
      "execution_count": null,
      "metadata": {
        "colab": {
          "base_uri": "https://localhost:8080/"
        },
        "id": "ThPY2n7EX1UQ",
        "outputId": "4ff92c8d-44d1-4d55-d10d-cdb92be30b63"
      },
      "outputs": [
        {
          "name": "stdout",
          "output_type": "stream",
          "text": [
            "3615 customers flagged.\n",
            "38757 customers unflagged.\n"
          ]
        }
      ],
      "source": [
        "#Print proportion of flagged and unflagged customers in the whole data\n",
        "print(f'{num_Flagged} customers flagged.')\n",
        "\n",
        "print(f'{num_unflagged} customers unflagged.')"
      ],
      "id": "ThPY2n7EX1UQ"
    },
    {
      "cell_type": "code",
      "execution_count": null,
      "metadata": {
        "colab": {
          "base_uri": "https://localhost:8080/",
          "height": 375
        },
        "id": "KAzOiUvms7kj",
        "outputId": "5076ea30-a5c2-4720-f585-ad63626490da"
      },
      "outputs": [
        {
          "data": {
            "image/png": "[encoded data removed]",
            "text/plain": [
              "<Figure size 400x400 with 1 Axes>"
            ]
          },
          "metadata": {},
          "output_type": "display_data"
        }
      ],
      "source": [
        "#Visualize the proportion with a pie chart\n",
        "df[\"FLAG\"].value_counts().plot(kind = 'pie',explode=[0, 0.1],figsize=(4, 4),autopct='%1.1f%%',shadow=True)\n",
        "plt.title(\"Fraudulent and Non-Fraudulent Distribution\",fontsize=20)\n",
        "plt.legend([\"unflagged\", \"Flagged\"])\n",
        "plt.show()"
      ],
      "id": "KAzOiUvms7kj"
    },
    {
      "cell_type": "code",
      "execution_count": null,
      "metadata": {
        "colab": {
          "base_uri": "https://localhost:8080/",
          "height": 423
        },
        "id": "Yb9jcpX_2gFv",
        "outputId": "d138d387-aa2a-4166-c70e-63dad9b5214b"
      },
      "outputs": [
        {
          "data": {
            "text/plain": [
              "<Axes: ylabel='FLAG'>"
            ]
          },
          "execution_count": 14,
          "metadata": {},
          "output_type": "execute_result"
        },
        {
          "data": {
            "image/png": "[encoded data removed]",
            "text/plain": [
              "<Figure size 640x480 with 1 Axes>"
            ]
          },
          "metadata": {},
          "output_type": "display_data"
        }
      ],
      "source": [
        "flags = df['FLAG'].value_counts()\n",
        "\n",
        "flags.plot.pie(autopct=lambda x: '{:.0f}'.format(x*flags.sum()/100) )\n"
      ],
      "id": "Yb9jcpX_2gFv"
    },
    {
      "cell_type": "code",
      "execution_count": null,
      "metadata": {
        "colab": {
          "base_uri": "https://localhost:8080/",
          "height": 472
        },
        "id": "jaMXFV-NSFPo",
        "outputId": "7e2b193d-3dc5-42a5-e7f6-7d55319dc04c"
      },
      "outputs": [
        {
          "data": {
            "image/png": "[encoded data removed]",
            "text/plain": [
              "<Figure size 640x480 with 1 Axes>"
            ]
          },
          "metadata": {},
          "output_type": "display_data"
        }
      ],
      "source": [
        "import numpy as np\n",
        "import matplotlib.pyplot as plt\n",
        "\n",
        "y = df['FLAG']\n",
        "unique, counts = np.unique(y, return_counts=True)\n",
        "positions = np.arange(len(unique))\n",
        "\n",
        "# Create the bar chart with labels\n",
        "plt.bar(positions, counts, label='Counts')\n",
        "plt.xticks(positions, unique)\n",
        "plt.xlabel('Unique Values')\n",
        "plt.ylabel('Counts')\n",
        "plt.title('Bar Chart of Unique Values')\n",
        "\n",
        "# Create a legend\n",
        "plt.legend()\n",
        "\n",
        "plt.show()\n",
        "\n"
      ],
      "id": "jaMXFV-NSFPo"
    },
    {
      "cell_type": "code",
      "execution_count": null,
      "metadata": {
        "colab": {
          "base_uri": "https://localhost:8080/",
          "height": 472
        },
        "id": "9s1nhCUJQfoC",
        "outputId": "058fa6d7-55ad-4bdb-a028-fc0006df1b1c"
      },
      "outputs": [
        {
          "data": {
            "image/png": "[encoded data removed]",
            "text/plain": [
              "<Figure size 640x480 with 1 Axes>"
            ]
          },
          "metadata": {},
          "output_type": "display_data"
        }
      ],
      "source": [
        "# Create the countplot\n",
        "ax = sns.countplot(x='FLAG', data=df, hue='FLAG')\n",
        "\n",
        "plt.title('Distribution of Survival by Class')\n",
        "plt.xlabel('Number of occurrences')\n",
        "\n",
        "total = len(df['FLAG'])\n",
        "for p in ax.patches:\n",
        "    percentage = '{:.1f}%'.format(100 * p.get_height() / total)\n",
        "    x = p.get_x() + p.get_width() / 2  # Corrected the x position calculation\n",
        "    y = p.get_y() + p.get_height() + 10  # Adjusted the y position\n",
        "\n",
        "    ax.annotate(percentage, (x, y))\n",
        "\n",
        "plt.show()"
      ],
      "id": "9s1nhCUJQfoC"
    },
    {
      "cell_type": "code",
      "execution_count": null,
      "metadata": {
        "id": "NtG1_xfe1tmd"
      },
      "outputs": [],
      "source": [
        "#Function that looks for missing values in df\n",
        "def missing_data_all(df):\n",
        "    total = df.isnull().sum().sort_values(ascending=False)\n",
        "    percent = (df.isnull().sum()/df.isnull().count()).sort_values(ascending=False)\n",
        "    missing_data = pd.concat([total, percent], axis=1, keys=['Total', 'Percent'])\n",
        "    return missing_data\n"
      ],
      "id": "NtG1_xfe1tmd"
    },
    {
      "cell_type": "code",
      "execution_count": null,
      "metadata": {
        "colab": {
          "base_uri": "https://localhost:8080/",
          "height": 424
        },
        "id": "XmR_pSoe15N8",
        "outputId": "19b5dad0-4283-4b70-c4ec-ff5118333440"
      },
      "outputs": [
        {
          "data": {
            "text/html": [
              "\n",
              "  <div id=\"df-84a89748-79b3-4a09-aabb-626911d5112c\" class=\"colab-df-container\">\n",
              "    <div>\n",
              "<style scoped>\n",
              "    .dataframe tbody tr th:only-of-type {\n",
              "        vertical-align: middle;\n",
              "    }\n",
              "\n",
              "    .dataframe tbody tr th {\n",
              "        vertical-align: top;\n",
              "    }\n",
              "\n",
              "    .dataframe thead th {\n",
              "        text-align: right;\n",
              "    }\n",
              "</style>\n",
              "<table border=\"1\" class=\"dataframe\">\n",
              "  <thead>\n",
              "    <tr style=\"text-align: right;\">\n",
              "      <th></th>\n",
              "      <th>Total</th>\n",
              "      <th>Percent</th>\n",
              "    </tr>\n",
              "  </thead>\n",
              "  <tbody>\n",
              "    <tr>\n",
              "      <th>2014/10/3</th>\n",
              "      <td>42357</td>\n",
              "      <td>0.999646</td>\n",
              "    </tr>\n",
              "    <tr>\n",
              "      <th>2014/3/19</th>\n",
              "      <td>21505</td>\n",
              "      <td>0.507529</td>\n",
              "    </tr>\n",
              "    <tr>\n",
              "      <th>2014/2/28</th>\n",
              "      <td>20985</td>\n",
              "      <td>0.495256</td>\n",
              "    </tr>\n",
              "    <tr>\n",
              "      <th>2014/3/4</th>\n",
              "      <td>20820</td>\n",
              "      <td>0.491362</td>\n",
              "    </tr>\n",
              "    <tr>\n",
              "      <th>2014/3/3</th>\n",
              "      <td>20806</td>\n",
              "      <td>0.491032</td>\n",
              "    </tr>\n",
              "    <tr>\n",
              "      <th>...</th>\n",
              "      <td>...</td>\n",
              "      <td>...</td>\n",
              "    </tr>\n",
              "    <tr>\n",
              "      <th>2016/9/11</th>\n",
              "      <td>364</td>\n",
              "      <td>0.008591</td>\n",
              "    </tr>\n",
              "    <tr>\n",
              "      <th>2016/9/9</th>\n",
              "      <td>345</td>\n",
              "      <td>0.008142</td>\n",
              "    </tr>\n",
              "    <tr>\n",
              "      <th>2016/9/8</th>\n",
              "      <td>328</td>\n",
              "      <td>0.007741</td>\n",
              "    </tr>\n",
              "    <tr>\n",
              "      <th>FLAG</th>\n",
              "      <td>0</td>\n",
              "      <td>0.000000</td>\n",
              "    </tr>\n",
              "    <tr>\n",
              "      <th>CONS_NO</th>\n",
              "      <td>0</td>\n",
              "      <td>0.000000</td>\n",
              "    </tr>\n",
              "  </tbody>\n",
              "</table>\n",
              "<p>1036 rows × 2 columns</p>\n",
              "</div>\n",
              "    <div class=\"colab-df-buttons\">\n",
              "\n",
              "  <div class=\"colab-df-container\">\n",
              "    <button class=\"colab-df-convert\" onclick=\"convertToInteractive('df-84a89748-79b3-4a09-aabb-626911d5112c')\"\n",
              "            title=\"Convert this dataframe to an interactive table.\"\n",
              "            style=\"display:none;\">\n",
              "\n",
              "  <svg xmlns=\"http://www.w3.org/2000/svg\" height=\"24px\" viewBox=\"0 -960 960 960\">\n",
              "    <path d=\"M120-120v-720h720v720H120Zm60-500h600v-160H180v160Zm220 220h160v-160H400v160Zm0 220h160v-160H400v160ZM180-400h160v-160H180v160Zm440 0h160v-160H620v160ZM180-180h160v-160H180v160Zm440 0h160v-160H620v160Z\"/>\n",
              "  </svg>\n",
              "    </button>\n",
              "\n",
              "  <style>\n",
              "    .colab-df-container {\n",
              "      display:flex;\n",
              "      gap: 12px;\n",
              "    }\n",
              "\n",
              "    .colab-df-convert {\n",
              "      background-color: #E8F0FE;\n",
              "      border: none;\n",
              "      border-radius: 50%;\n",
              "      cursor: pointer;\n",
              "      display: none;\n",
              "      fill: #1967D2;\n",
              "      height: 32px;\n",
              "      padding: 0 0 0 0;\n",
              "      width: 32px;\n",
              "    }\n",
              "\n",
              "    .colab-df-convert:hover {\n",
              "      background-color: #E2EBFA;\n",
              "      box-shadow: 0px 1px 2px rgba(60, 64, 67, 0.3), 0px 1px 3px 1px rgba(60, 64, 67, 0.15);\n",
              "      fill: #174EA6;\n",
              "    }\n",
              "\n",
              "    .colab-df-buttons div {\n",
              "      margin-bottom: 4px;\n",
              "    }\n",
              "\n",
              "    [theme=dark] .colab-df-convert {\n",
              "      background-color: #3B4455;\n",
              "      fill: #D2E3FC;\n",
              "    }\n",
              "\n",
              "    [theme=dark] .colab-df-convert:hover {\n",
              "      background-color: #434B5C;\n",
              "      box-shadow: 0px 1px 3px 1px rgba(0, 0, 0, 0.15);\n",
              "      filter: drop-shadow(0px 1px 2px rgba(0, 0, 0, 0.3));\n",
              "      fill: #FFFFFF;\n",
              "    }\n",
              "  </style>\n",
              "\n",
              "    <script>\n",
              "      const buttonEl =\n",
              "        document.querySelector('#df-84a89748-79b3-4a09-aabb-626911d5112c button.colab-df-convert');\n",
              "      buttonEl.style.display =\n",
              "        google.colab.kernel.accessAllowed ? 'block' : 'none';\n",
              "\n",
              "      async function convertToInteractive(key) {\n",
              "        const element = document.querySelector('#df-84a89748-79b3-4a09-aabb-626911d5112c');\n",
              "        const dataTable =\n",
              "          await google.colab.kernel.invokeFunction('convertToInteractive',\n",
              "                                                    [key], {});\n",
              "        if (!dataTable) return;\n",
              "\n",
              "        const docLinkHtml = 'Like what you see? Visit the ' +\n",
              "          '<a target=\"_blank\" href=https://colab.research.google.com/notebooks/data_table.ipynb>data table notebook</a>'\n",
              "          + ' to learn more about interactive tables.';\n",
              "        element.innerHTML = '';\n",
              "        dataTable['output_type'] = 'display_data';\n",
              "        await google.colab.output.renderOutput(dataTable, element);\n",
              "        const docLink = document.createElement('div');\n",
              "        docLink.innerHTML = docLinkHtml;\n",
              "        element.appendChild(docLink);\n",
              "      }\n",
              "    </script>\n",
              "  </div>\n",
              "\n",
              "\n",
              "<div id=\"df-fabfd082-8ee2-4058-8536-107cb3245521\">\n",
              "  <button class=\"colab-df-quickchart\" onclick=\"quickchart('df-fabfd082-8ee2-4058-8536-107cb3245521')\"\n",
              "            title=\"Suggest charts\"\n",
              "            style=\"display:none;\">\n",
              "\n",
              "<svg xmlns=\"http://www.w3.org/2000/svg\" height=\"24px\"viewBox=\"0 0 24 24\"\n",
              "     width=\"24px\">\n",
              "    <g>\n",
              "        <path d=\"M19 3H5c-1.1 0-2 .9-2 2v14c0 1.1.9 2 2 2h14c1.1 0 2-.9 2-2V5c0-1.1-.9-2-2-2zM9 17H7v-7h2v7zm4 0h-2V7h2v10zm4 0h-2v-4h2v4z\"/>\n",
              "    </g>\n",
              "</svg>\n",
              "  </button>\n",
              "\n",
              "<style>\n",
              "  .colab-df-quickchart {\n",
              "      --bg-color: #E8F0FE;\n",
              "      --fill-color: #1967D2;\n",
              "      --hover-bg-color: #E2EBFA;\n",
              "      --hover-fill-color: #174EA6;\n",
              "      --disabled-fill-color: #AAA;\n",
              "      --disabled-bg-color: #DDD;\n",
              "  }\n",
              "\n",
              "  [theme=dark] .colab-df-quickchart {\n",
              "      --bg-color: #3B4455;\n",
              "      --fill-color: #D2E3FC;\n",
              "      --hover-bg-color: #434B5C;\n",
              "      --hover-fill-color: #FFFFFF;\n",
              "      --disabled-bg-color: #3B4455;\n",
              "      --disabled-fill-color: #666;\n",
              "  }\n",
              "\n",
              "  .colab-df-quickchart {\n",
              "    background-color: var(--bg-color);\n",
              "    border: none;\n",
              "    border-radius: 50%;\n",
              "    cursor: pointer;\n",
              "    display: none;\n",
              "    fill: var(--fill-color);\n",
              "    height: 32px;\n",
              "    padding: 0;\n",
              "    width: 32px;\n",
              "  }\n",
              "\n",
              "  .colab-df-quickchart:hover {\n",
              "    background-color: var(--hover-bg-color);\n",
              "    box-shadow: 0 1px 2px rgba(60, 64, 67, 0.3), 0 1px 3px 1px rgba(60, 64, 67, 0.15);\n",
              "    fill: var(--button-hover-fill-color);\n",
              "  }\n",
              "\n",
              "  .colab-df-quickchart-complete:disabled,\n",
              "  .colab-df-quickchart-complete:disabled:hover {\n",
              "    background-color: var(--disabled-bg-color);\n",
              "    fill: var(--disabled-fill-color);\n",
              "    box-shadow: none;\n",
              "  }\n",
              "\n",
              "  .colab-df-spinner {\n",
              "    border: 2px solid var(--fill-color);\n",
              "    border-color: transparent;\n",
              "    border-bottom-color: var(--fill-color);\n",
              "    animation:\n",
              "      spin 1s steps(1) infinite;\n",
              "  }\n",
              "\n",
              "  @keyframes spin {\n",
              "    0% {\n",
              "      border-color: transparent;\n",
              "      border-bottom-color: var(--fill-color);\n",
              "      border-left-color: var(--fill-color);\n",
              "    }\n",
              "    20% {\n",
              "      border-color: transparent;\n",
              "      border-left-color: var(--fill-color);\n",
              "      border-top-color: var(--fill-color);\n",
              "    }\n",
              "    30% {\n",
              "      border-color: transparent;\n",
              "      border-left-color: var(--fill-color);\n",
              "      border-top-color: var(--fill-color);\n",
              "      border-right-color: var(--fill-color);\n",
              "    }\n",
              "    40% {\n",
              "      border-color: transparent;\n",
              "      border-right-color: var(--fill-color);\n",
              "      border-top-color: var(--fill-color);\n",
              "    }\n",
              "    60% {\n",
              "      border-color: transparent;\n",
              "      border-right-color: var(--fill-color);\n",
              "    }\n",
              "    80% {\n",
              "      border-color: transparent;\n",
              "      border-right-color: var(--fill-color);\n",
              "      border-bottom-color: var(--fill-color);\n",
              "    }\n",
              "    90% {\n",
              "      border-color: transparent;\n",
              "      border-bottom-color: var(--fill-color);\n",
              "    }\n",
              "  }\n",
              "</style>\n",
              "\n",
              "  <script>\n",
              "    async function quickchart(key) {\n",
              "      const quickchartButtonEl =\n",
              "        document.querySelector('#' + key + ' button');\n",
              "      quickchartButtonEl.disabled = true;  // To prevent multiple clicks.\n",
              "      quickchartButtonEl.classList.add('colab-df-spinner');\n",
              "      try {\n",
              "        const charts = await google.colab.kernel.invokeFunction(\n",
              "            'suggestCharts', [key], {});\n",
              "      } catch (error) {\n",
              "        console.error('Error during call to suggestCharts:', error);\n",
              "      }\n",
              "      quickchartButtonEl.classList.remove('colab-df-spinner');\n",
              "      quickchartButtonEl.classList.add('colab-df-quickchart-complete');\n",
              "    }\n",
              "    (() => {\n",
              "      let quickchartButtonEl =\n",
              "        document.querySelector('#df-fabfd082-8ee2-4058-8536-107cb3245521 button');\n",
              "      quickchartButtonEl.style.display =\n",
              "        google.colab.kernel.accessAllowed ? 'block' : 'none';\n",
              "    })();\n",
              "  </script>\n",
              "</div>\n",
              "\n",
              "    </div>\n",
              "  </div>\n"
            ],
            "text/plain": [
              "           Total   Percent\n",
              "2014/10/3  42357  0.999646\n",
              "2014/3/19  21505  0.507529\n",
              "2014/2/28  20985  0.495256\n",
              "2014/3/4   20820  0.491362\n",
              "2014/3/3   20806  0.491032\n",
              "...          ...       ...\n",
              "2016/9/11    364  0.008591\n",
              "2016/9/9     345  0.008142\n",
              "2016/9/8     328  0.007741\n",
              "FLAG           0  0.000000\n",
              "CONS_NO        0  0.000000\n",
              "\n",
              "[1036 rows x 2 columns]"
            ]
          },
          "execution_count": 18,
          "metadata": {},
          "output_type": "execute_result"
        }
      ],
      "source": [
        "# Invoking function missing data\n",
        "missing_data_all(df)\n"
      ],
      "id": "XmR_pSoe15N8"
    },
    {
      "cell_type": "markdown",
      "metadata": {
        "id": "A3jUwKvHOxTA"
      },
      "source": [
        "import datetime\n",
        "\n",
        "# Select columns excluding 'CONS_NO' and 'FLAG'\n",
        "columns_to_select = [col for col in df.columns if col not in ['CONS_NO', 'FLAG']]\n",
        "\n",
        "# Check if there is a null value at row 0 and column 2\n",
        "is_null_value = math.isnan(df.iloc[0, 2])\n",
        "\n",
        "# Convert column names from date format\n",
        "column_dates = [datetime.datetime.strptime(date, \"%Y/%m/%d\") for date in columns_to_select]\n",
        "formatted_dates = [datetime.datetime.strftime(date, \"%Y/%m/%d\") for date in column_dates]\n",
        "\n",
        "# Insert 'FLAG' and 'CONS_NO' at the beginning of the column names\n",
        "formatted_dates.insert(0, \"FLAG\")\n",
        "formatted_dates.insert(0, \"CONS_NO\")\n",
        "\n",
        "# Update the DataFrame columns with formatted dates\n",
        "df.columns = formatted_dates\n",
        "\n",
        "# Sort and reorganize columns\n",
        "sorted_dates = sorted(formatted_dates[2:])  # Excluding 'FLAG' and 'CONS_NO'\n",
        "selected_columns = formatted_dates[:2] + sorted_dates\n",
        "df = df[selected_columns]\n",
        "\n",
        "# Data manipulation for specific columns\n",
        "df_1 = df.copy()  # Create a copy of the DataFrame\n",
        "\n",
        "# Example for data manipulation in columns \"2014/01/01\" and \"2014/01/02\"\n",
        "col_2014_01_01 = df[\"2014/01/01\"]\n",
        "col_2014_01_02 = df[\"2014/01/02\"]\n",
        "col_2014_01_01 = np.asarray(col_2014_01_01).tolist()\n",
        "col_2014_01_02 = np.asarray(col_2014_01_02).tolist()\n",
        "\n",
        "result_column = []\n",
        "for i in range(len(col_2014_01_01):\n",
        "    if math.isnan(col_2014_01_01[i]):\n",
        "        if math.isnan(col_2014_01_02[i]):\n",
        "            result_column.append(0)\n",
        "        else:\n",
        "            result_column.append(col_2014_01_02[i] / 2)\n",
        "    else:\n",
        "        result_column.append(col_2014_01_01[i])\n",
        "\n",
        "df_1[\"2014/01/01\"] = result_column\n",
        "\n",
        "# Repeat the same data manipulation for another column (e.g., \"2016/10/31\")\n",
        "\n",
        "# Select columns for further processing\n",
        "selected_columns = [col for col in df.columns if col not in ['CONS_NO', 'FLAG']]\n"
      ],
      "id": "A3jUwKvHOxTA"
    },
    {
      "cell_type": "code",
      "execution_count": null,
      "metadata": {
        "id": "aZa-83o915Sy"
      },
      "outputs": [],
      "source": [
        "#Aside 'CONS_NO','FLAG' columns, append other columns of df in a list named lb\n",
        "l=df.columns\n",
        "la=['CONS_NO','FLAG']\n",
        "lb=[]\n",
        "for i in l:\n",
        "    if i not in la:\n",
        "        lb.append(i)\n"
      ],
      "id": "aZa-83o915Sy"
    },
    {
      "cell_type": "code",
      "execution_count": null,
      "metadata": {
        "colab": {
          "base_uri": "https://localhost:8080/"
        },
        "id": "AJZX2HPv15Ca",
        "outputId": "5e952191-b840-43bf-b1e6-3d340b6e94f2"
      },
      "outputs": [
        {
          "data": {
            "text/plain": [
              "True"
            ]
          },
          "execution_count": 20,
          "metadata": {},
          "output_type": "execute_result"
        }
      ],
      "source": [
        "#Check  if item in row 0 and column 2 is having a null value\n",
        "math.isnan(df.iloc[0][2])"
      ],
      "id": "AJZX2HPv15Ca"
    },
    {
      "cell_type": "code",
      "execution_count": null,
      "metadata": {
        "id": "xFCxveJ1G-2u"
      },
      "outputs": [],
      "source": [
        "l=df.columns\n",
        "la=['CONS_NO','FLAG']\n",
        "lb=[]\n",
        "for i in l:\n",
        "    if i not in la:\n",
        "        lb.append(i)\n"
      ],
      "id": "xFCxveJ1G-2u"
    },
    {
      "cell_type": "code",
      "execution_count": null,
      "metadata": {
        "id": "Xs_71CCJ14un"
      },
      "outputs": [],
      "source": [
        "import datetime\n",
        "dates = [datetime.datetime.strptime(ts, \"%Y/%m/%d\") for ts in lb]\n",
        "#dates.sort()\n",
        "fdatesdates = [datetime.datetime.strftime(ts, \"%Y/%m/%d\") for ts in dates]"
      ],
      "id": "Xs_71CCJ14un"
    },
    {
      "cell_type": "code",
      "execution_count": null,
      "metadata": {
        "id": "lsDZ0ev014A9"
      },
      "outputs": [],
      "source": [
        "fdatesdates.insert(0,\"FLAG\")\n",
        "fdatesdates.insert(0,\"CONS_NO\")\n",
        "\n",
        "df.columns=fdatesdates"
      ],
      "id": "lsDZ0ev014A9"
    },
    {
      "cell_type": "code",
      "execution_count": null,
      "metadata": {
        "id": "k1QY4ROUCeqZ"
      },
      "outputs": [],
      "source": [
        "import datetime\n",
        "dates = [datetime.datetime.strptime(ts, \"%Y/%m/%d\") for ts in lb]\n",
        "dates.sort()\n",
        "sorteddates = [datetime.datetime.strftime(ts, \"%Y/%m/%d\") for ts in dates]\n"
      ],
      "id": "k1QY4ROUCeqZ"
    },
    {
      "cell_type": "code",
      "execution_count": null,
      "metadata": {
        "id": "RtT4w-AhDzSa"
      },
      "outputs": [],
      "source": [
        "cols=df.columns.tolist()[0:2]+sorteddates\n",
        "df=df[cols]\n"
      ],
      "id": "RtT4w-AhDzSa"
    },
    {
      "cell_type": "code",
      "execution_count": null,
      "metadata": {
        "id": "BUrxkg--D_CQ"
      },
      "outputs": [],
      "source": [
        "df_1=df\n",
        "l=df[\"2014/01/01\"]\n",
        "l1=df[\"2014/01/02\"]\n",
        "l=np.asarray(l).tolist()\n",
        "l1=np.asarray(l1).tolist()\n",
        "\n",
        "l2=[]\n",
        "for i in range(len(l)):\n",
        "    if math.isnan(l[i]):\n",
        "        if math.isnan(l1[i]):\n",
        "            l2.append(0)\n",
        "        else:\n",
        "            l2.append(l1[i]/2)\n",
        "    else:\n",
        "        l2.append(l[i])\n",
        "df_1[\"2014/01/01\"]=l2\n",
        "\n",
        "df_1.head()\n",
        "l=df[\"2016/10/31\"]\n",
        "l1=df[\"2016/10/30\"]\n",
        "l=np.asarray(l).tolist()\n",
        "l1=np.asarray(l1).tolist()\n",
        "\n",
        "l2=[]\n",
        "for i in range(len(l)):\n",
        "    if math.isnan(l[i]):\n",
        "        if math.isnan(l1[i]):\n",
        "            l2.append(0)\n",
        "        else:\n",
        "            l2.append(l1[i]/2)\n",
        "    else:\n",
        "        l2.append(l[i])\n",
        "df_1[\"2016/10/31\"]=l2\n",
        "\n",
        "\n",
        "l=df.columns\n",
        "la=['CONS_NO','FLAG']\n",
        "lbx=[]\n",
        "for i in l:\n",
        "    if i not in la:\n",
        "        lbx.append(i)\n",
        "\n",
        "\n",
        "\n"
      ],
      "id": "BUrxkg--D_CQ"
    },
    {
      "cell_type": "code",
      "execution_count": null,
      "metadata": {
        "id": "wbyKXeRyEOWr"
      },
      "outputs": [],
      "source": [
        "df_1=df_1.interpolate(method ='linear', limit_direction ='forward')\n",
        "df_1=df_1.interpolate(method ='linear', limit_direction ='backward')\n"
      ],
      "id": "wbyKXeRyEOWr"
    },
    {
      "cell_type": "code",
      "execution_count": null,
      "metadata": {
        "colab": {
          "base_uri": "https://localhost:8080/",
          "height": 256
        },
        "id": "B3EZUU6VlVfB",
        "outputId": "ca7ce0e7-8cc5-4329-91db-483361cccc19"
      },
      "outputs": [
        {
          "data": {
            "text/html": [
              "\n",
              "  <div id=\"df-62018a04-2656-4e1f-b75b-5febeffbbc19\" class=\"colab-df-container\">\n",
              "    <div>\n",
              "<style scoped>\n",
              "    .dataframe tbody tr th:only-of-type {\n",
              "        vertical-align: middle;\n",
              "    }\n",
              "\n",
              "    .dataframe tbody tr th {\n",
              "        vertical-align: top;\n",
              "    }\n",
              "\n",
              "    .dataframe thead th {\n",
              "        text-align: right;\n",
              "    }\n",
              "</style>\n",
              "<table border=\"1\" class=\"dataframe\">\n",
              "  <thead>\n",
              "    <tr style=\"text-align: right;\">\n",
              "      <th></th>\n",
              "      <th>CONS_NO</th>\n",
              "      <th>FLAG</th>\n",
              "      <th>2014/01/01</th>\n",
              "      <th>2014/01/02</th>\n",
              "      <th>2014/01/03</th>\n",
              "      <th>2014/01/04</th>\n",
              "      <th>2014/01/05</th>\n",
              "      <th>2014/01/06</th>\n",
              "      <th>2014/01/07</th>\n",
              "      <th>2014/01/08</th>\n",
              "      <th>...</th>\n",
              "      <th>2016/10/22</th>\n",
              "      <th>2016/10/23</th>\n",
              "      <th>2016/10/24</th>\n",
              "      <th>2016/10/25</th>\n",
              "      <th>2016/10/26</th>\n",
              "      <th>2016/10/27</th>\n",
              "      <th>2016/10/28</th>\n",
              "      <th>2016/10/29</th>\n",
              "      <th>2016/10/30</th>\n",
              "      <th>2016/10/31</th>\n",
              "    </tr>\n",
              "  </thead>\n",
              "  <tbody>\n",
              "    <tr>\n",
              "      <th>0</th>\n",
              "      <td>0387DD8A07E07FDA6271170F86AD9151</td>\n",
              "      <td>1</td>\n",
              "      <td>0.0</td>\n",
              "      <td>5.64</td>\n",
              "      <td>6.99</td>\n",
              "      <td>3.32</td>\n",
              "      <td>3.61</td>\n",
              "      <td>5.35</td>\n",
              "      <td>4.73</td>\n",
              "      <td>3.68</td>\n",
              "      <td>...</td>\n",
              "      <td>7.18</td>\n",
              "      <td>8.07</td>\n",
              "      <td>8.09</td>\n",
              "      <td>9.53</td>\n",
              "      <td>5.48</td>\n",
              "      <td>8.75</td>\n",
              "      <td>9.30</td>\n",
              "      <td>7.54</td>\n",
              "      <td>9.16</td>\n",
              "      <td>6.74</td>\n",
              "    </tr>\n",
              "    <tr>\n",
              "      <th>1</th>\n",
              "      <td>01D6177B5D4FFE0CABA9EF17DAFC2B84</td>\n",
              "      <td>1</td>\n",
              "      <td>0.0</td>\n",
              "      <td>5.64</td>\n",
              "      <td>6.99</td>\n",
              "      <td>3.32</td>\n",
              "      <td>3.61</td>\n",
              "      <td>5.35</td>\n",
              "      <td>4.73</td>\n",
              "      <td>3.68</td>\n",
              "      <td>...</td>\n",
              "      <td>0.00</td>\n",
              "      <td>0.00</td>\n",
              "      <td>0.00</td>\n",
              "      <td>0.00</td>\n",
              "      <td>0.00</td>\n",
              "      <td>0.00</td>\n",
              "      <td>0.00</td>\n",
              "      <td>0.00</td>\n",
              "      <td>0.00</td>\n",
              "      <td>0.00</td>\n",
              "    </tr>\n",
              "    <tr>\n",
              "      <th>2</th>\n",
              "      <td>4B75AC4F2D8434CFF62DB64D0BB43103</td>\n",
              "      <td>1</td>\n",
              "      <td>0.0</td>\n",
              "      <td>5.64</td>\n",
              "      <td>6.99</td>\n",
              "      <td>3.32</td>\n",
              "      <td>3.61</td>\n",
              "      <td>5.35</td>\n",
              "      <td>4.73</td>\n",
              "      <td>3.68</td>\n",
              "      <td>...</td>\n",
              "      <td>10.95</td>\n",
              "      <td>17.95</td>\n",
              "      <td>17.83</td>\n",
              "      <td>17.31</td>\n",
              "      <td>21.44</td>\n",
              "      <td>19.09</td>\n",
              "      <td>18.56</td>\n",
              "      <td>16.25</td>\n",
              "      <td>14.20</td>\n",
              "      <td>13.66</td>\n",
              "    </tr>\n",
              "    <tr>\n",
              "      <th>3</th>\n",
              "      <td>B32AC8CC6D5D805AC053557AB05F5343</td>\n",
              "      <td>1</td>\n",
              "      <td>0.0</td>\n",
              "      <td>5.64</td>\n",
              "      <td>6.99</td>\n",
              "      <td>3.32</td>\n",
              "      <td>3.61</td>\n",
              "      <td>5.35</td>\n",
              "      <td>4.73</td>\n",
              "      <td>3.68</td>\n",
              "      <td>...</td>\n",
              "      <td>12.81</td>\n",
              "      <td>15.12</td>\n",
              "      <td>17.26</td>\n",
              "      <td>14.91</td>\n",
              "      <td>19.59</td>\n",
              "      <td>20.79</td>\n",
              "      <td>17.95</td>\n",
              "      <td>19.26</td>\n",
              "      <td>14.46</td>\n",
              "      <td>11.72</td>\n",
              "    </tr>\n",
              "    <tr>\n",
              "      <th>4</th>\n",
              "      <td>EDFC78B07BA2908B3395C4EB2304665E</td>\n",
              "      <td>1</td>\n",
              "      <td>2.9</td>\n",
              "      <td>5.64</td>\n",
              "      <td>6.99</td>\n",
              "      <td>3.32</td>\n",
              "      <td>3.61</td>\n",
              "      <td>5.35</td>\n",
              "      <td>4.73</td>\n",
              "      <td>3.68</td>\n",
              "      <td>...</td>\n",
              "      <td>14.21</td>\n",
              "      <td>10.22</td>\n",
              "      <td>8.47</td>\n",
              "      <td>6.11</td>\n",
              "      <td>6.10</td>\n",
              "      <td>6.73</td>\n",
              "      <td>7.52</td>\n",
              "      <td>10.89</td>\n",
              "      <td>9.86</td>\n",
              "      <td>8.72</td>\n",
              "    </tr>\n",
              "  </tbody>\n",
              "</table>\n",
              "<p>5 rows × 1036 columns</p>\n",
              "</div>\n",
              "    <div class=\"colab-df-buttons\">\n",
              "\n",
              "  <div class=\"colab-df-container\">\n",
              "    <button class=\"colab-df-convert\" onclick=\"convertToInteractive('df-62018a04-2656-4e1f-b75b-5febeffbbc19')\"\n",
              "            title=\"Convert this dataframe to an interactive table.\"\n",
              "            style=\"display:none;\">\n",
              "\n",
              "  <svg xmlns=\"http://www.w3.org/2000/svg\" height=\"24px\" viewBox=\"0 -960 960 960\">\n",
              "    <path d=\"M120-120v-720h720v720H120Zm60-500h600v-160H180v160Zm220 220h160v-160H400v160Zm0 220h160v-160H400v160ZM180-400h160v-160H180v160Zm440 0h160v-160H620v160ZM180-180h160v-160H180v160Zm440 0h160v-160H620v160Z\"/>\n",
              "  </svg>\n",
              "    </button>\n",
              "\n",
              "  <style>\n",
              "    .colab-df-container {\n",
              "      display:flex;\n",
              "      gap: 12px;\n",
              "    }\n",
              "\n",
              "    .colab-df-convert {\n",
              "      background-color: #E8F0FE;\n",
              "      border: none;\n",
              "      border-radius: 50%;\n",
              "      cursor: pointer;\n",
              "      display: none;\n",
              "      fill: #1967D2;\n",
              "      height: 32px;\n",
              "      padding: 0 0 0 0;\n",
              "      width: 32px;\n",
              "    }\n",
              "\n",
              "    .colab-df-convert:hover {\n",
              "      background-color: #E2EBFA;\n",
              "      box-shadow: 0px 1px 2px rgba(60, 64, 67, 0.3), 0px 1px 3px 1px rgba(60, 64, 67, 0.15);\n",
              "      fill: #174EA6;\n",
              "    }\n",
              "\n",
              "    .colab-df-buttons div {\n",
              "      margin-bottom: 4px;\n",
              "    }\n",
              "\n",
              "    [theme=dark] .colab-df-convert {\n",
              "      background-color: #3B4455;\n",
              "      fill: #D2E3FC;\n",
              "    }\n",
              "\n",
              "    [theme=dark] .colab-df-convert:hover {\n",
              "      background-color: #434B5C;\n",
              "      box-shadow: 0px 1px 3px 1px rgba(0, 0, 0, 0.15);\n",
              "      filter: drop-shadow(0px 1px 2px rgba(0, 0, 0, 0.3));\n",
              "      fill: #FFFFFF;\n",
              "    }\n",
              "  </style>\n",
              "\n",
              "    <script>\n",
              "      const buttonEl =\n",
              "        document.querySelector('#df-62018a04-2656-4e1f-b75b-5febeffbbc19 button.colab-df-convert');\n",
              "      buttonEl.style.display =\n",
              "        google.colab.kernel.accessAllowed ? 'block' : 'none';\n",
              "\n",
              "      async function convertToInteractive(key) {\n",
              "        const element = document.querySelector('#df-62018a04-2656-4e1f-b75b-5febeffbbc19');\n",
              "        const dataTable =\n",
              "          await google.colab.kernel.invokeFunction('convertToInteractive',\n",
              "                                                    [key], {});\n",
              "        if (!dataTable) return;\n",
              "\n",
              "        const docLinkHtml = 'Like what you see? Visit the ' +\n",
              "          '<a target=\"_blank\" href=https://colab.research.google.com/notebooks/data_table.ipynb>data table notebook</a>'\n",
              "          + ' to learn more about interactive tables.';\n",
              "        element.innerHTML = '';\n",
              "        dataTable['output_type'] = 'display_data';\n",
              "        await google.colab.output.renderOutput(dataTable, element);\n",
              "        const docLink = document.createElement('div');\n",
              "        docLink.innerHTML = docLinkHtml;\n",
              "        element.appendChild(docLink);\n",
              "      }\n",
              "    </script>\n",
              "  </div>\n",
              "\n",
              "\n",
              "<div id=\"df-d2850f97-0add-4de1-bc84-0bc6647ffda5\">\n",
              "  <button class=\"colab-df-quickchart\" onclick=\"quickchart('df-d2850f97-0add-4de1-bc84-0bc6647ffda5')\"\n",
              "            title=\"Suggest charts\"\n",
              "            style=\"display:none;\">\n",
              "\n",
              "<svg xmlns=\"http://www.w3.org/2000/svg\" height=\"24px\"viewBox=\"0 0 24 24\"\n",
              "     width=\"24px\">\n",
              "    <g>\n",
              "        <path d=\"M19 3H5c-1.1 0-2 .9-2 2v14c0 1.1.9 2 2 2h14c1.1 0 2-.9 2-2V5c0-1.1-.9-2-2-2zM9 17H7v-7h2v7zm4 0h-2V7h2v10zm4 0h-2v-4h2v4z\"/>\n",
              "    </g>\n",
              "</svg>\n",
              "  </button>\n",
              "\n",
              "<style>\n",
              "  .colab-df-quickchart {\n",
              "      --bg-color: #E8F0FE;\n",
              "      --fill-color: #1967D2;\n",
              "      --hover-bg-color: #E2EBFA;\n",
              "      --hover-fill-color: #174EA6;\n",
              "      --disabled-fill-color: #AAA;\n",
              "      --disabled-bg-color: #DDD;\n",
              "  }\n",
              "\n",
              "  [theme=dark] .colab-df-quickchart {\n",
              "      --bg-color: #3B4455;\n",
              "      --fill-color: #D2E3FC;\n",
              "      --hover-bg-color: #434B5C;\n",
              "      --hover-fill-color: #FFFFFF;\n",
              "      --disabled-bg-color: #3B4455;\n",
              "      --disabled-fill-color: #666;\n",
              "  }\n",
              "\n",
              "  .colab-df-quickchart {\n",
              "    background-color: var(--bg-color);\n",
              "    border: none;\n",
              "    border-radius: 50%;\n",
              "    cursor: pointer;\n",
              "    display: none;\n",
              "    fill: var(--fill-color);\n",
              "    height: 32px;\n",
              "    padding: 0;\n",
              "    width: 32px;\n",
              "  }\n",
              "\n",
              "  .colab-df-quickchart:hover {\n",
              "    background-color: var(--hover-bg-color);\n",
              "    box-shadow: 0 1px 2px rgba(60, 64, 67, 0.3), 0 1px 3px 1px rgba(60, 64, 67, 0.15);\n",
              "    fill: var(--button-hover-fill-color);\n",
              "  }\n",
              "\n",
              "  .colab-df-quickchart-complete:disabled,\n",
              "  .colab-df-quickchart-complete:disabled:hover {\n",
              "    background-color: var(--disabled-bg-color);\n",
              "    fill: var(--disabled-fill-color);\n",
              "    box-shadow: none;\n",
              "  }\n",
              "\n",
              "  .colab-df-spinner {\n",
              "    border: 2px solid var(--fill-color);\n",
              "    border-color: transparent;\n",
              "    border-bottom-color: var(--fill-color);\n",
              "    animation:\n",
              "      spin 1s steps(1) infinite;\n",
              "  }\n",
              "\n",
              "  @keyframes spin {\n",
              "    0% {\n",
              "      border-color: transparent;\n",
              "      border-bottom-color: var(--fill-color);\n",
              "      border-left-color: var(--fill-color);\n",
              "    }\n",
              "    20% {\n",
              "      border-color: transparent;\n",
              "      border-left-color: var(--fill-color);\n",
              "      border-top-color: var(--fill-color);\n",
              "    }\n",
              "    30% {\n",
              "      border-color: transparent;\n",
              "      border-left-color: var(--fill-color);\n",
              "      border-top-color: var(--fill-color);\n",
              "      border-right-color: var(--fill-color);\n",
              "    }\n",
              "    40% {\n",
              "      border-color: transparent;\n",
              "      border-right-color: var(--fill-color);\n",
              "      border-top-color: var(--fill-color);\n",
              "    }\n",
              "    60% {\n",
              "      border-color: transparent;\n",
              "      border-right-color: var(--fill-color);\n",
              "    }\n",
              "    80% {\n",
              "      border-color: transparent;\n",
              "      border-right-color: var(--fill-color);\n",
              "      border-bottom-color: var(--fill-color);\n",
              "    }\n",
              "    90% {\n",
              "      border-color: transparent;\n",
              "      border-bottom-color: var(--fill-color);\n",
              "    }\n",
              "  }\n",
              "</style>\n",
              "\n",
              "  <script>\n",
              "    async function quickchart(key) {\n",
              "      const quickchartButtonEl =\n",
              "        document.querySelector('#' + key + ' button');\n",
              "      quickchartButtonEl.disabled = true;  // To prevent multiple clicks.\n",
              "      quickchartButtonEl.classList.add('colab-df-spinner');\n",
              "      try {\n",
              "        const charts = await google.colab.kernel.invokeFunction(\n",
              "            'suggestCharts', [key], {});\n",
              "      } catch (error) {\n",
              "        console.error('Error during call to suggestCharts:', error);\n",
              "      }\n",
              "      quickchartButtonEl.classList.remove('colab-df-spinner');\n",
              "      quickchartButtonEl.classList.add('colab-df-quickchart-complete');\n",
              "    }\n",
              "    (() => {\n",
              "      let quickchartButtonEl =\n",
              "        document.querySelector('#df-d2850f97-0add-4de1-bc84-0bc6647ffda5 button');\n",
              "      quickchartButtonEl.style.display =\n",
              "        google.colab.kernel.accessAllowed ? 'block' : 'none';\n",
              "    })();\n",
              "  </script>\n",
              "</div>\n",
              "\n",
              "    </div>\n",
              "  </div>\n"
            ],
            "text/plain": [
              "                            CONS_NO  FLAG  2014/01/01  2014/01/02  2014/01/03  \\\n",
              "0  0387DD8A07E07FDA6271170F86AD9151     1         0.0        5.64        6.99   \n",
              "1  01D6177B5D4FFE0CABA9EF17DAFC2B84     1         0.0        5.64        6.99   \n",
              "2  4B75AC4F2D8434CFF62DB64D0BB43103     1         0.0        5.64        6.99   \n",
              "3  B32AC8CC6D5D805AC053557AB05F5343     1         0.0        5.64        6.99   \n",
              "4  EDFC78B07BA2908B3395C4EB2304665E     1         2.9        5.64        6.99   \n",
              "\n",
              "   2014/01/04  2014/01/05  2014/01/06  2014/01/07  2014/01/08  ...  \\\n",
              "0        3.32        3.61        5.35        4.73        3.68  ...   \n",
              "1        3.32        3.61        5.35        4.73        3.68  ...   \n",
              "2        3.32        3.61        5.35        4.73        3.68  ...   \n",
              "3        3.32        3.61        5.35        4.73        3.68  ...   \n",
              "4        3.32        3.61        5.35        4.73        3.68  ...   \n",
              "\n",
              "   2016/10/22  2016/10/23  2016/10/24  2016/10/25  2016/10/26  2016/10/27  \\\n",
              "0        7.18        8.07        8.09        9.53        5.48        8.75   \n",
              "1        0.00        0.00        0.00        0.00        0.00        0.00   \n",
              "2       10.95       17.95       17.83       17.31       21.44       19.09   \n",
              "3       12.81       15.12       17.26       14.91       19.59       20.79   \n",
              "4       14.21       10.22        8.47        6.11        6.10        6.73   \n",
              "\n",
              "   2016/10/28  2016/10/29  2016/10/30  2016/10/31  \n",
              "0        9.30        7.54        9.16        6.74  \n",
              "1        0.00        0.00        0.00        0.00  \n",
              "2       18.56       16.25       14.20       13.66  \n",
              "3       17.95       19.26       14.46       11.72  \n",
              "4        7.52       10.89        9.86        8.72  \n",
              "\n",
              "[5 rows x 1036 columns]"
            ]
          },
          "execution_count": 28,
          "metadata": {},
          "output_type": "execute_result"
        }
      ],
      "source": [
        "df_1.head()"
      ],
      "id": "B3EZUU6VlVfB"
    },
    {
      "cell_type": "code",
      "execution_count": null,
      "metadata": {
        "colab": {
          "base_uri": "https://localhost:8080/",
          "height": 424
        },
        "id": "OGaoMWS1EOIg",
        "outputId": "3ccb2924-fb0e-4b5b-fc41-fa8fb5cbf10a"
      },
      "outputs": [
        {
          "data": {
            "text/html": [
              "\n",
              "  <div id=\"df-31c97d35-da5a-40c6-8f90-c57d6eb4e7e7\" class=\"colab-df-container\">\n",
              "    <div>\n",
              "<style scoped>\n",
              "    .dataframe tbody tr th:only-of-type {\n",
              "        vertical-align: middle;\n",
              "    }\n",
              "\n",
              "    .dataframe tbody tr th {\n",
              "        vertical-align: top;\n",
              "    }\n",
              "\n",
              "    .dataframe thead th {\n",
              "        text-align: right;\n",
              "    }\n",
              "</style>\n",
              "<table border=\"1\" class=\"dataframe\">\n",
              "  <thead>\n",
              "    <tr style=\"text-align: right;\">\n",
              "      <th></th>\n",
              "      <th>Overall</th>\n",
              "      <th>Percentage</th>\n",
              "    </tr>\n",
              "  </thead>\n",
              "  <tbody>\n",
              "    <tr>\n",
              "      <th>CONS_NO</th>\n",
              "      <td>0</td>\n",
              "      <td>0.0</td>\n",
              "    </tr>\n",
              "    <tr>\n",
              "      <th>2015/12/12</th>\n",
              "      <td>0</td>\n",
              "      <td>0.0</td>\n",
              "    </tr>\n",
              "    <tr>\n",
              "      <th>2015/11/12</th>\n",
              "      <td>0</td>\n",
              "      <td>0.0</td>\n",
              "    </tr>\n",
              "    <tr>\n",
              "      <th>2015/11/13</th>\n",
              "      <td>0</td>\n",
              "      <td>0.0</td>\n",
              "    </tr>\n",
              "    <tr>\n",
              "      <th>2015/11/14</th>\n",
              "      <td>0</td>\n",
              "      <td>0.0</td>\n",
              "    </tr>\n",
              "    <tr>\n",
              "      <th>...</th>\n",
              "      <td>...</td>\n",
              "      <td>...</td>\n",
              "    </tr>\n",
              "    <tr>\n",
              "      <th>2014/12/15</th>\n",
              "      <td>0</td>\n",
              "      <td>0.0</td>\n",
              "    </tr>\n",
              "    <tr>\n",
              "      <th>2014/12/16</th>\n",
              "      <td>0</td>\n",
              "      <td>0.0</td>\n",
              "    </tr>\n",
              "    <tr>\n",
              "      <th>2014/12/17</th>\n",
              "      <td>0</td>\n",
              "      <td>0.0</td>\n",
              "    </tr>\n",
              "    <tr>\n",
              "      <th>2014/12/18</th>\n",
              "      <td>0</td>\n",
              "      <td>0.0</td>\n",
              "    </tr>\n",
              "    <tr>\n",
              "      <th>2016/10/31</th>\n",
              "      <td>0</td>\n",
              "      <td>0.0</td>\n",
              "    </tr>\n",
              "  </tbody>\n",
              "</table>\n",
              "<p>1036 rows × 2 columns</p>\n",
              "</div>\n",
              "    <div class=\"colab-df-buttons\">\n",
              "\n",
              "  <div class=\"colab-df-container\">\n",
              "    <button class=\"colab-df-convert\" onclick=\"convertToInteractive('df-31c97d35-da5a-40c6-8f90-c57d6eb4e7e7')\"\n",
              "            title=\"Convert this dataframe to an interactive table.\"\n",
              "            style=\"display:none;\">\n",
              "\n",
              "  <svg xmlns=\"http://www.w3.org/2000/svg\" height=\"24px\" viewBox=\"0 -960 960 960\">\n",
              "    <path d=\"M120-120v-720h720v720H120Zm60-500h600v-160H180v160Zm220 220h160v-160H400v160Zm0 220h160v-160H400v160ZM180-400h160v-160H180v160Zm440 0h160v-160H620v160ZM180-180h160v-160H180v160Zm440 0h160v-160H620v160Z\"/>\n",
              "  </svg>\n",
              "    </button>\n",
              "\n",
              "  <style>\n",
              "    .colab-df-container {\n",
              "      display:flex;\n",
              "      gap: 12px;\n",
              "    }\n",
              "\n",
              "    .colab-df-convert {\n",
              "      background-color: #E8F0FE;\n",
              "      border: none;\n",
              "      border-radius: 50%;\n",
              "      cursor: pointer;\n",
              "      display: none;\n",
              "      fill: #1967D2;\n",
              "      height: 32px;\n",
              "      padding: 0 0 0 0;\n",
              "      width: 32px;\n",
              "    }\n",
              "\n",
              "    .colab-df-convert:hover {\n",
              "      background-color: #E2EBFA;\n",
              "      box-shadow: 0px 1px 2px rgba(60, 64, 67, 0.3), 0px 1px 3px 1px rgba(60, 64, 67, 0.15);\n",
              "      fill: #174EA6;\n",
              "    }\n",
              "\n",
              "    .colab-df-buttons div {\n",
              "      margin-bottom: 4px;\n",
              "    }\n",
              "\n",
              "    [theme=dark] .colab-df-convert {\n",
              "      background-color: #3B4455;\n",
              "      fill: #D2E3FC;\n",
              "    }\n",
              "\n",
              "    [theme=dark] .colab-df-convert:hover {\n",
              "      background-color: #434B5C;\n",
              "      box-shadow: 0px 1px 3px 1px rgba(0, 0, 0, 0.15);\n",
              "      filter: drop-shadow(0px 1px 2px rgba(0, 0, 0, 0.3));\n",
              "      fill: #FFFFFF;\n",
              "    }\n",
              "  </style>\n",
              "\n",
              "    <script>\n",
              "      const buttonEl =\n",
              "        document.querySelector('#df-31c97d35-da5a-40c6-8f90-c57d6eb4e7e7 button.colab-df-convert');\n",
              "      buttonEl.style.display =\n",
              "        google.colab.kernel.accessAllowed ? 'block' : 'none';\n",
              "\n",
              "      async function convertToInteractive(key) {\n",
              "        const element = document.querySelector('#df-31c97d35-da5a-40c6-8f90-c57d6eb4e7e7');\n",
              "        const dataTable =\n",
              "          await google.colab.kernel.invokeFunction('convertToInteractive',\n",
              "                                                    [key], {});\n",
              "        if (!dataTable) return;\n",
              "\n",
              "        const docLinkHtml = 'Like what you see? Visit the ' +\n",
              "          '<a target=\"_blank\" href=https://colab.research.google.com/notebooks/data_table.ipynb>data table notebook</a>'\n",
              "          + ' to learn more about interactive tables.';\n",
              "        element.innerHTML = '';\n",
              "        dataTable['output_type'] = 'display_data';\n",
              "        await google.colab.output.renderOutput(dataTable, element);\n",
              "        const docLink = document.createElement('div');\n",
              "        docLink.innerHTML = docLinkHtml;\n",
              "        element.appendChild(docLink);\n",
              "      }\n",
              "    </script>\n",
              "  </div>\n",
              "\n",
              "\n",
              "<div id=\"df-747ffb1d-a4de-4113-a1b0-f3cf1826da8e\">\n",
              "  <button class=\"colab-df-quickchart\" onclick=\"quickchart('df-747ffb1d-a4de-4113-a1b0-f3cf1826da8e')\"\n",
              "            title=\"Suggest charts\"\n",
              "            style=\"display:none;\">\n",
              "\n",
              "<svg xmlns=\"http://www.w3.org/2000/svg\" height=\"24px\"viewBox=\"0 0 24 24\"\n",
              "     width=\"24px\">\n",
              "    <g>\n",
              "        <path d=\"M19 3H5c-1.1 0-2 .9-2 2v14c0 1.1.9 2 2 2h14c1.1 0 2-.9 2-2V5c0-1.1-.9-2-2-2zM9 17H7v-7h2v7zm4 0h-2V7h2v10zm4 0h-2v-4h2v4z\"/>\n",
              "    </g>\n",
              "</svg>\n",
              "  </button>\n",
              "\n",
              "<style>\n",
              "  .colab-df-quickchart {\n",
              "      --bg-color: #E8F0FE;\n",
              "      --fill-color: #1967D2;\n",
              "      --hover-bg-color: #E2EBFA;\n",
              "      --hover-fill-color: #174EA6;\n",
              "      --disabled-fill-color: #AAA;\n",
              "      --disabled-bg-color: #DDD;\n",
              "  }\n",
              "\n",
              "  [theme=dark] .colab-df-quickchart {\n",
              "      --bg-color: #3B4455;\n",
              "      --fill-color: #D2E3FC;\n",
              "      --hover-bg-color: #434B5C;\n",
              "      --hover-fill-color: #FFFFFF;\n",
              "      --disabled-bg-color: #3B4455;\n",
              "      --disabled-fill-color: #666;\n",
              "  }\n",
              "\n",
              "  .colab-df-quickchart {\n",
              "    background-color: var(--bg-color);\n",
              "    border: none;\n",
              "    border-radius: 50%;\n",
              "    cursor: pointer;\n",
              "    display: none;\n",
              "    fill: var(--fill-color);\n",
              "    height: 32px;\n",
              "    padding: 0;\n",
              "    width: 32px;\n",
              "  }\n",
              "\n",
              "  .colab-df-quickchart:hover {\n",
              "    background-color: var(--hover-bg-color);\n",
              "    box-shadow: 0 1px 2px rgba(60, 64, 67, 0.3), 0 1px 3px 1px rgba(60, 64, 67, 0.15);\n",
              "    fill: var(--button-hover-fill-color);\n",
              "  }\n",
              "\n",
              "  .colab-df-quickchart-complete:disabled,\n",
              "  .colab-df-quickchart-complete:disabled:hover {\n",
              "    background-color: var(--disabled-bg-color);\n",
              "    fill: var(--disabled-fill-color);\n",
              "    box-shadow: none;\n",
              "  }\n",
              "\n",
              "  .colab-df-spinner {\n",
              "    border: 2px solid var(--fill-color);\n",
              "    border-color: transparent;\n",
              "    border-bottom-color: var(--fill-color);\n",
              "    animation:\n",
              "      spin 1s steps(1) infinite;\n",
              "  }\n",
              "\n",
              "  @keyframes spin {\n",
              "    0% {\n",
              "      border-color: transparent;\n",
              "      border-bottom-color: var(--fill-color);\n",
              "      border-left-color: var(--fill-color);\n",
              "    }\n",
              "    20% {\n",
              "      border-color: transparent;\n",
              "      border-left-color: var(--fill-color);\n",
              "      border-top-color: var(--fill-color);\n",
              "    }\n",
              "    30% {\n",
              "      border-color: transparent;\n",
              "      border-left-color: var(--fill-color);\n",
              "      border-top-color: var(--fill-color);\n",
              "      border-right-color: var(--fill-color);\n",
              "    }\n",
              "    40% {\n",
              "      border-color: transparent;\n",
              "      border-right-color: var(--fill-color);\n",
              "      border-top-color: var(--fill-color);\n",
              "    }\n",
              "    60% {\n",
              "      border-color: transparent;\n",
              "      border-right-color: var(--fill-color);\n",
              "    }\n",
              "    80% {\n",
              "      border-color: transparent;\n",
              "      border-right-color: var(--fill-color);\n",
              "      border-bottom-color: var(--fill-color);\n",
              "    }\n",
              "    90% {\n",
              "      border-color: transparent;\n",
              "      border-bottom-color: var(--fill-color);\n",
              "    }\n",
              "  }\n",
              "</style>\n",
              "\n",
              "  <script>\n",
              "    async function quickchart(key) {\n",
              "      const quickchartButtonEl =\n",
              "        document.querySelector('#' + key + ' button');\n",
              "      quickchartButtonEl.disabled = true;  // To prevent multiple clicks.\n",
              "      quickchartButtonEl.classList.add('colab-df-spinner');\n",
              "      try {\n",
              "        const charts = await google.colab.kernel.invokeFunction(\n",
              "            'suggestCharts', [key], {});\n",
              "      } catch (error) {\n",
              "        console.error('Error during call to suggestCharts:', error);\n",
              "      }\n",
              "      quickchartButtonEl.classList.remove('colab-df-spinner');\n",
              "      quickchartButtonEl.classList.add('colab-df-quickchart-complete');\n",
              "    }\n",
              "    (() => {\n",
              "      let quickchartButtonEl =\n",
              "        document.querySelector('#df-747ffb1d-a4de-4113-a1b0-f3cf1826da8e button');\n",
              "      quickchartButtonEl.style.display =\n",
              "        google.colab.kernel.accessAllowed ? 'block' : 'none';\n",
              "    })();\n",
              "  </script>\n",
              "</div>\n",
              "\n",
              "    </div>\n",
              "  </div>\n"
            ],
            "text/plain": [
              "            Overall  Percentage\n",
              "CONS_NO           0         0.0\n",
              "2015/12/12        0         0.0\n",
              "2015/11/12        0         0.0\n",
              "2015/11/13        0         0.0\n",
              "2015/11/14        0         0.0\n",
              "...             ...         ...\n",
              "2014/12/15        0         0.0\n",
              "2014/12/16        0         0.0\n",
              "2014/12/17        0         0.0\n",
              "2014/12/18        0         0.0\n",
              "2016/10/31        0         0.0\n",
              "\n",
              "[1036 rows x 2 columns]"
            ]
          },
          "execution_count": 29,
          "metadata": {},
          "output_type": "execute_result"
        }
      ],
      "source": [
        "def missing_data_all(df):\n",
        "    overall = df.isnull().sum().sort_values(ascending=False)\n",
        "    percentage = (df.isnull().sum()/df.isnull().count()).sort_values(ascending=False)\n",
        "    missing_data = pd.concat([overall, percentage], axis=1, keys=['Overall', 'Percentage'])\n",
        "    return missing_data\n",
        "\n",
        "missing_data_all(df_1)"
      ],
      "id": "OGaoMWS1EOIg"
    },
    {
      "cell_type": "markdown",
      "metadata": {
        "id": "b8qEGSStnvJg"
      },
      "source": [
        "#Data splitting into features and target"
      ],
      "id": "b8qEGSStnvJg"
    },
    {
      "cell_type": "code",
      "execution_count": null,
      "metadata": {
        "colab": {
          "base_uri": "https://localhost:8080/",
          "height": 444
        },
        "id": "ssiBTU1OIKg0",
        "outputId": "2ce1293c-f3af-4491-ea6f-21a44e95b63c"
      },
      "outputs": [
        {
          "data": {
            "text/html": [
              "\n",
              "  <div id=\"df-60d59119-f2c3-4fae-be68-7c9a73ad182b\" class=\"colab-df-container\">\n",
              "    <div>\n",
              "<style scoped>\n",
              "    .dataframe tbody tr th:only-of-type {\n",
              "        vertical-align: middle;\n",
              "    }\n",
              "\n",
              "    .dataframe tbody tr th {\n",
              "        vertical-align: top;\n",
              "    }\n",
              "\n",
              "    .dataframe thead th {\n",
              "        text-align: right;\n",
              "    }\n",
              "</style>\n",
              "<table border=\"1\" class=\"dataframe\">\n",
              "  <thead>\n",
              "    <tr style=\"text-align: right;\">\n",
              "      <th></th>\n",
              "      <th>2014/01/01</th>\n",
              "      <th>2014/01/02</th>\n",
              "      <th>2014/01/03</th>\n",
              "      <th>2014/01/04</th>\n",
              "      <th>2014/01/05</th>\n",
              "      <th>2014/01/06</th>\n",
              "      <th>2014/01/07</th>\n",
              "      <th>2014/01/08</th>\n",
              "      <th>2014/01/09</th>\n",
              "      <th>2014/01/10</th>\n",
              "      <th>...</th>\n",
              "      <th>2016/10/22</th>\n",
              "      <th>2016/10/23</th>\n",
              "      <th>2016/10/24</th>\n",
              "      <th>2016/10/25</th>\n",
              "      <th>2016/10/26</th>\n",
              "      <th>2016/10/27</th>\n",
              "      <th>2016/10/28</th>\n",
              "      <th>2016/10/29</th>\n",
              "      <th>2016/10/30</th>\n",
              "      <th>2016/10/31</th>\n",
              "    </tr>\n",
              "  </thead>\n",
              "  <tbody>\n",
              "    <tr>\n",
              "      <th>0</th>\n",
              "      <td>0.00</td>\n",
              "      <td>5.64</td>\n",
              "      <td>6.99</td>\n",
              "      <td>3.32</td>\n",
              "      <td>3.610000</td>\n",
              "      <td>5.35</td>\n",
              "      <td>4.730000</td>\n",
              "      <td>3.680000</td>\n",
              "      <td>3.530000</td>\n",
              "      <td>3.420000</td>\n",
              "      <td>...</td>\n",
              "      <td>7.18</td>\n",
              "      <td>8.07</td>\n",
              "      <td>8.09</td>\n",
              "      <td>9.53</td>\n",
              "      <td>5.48</td>\n",
              "      <td>8.75</td>\n",
              "      <td>9.30</td>\n",
              "      <td>7.54</td>\n",
              "      <td>9.16</td>\n",
              "      <td>6.74</td>\n",
              "    </tr>\n",
              "    <tr>\n",
              "      <th>1</th>\n",
              "      <td>0.00</td>\n",
              "      <td>5.64</td>\n",
              "      <td>6.99</td>\n",
              "      <td>3.32</td>\n",
              "      <td>3.610000</td>\n",
              "      <td>5.35</td>\n",
              "      <td>4.730000</td>\n",
              "      <td>3.680000</td>\n",
              "      <td>3.530000</td>\n",
              "      <td>3.420000</td>\n",
              "      <td>...</td>\n",
              "      <td>0.00</td>\n",
              "      <td>0.00</td>\n",
              "      <td>0.00</td>\n",
              "      <td>0.00</td>\n",
              "      <td>0.00</td>\n",
              "      <td>0.00</td>\n",
              "      <td>0.00</td>\n",
              "      <td>0.00</td>\n",
              "      <td>0.00</td>\n",
              "      <td>0.00</td>\n",
              "    </tr>\n",
              "    <tr>\n",
              "      <th>2</th>\n",
              "      <td>0.00</td>\n",
              "      <td>5.64</td>\n",
              "      <td>6.99</td>\n",
              "      <td>3.32</td>\n",
              "      <td>3.610000</td>\n",
              "      <td>5.35</td>\n",
              "      <td>4.730000</td>\n",
              "      <td>3.680000</td>\n",
              "      <td>3.530000</td>\n",
              "      <td>3.420000</td>\n",
              "      <td>...</td>\n",
              "      <td>10.95</td>\n",
              "      <td>17.95</td>\n",
              "      <td>17.83</td>\n",
              "      <td>17.31</td>\n",
              "      <td>21.44</td>\n",
              "      <td>19.09</td>\n",
              "      <td>18.56</td>\n",
              "      <td>16.25</td>\n",
              "      <td>14.20</td>\n",
              "      <td>13.66</td>\n",
              "    </tr>\n",
              "    <tr>\n",
              "      <th>3</th>\n",
              "      <td>0.00</td>\n",
              "      <td>5.64</td>\n",
              "      <td>6.99</td>\n",
              "      <td>3.32</td>\n",
              "      <td>3.610000</td>\n",
              "      <td>5.35</td>\n",
              "      <td>4.730000</td>\n",
              "      <td>3.680000</td>\n",
              "      <td>3.530000</td>\n",
              "      <td>3.420000</td>\n",
              "      <td>...</td>\n",
              "      <td>12.81</td>\n",
              "      <td>15.12</td>\n",
              "      <td>17.26</td>\n",
              "      <td>14.91</td>\n",
              "      <td>19.59</td>\n",
              "      <td>20.79</td>\n",
              "      <td>17.95</td>\n",
              "      <td>19.26</td>\n",
              "      <td>14.46</td>\n",
              "      <td>11.72</td>\n",
              "    </tr>\n",
              "    <tr>\n",
              "      <th>4</th>\n",
              "      <td>2.90</td>\n",
              "      <td>5.64</td>\n",
              "      <td>6.99</td>\n",
              "      <td>3.32</td>\n",
              "      <td>3.610000</td>\n",
              "      <td>5.35</td>\n",
              "      <td>4.730000</td>\n",
              "      <td>3.680000</td>\n",
              "      <td>3.530000</td>\n",
              "      <td>3.420000</td>\n",
              "      <td>...</td>\n",
              "      <td>14.21</td>\n",
              "      <td>10.22</td>\n",
              "      <td>8.47</td>\n",
              "      <td>6.11</td>\n",
              "      <td>6.10</td>\n",
              "      <td>6.73</td>\n",
              "      <td>7.52</td>\n",
              "      <td>10.89</td>\n",
              "      <td>9.86</td>\n",
              "      <td>8.72</td>\n",
              "    </tr>\n",
              "    <tr>\n",
              "      <th>...</th>\n",
              "      <td>...</td>\n",
              "      <td>...</td>\n",
              "      <td>...</td>\n",
              "      <td>...</td>\n",
              "      <td>...</td>\n",
              "      <td>...</td>\n",
              "      <td>...</td>\n",
              "      <td>...</td>\n",
              "      <td>...</td>\n",
              "      <td>...</td>\n",
              "      <td>...</td>\n",
              "      <td>...</td>\n",
              "      <td>...</td>\n",
              "      <td>...</td>\n",
              "      <td>...</td>\n",
              "      <td>...</td>\n",
              "      <td>...</td>\n",
              "      <td>...</td>\n",
              "      <td>...</td>\n",
              "      <td>...</td>\n",
              "      <td>...</td>\n",
              "    </tr>\n",
              "    <tr>\n",
              "      <th>42367</th>\n",
              "      <td>0.00</td>\n",
              "      <td>1.68</td>\n",
              "      <td>1.64</td>\n",
              "      <td>5.44</td>\n",
              "      <td>8.563333</td>\n",
              "      <td>7.45</td>\n",
              "      <td>3.646667</td>\n",
              "      <td>4.806667</td>\n",
              "      <td>6.143333</td>\n",
              "      <td>2.926667</td>\n",
              "      <td>...</td>\n",
              "      <td>3.27</td>\n",
              "      <td>3.10</td>\n",
              "      <td>2.75</td>\n",
              "      <td>3.01</td>\n",
              "      <td>2.99</td>\n",
              "      <td>2.83</td>\n",
              "      <td>2.54</td>\n",
              "      <td>3.40</td>\n",
              "      <td>3.59</td>\n",
              "      <td>2.54</td>\n",
              "    </tr>\n",
              "    <tr>\n",
              "      <th>42368</th>\n",
              "      <td>2.70</td>\n",
              "      <td>0.00</td>\n",
              "      <td>0.00</td>\n",
              "      <td>5.72</td>\n",
              "      <td>6.050000</td>\n",
              "      <td>5.81</td>\n",
              "      <td>3.070000</td>\n",
              "      <td>4.040000</td>\n",
              "      <td>5.680000</td>\n",
              "      <td>4.390000</td>\n",
              "      <td>...</td>\n",
              "      <td>3.84</td>\n",
              "      <td>6.62</td>\n",
              "      <td>3.12</td>\n",
              "      <td>5.16</td>\n",
              "      <td>3.62</td>\n",
              "      <td>4.64</td>\n",
              "      <td>3.71</td>\n",
              "      <td>6.22</td>\n",
              "      <td>6.05</td>\n",
              "      <td>4.77</td>\n",
              "    </tr>\n",
              "    <tr>\n",
              "      <th>42369</th>\n",
              "      <td>0.58</td>\n",
              "      <td>1.16</td>\n",
              "      <td>0.92</td>\n",
              "      <td>0.98</td>\n",
              "      <td>1.540000</td>\n",
              "      <td>1.38</td>\n",
              "      <td>0.890000</td>\n",
              "      <td>0.700000</td>\n",
              "      <td>1.230000</td>\n",
              "      <td>0.840000</td>\n",
              "      <td>...</td>\n",
              "      <td>0.99</td>\n",
              "      <td>0.61</td>\n",
              "      <td>0.65</td>\n",
              "      <td>0.55</td>\n",
              "      <td>0.49</td>\n",
              "      <td>0.51</td>\n",
              "      <td>0.79</td>\n",
              "      <td>0.66</td>\n",
              "      <td>0.39</td>\n",
              "      <td>0.65</td>\n",
              "    </tr>\n",
              "    <tr>\n",
              "      <th>42370</th>\n",
              "      <td>16.89</td>\n",
              "      <td>15.15</td>\n",
              "      <td>19.28</td>\n",
              "      <td>17.19</td>\n",
              "      <td>16.800000</td>\n",
              "      <td>17.48</td>\n",
              "      <td>17.860000</td>\n",
              "      <td>23.990000</td>\n",
              "      <td>12.340000</td>\n",
              "      <td>13.840000</td>\n",
              "      <td>...</td>\n",
              "      <td>15.64</td>\n",
              "      <td>16.48</td>\n",
              "      <td>13.04</td>\n",
              "      <td>10.39</td>\n",
              "      <td>12.00</td>\n",
              "      <td>11.15</td>\n",
              "      <td>12.22</td>\n",
              "      <td>13.16</td>\n",
              "      <td>13.33</td>\n",
              "      <td>10.39</td>\n",
              "    </tr>\n",
              "    <tr>\n",
              "      <th>42371</th>\n",
              "      <td>0.00</td>\n",
              "      <td>15.15</td>\n",
              "      <td>19.28</td>\n",
              "      <td>17.19</td>\n",
              "      <td>16.800000</td>\n",
              "      <td>17.48</td>\n",
              "      <td>17.860000</td>\n",
              "      <td>23.990000</td>\n",
              "      <td>12.340000</td>\n",
              "      <td>13.840000</td>\n",
              "      <td>...</td>\n",
              "      <td>10.56</td>\n",
              "      <td>17.14</td>\n",
              "      <td>8.35</td>\n",
              "      <td>8.68</td>\n",
              "      <td>6.39</td>\n",
              "      <td>7.96</td>\n",
              "      <td>8.13</td>\n",
              "      <td>11.50</td>\n",
              "      <td>7.16</td>\n",
              "      <td>5.25</td>\n",
              "    </tr>\n",
              "  </tbody>\n",
              "</table>\n",
              "<p>42372 rows × 1034 columns</p>\n",
              "</div>\n",
              "    <div class=\"colab-df-buttons\">\n",
              "\n",
              "  <div class=\"colab-df-container\">\n",
              "    <button class=\"colab-df-convert\" onclick=\"convertToInteractive('df-60d59119-f2c3-4fae-be68-7c9a73ad182b')\"\n",
              "            title=\"Convert this dataframe to an interactive table.\"\n",
              "            style=\"display:none;\">\n",
              "\n",
              "  <svg xmlns=\"http://www.w3.org/2000/svg\" height=\"24px\" viewBox=\"0 -960 960 960\">\n",
              "    <path d=\"M120-120v-720h720v720H120Zm60-500h600v-160H180v160Zm220 220h160v-160H400v160Zm0 220h160v-160H400v160ZM180-400h160v-160H180v160Zm440 0h160v-160H620v160ZM180-180h160v-160H180v160Zm440 0h160v-160H620v160Z\"/>\n",
              "  </svg>\n",
              "    </button>\n",
              "\n",
              "  <style>\n",
              "    .colab-df-container {\n",
              "      display:flex;\n",
              "      gap: 12px;\n",
              "    }\n",
              "\n",
              "    .colab-df-convert {\n",
              "      background-color: #E8F0FE;\n",
              "      border: none;\n",
              "      border-radius: 50%;\n",
              "      cursor: pointer;\n",
              "      display: none;\n",
              "      fill: #1967D2;\n",
              "      height: 32px;\n",
              "      padding: 0 0 0 0;\n",
              "      width: 32px;\n",
              "    }\n",
              "\n",
              "    .colab-df-convert:hover {\n",
              "      background-color: #E2EBFA;\n",
              "      box-shadow: 0px 1px 2px rgba(60, 64, 67, 0.3), 0px 1px 3px 1px rgba(60, 64, 67, 0.15);\n",
              "      fill: #174EA6;\n",
              "    }\n",
              "\n",
              "    .colab-df-buttons div {\n",
              "      margin-bottom: 4px;\n",
              "    }\n",
              "\n",
              "    [theme=dark] .colab-df-convert {\n",
              "      background-color: #3B4455;\n",
              "      fill: #D2E3FC;\n",
              "    }\n",
              "\n",
              "    [theme=dark] .colab-df-convert:hover {\n",
              "      background-color: #434B5C;\n",
              "      box-shadow: 0px 1px 3px 1px rgba(0, 0, 0, 0.15);\n",
              "      filter: drop-shadow(0px 1px 2px rgba(0, 0, 0, 0.3));\n",
              "      fill: #FFFFFF;\n",
              "    }\n",
              "  </style>\n",
              "\n",
              "    <script>\n",
              "      const buttonEl =\n",
              "        document.querySelector('#df-60d59119-f2c3-4fae-be68-7c9a73ad182b button.colab-df-convert');\n",
              "      buttonEl.style.display =\n",
              "        google.colab.kernel.accessAllowed ? 'block' : 'none';\n",
              "\n",
              "      async function convertToInteractive(key) {\n",
              "        const element = document.querySelector('#df-60d59119-f2c3-4fae-be68-7c9a73ad182b');\n",
              "        const dataTable =\n",
              "          await google.colab.kernel.invokeFunction('convertToInteractive',\n",
              "                                                    [key], {});\n",
              "        if (!dataTable) return;\n",
              "\n",
              "        const docLinkHtml = 'Like what you see? Visit the ' +\n",
              "          '<a target=\"_blank\" href=https://colab.research.google.com/notebooks/data_table.ipynb>data table notebook</a>'\n",
              "          + ' to learn more about interactive tables.';\n",
              "        element.innerHTML = '';\n",
              "        dataTable['output_type'] = 'display_data';\n",
              "        await google.colab.output.renderOutput(dataTable, element);\n",
              "        const docLink = document.createElement('div');\n",
              "        docLink.innerHTML = docLinkHtml;\n",
              "        element.appendChild(docLink);\n",
              "      }\n",
              "    </script>\n",
              "  </div>\n",
              "\n",
              "\n",
              "<div id=\"df-1950717e-0b35-413c-8222-ad11b7821ad1\">\n",
              "  <button class=\"colab-df-quickchart\" onclick=\"quickchart('df-1950717e-0b35-413c-8222-ad11b7821ad1')\"\n",
              "            title=\"Suggest charts\"\n",
              "            style=\"display:none;\">\n",
              "\n",
              "<svg xmlns=\"http://www.w3.org/2000/svg\" height=\"24px\"viewBox=\"0 0 24 24\"\n",
              "     width=\"24px\">\n",
              "    <g>\n",
              "        <path d=\"M19 3H5c-1.1 0-2 .9-2 2v14c0 1.1.9 2 2 2h14c1.1 0 2-.9 2-2V5c0-1.1-.9-2-2-2zM9 17H7v-7h2v7zm4 0h-2V7h2v10zm4 0h-2v-4h2v4z\"/>\n",
              "    </g>\n",
              "</svg>\n",
              "  </button>\n",
              "\n",
              "<style>\n",
              "  .colab-df-quickchart {\n",
              "      --bg-color: #E8F0FE;\n",
              "      --fill-color: #1967D2;\n",
              "      --hover-bg-color: #E2EBFA;\n",
              "      --hover-fill-color: #174EA6;\n",
              "      --disabled-fill-color: #AAA;\n",
              "      --disabled-bg-color: #DDD;\n",
              "  }\n",
              "\n",
              "  [theme=dark] .colab-df-quickchart {\n",
              "      --bg-color: #3B4455;\n",
              "      --fill-color: #D2E3FC;\n",
              "      --hover-bg-color: #434B5C;\n",
              "      --hover-fill-color: #FFFFFF;\n",
              "      --disabled-bg-color: #3B4455;\n",
              "      --disabled-fill-color: #666;\n",
              "  }\n",
              "\n",
              "  .colab-df-quickchart {\n",
              "    background-color: var(--bg-color);\n",
              "    border: none;\n",
              "    border-radius: 50%;\n",
              "    cursor: pointer;\n",
              "    display: none;\n",
              "    fill: var(--fill-color);\n",
              "    height: 32px;\n",
              "    padding: 0;\n",
              "    width: 32px;\n",
              "  }\n",
              "\n",
              "  .colab-df-quickchart:hover {\n",
              "    background-color: var(--hover-bg-color);\n",
              "    box-shadow: 0 1px 2px rgba(60, 64, 67, 0.3), 0 1px 3px 1px rgba(60, 64, 67, 0.15);\n",
              "    fill: var(--button-hover-fill-color);\n",
              "  }\n",
              "\n",
              "  .colab-df-quickchart-complete:disabled,\n",
              "  .colab-df-quickchart-complete:disabled:hover {\n",
              "    background-color: var(--disabled-bg-color);\n",
              "    fill: var(--disabled-fill-color);\n",
              "    box-shadow: none;\n",
              "  }\n",
              "\n",
              "  .colab-df-spinner {\n",
              "    border: 2px solid var(--fill-color);\n",
              "    border-color: transparent;\n",
              "    border-bottom-color: var(--fill-color);\n",
              "    animation:\n",
              "      spin 1s steps(1) infinite;\n",
              "  }\n",
              "\n",
              "  @keyframes spin {\n",
              "    0% {\n",
              "      border-color: transparent;\n",
              "      border-bottom-color: var(--fill-color);\n",
              "      border-left-color: var(--fill-color);\n",
              "    }\n",
              "    20% {\n",
              "      border-color: transparent;\n",
              "      border-left-color: var(--fill-color);\n",
              "      border-top-color: var(--fill-color);\n",
              "    }\n",
              "    30% {\n",
              "      border-color: transparent;\n",
              "      border-left-color: var(--fill-color);\n",
              "      border-top-color: var(--fill-color);\n",
              "      border-right-color: var(--fill-color);\n",
              "    }\n",
              "    40% {\n",
              "      border-color: transparent;\n",
              "      border-right-color: var(--fill-color);\n",
              "      border-top-color: var(--fill-color);\n",
              "    }\n",
              "    60% {\n",
              "      border-color: transparent;\n",
              "      border-right-color: var(--fill-color);\n",
              "    }\n",
              "    80% {\n",
              "      border-color: transparent;\n",
              "      border-right-color: var(--fill-color);\n",
              "      border-bottom-color: var(--fill-color);\n",
              "    }\n",
              "    90% {\n",
              "      border-color: transparent;\n",
              "      border-bottom-color: var(--fill-color);\n",
              "    }\n",
              "  }\n",
              "</style>\n",
              "\n",
              "  <script>\n",
              "    async function quickchart(key) {\n",
              "      const quickchartButtonEl =\n",
              "        document.querySelector('#' + key + ' button');\n",
              "      quickchartButtonEl.disabled = true;  // To prevent multiple clicks.\n",
              "      quickchartButtonEl.classList.add('colab-df-spinner');\n",
              "      try {\n",
              "        const charts = await google.colab.kernel.invokeFunction(\n",
              "            'suggestCharts', [key], {});\n",
              "      } catch (error) {\n",
              "        console.error('Error during call to suggestCharts:', error);\n",
              "      }\n",
              "      quickchartButtonEl.classList.remove('colab-df-spinner');\n",
              "      quickchartButtonEl.classList.add('colab-df-quickchart-complete');\n",
              "    }\n",
              "    (() => {\n",
              "      let quickchartButtonEl =\n",
              "        document.querySelector('#df-1950717e-0b35-413c-8222-ad11b7821ad1 button');\n",
              "      quickchartButtonEl.style.display =\n",
              "        google.colab.kernel.accessAllowed ? 'block' : 'none';\n",
              "    })();\n",
              "  </script>\n",
              "</div>\n",
              "\n",
              "    </div>\n",
              "  </div>\n"
            ],
            "text/plain": [
              "       2014/01/01  2014/01/02  2014/01/03  2014/01/04  2014/01/05  2014/01/06  \\\n",
              "0            0.00        5.64        6.99        3.32    3.610000        5.35   \n",
              "1            0.00        5.64        6.99        3.32    3.610000        5.35   \n",
              "2            0.00        5.64        6.99        3.32    3.610000        5.35   \n",
              "3            0.00        5.64        6.99        3.32    3.610000        5.35   \n",
              "4            2.90        5.64        6.99        3.32    3.610000        5.35   \n",
              "...           ...         ...         ...         ...         ...         ...   \n",
              "42367        0.00        1.68        1.64        5.44    8.563333        7.45   \n",
              "42368        2.70        0.00        0.00        5.72    6.050000        5.81   \n",
              "42369        0.58        1.16        0.92        0.98    1.540000        1.38   \n",
              "42370       16.89       15.15       19.28       17.19   16.800000       17.48   \n",
              "42371        0.00       15.15       19.28       17.19   16.800000       17.48   \n",
              "\n",
              "       2014/01/07  2014/01/08  2014/01/09  2014/01/10  ...  2016/10/22  \\\n",
              "0        4.730000    3.680000    3.530000    3.420000  ...        7.18   \n",
              "1        4.730000    3.680000    3.530000    3.420000  ...        0.00   \n",
              "2        4.730000    3.680000    3.530000    3.420000  ...       10.95   \n",
              "3        4.730000    3.680000    3.530000    3.420000  ...       12.81   \n",
              "4        4.730000    3.680000    3.530000    3.420000  ...       14.21   \n",
              "...           ...         ...         ...         ...  ...         ...   \n",
              "42367    3.646667    4.806667    6.143333    2.926667  ...        3.27   \n",
              "42368    3.070000    4.040000    5.680000    4.390000  ...        3.84   \n",
              "42369    0.890000    0.700000    1.230000    0.840000  ...        0.99   \n",
              "42370   17.860000   23.990000   12.340000   13.840000  ...       15.64   \n",
              "42371   17.860000   23.990000   12.340000   13.840000  ...       10.56   \n",
              "\n",
              "       2016/10/23  2016/10/24  2016/10/25  2016/10/26  2016/10/27  2016/10/28  \\\n",
              "0            8.07        8.09        9.53        5.48        8.75        9.30   \n",
              "1            0.00        0.00        0.00        0.00        0.00        0.00   \n",
              "2           17.95       17.83       17.31       21.44       19.09       18.56   \n",
              "3           15.12       17.26       14.91       19.59       20.79       17.95   \n",
              "4           10.22        8.47        6.11        6.10        6.73        7.52   \n",
              "...           ...         ...         ...         ...         ...         ...   \n",
              "42367        3.10        2.75        3.01        2.99        2.83        2.54   \n",
              "42368        6.62        3.12        5.16        3.62        4.64        3.71   \n",
              "42369        0.61        0.65        0.55        0.49        0.51        0.79   \n",
              "42370       16.48       13.04       10.39       12.00       11.15       12.22   \n",
              "42371       17.14        8.35        8.68        6.39        7.96        8.13   \n",
              "\n",
              "       2016/10/29  2016/10/30  2016/10/31  \n",
              "0            7.54        9.16        6.74  \n",
              "1            0.00        0.00        0.00  \n",
              "2           16.25       14.20       13.66  \n",
              "3           19.26       14.46       11.72  \n",
              "4           10.89        9.86        8.72  \n",
              "...           ...         ...         ...  \n",
              "42367        3.40        3.59        2.54  \n",
              "42368        6.22        6.05        4.77  \n",
              "42369        0.66        0.39        0.65  \n",
              "42370       13.16       13.33       10.39  \n",
              "42371       11.50        7.16        5.25  \n",
              "\n",
              "[42372 rows x 1034 columns]"
            ]
          },
          "execution_count": 30,
          "metadata": {},
          "output_type": "execute_result"
        }
      ],
      "source": [
        "\n",
        "\n",
        "X = df_1.drop(['CONS_NO', 'FLAG'], axis = 1)\n",
        "\n",
        "Y = df_1.iloc[:, 1]\n",
        "\n",
        "pd.DataFrame(X)\n",
        "\n",
        "\n"
      ],
      "id": "ssiBTU1OIKg0"
    },
    {
      "cell_type": "markdown",
      "metadata": {
        "id": "t0xMJ8G99cHR"
      },
      "source": [
        "Using MinMaxScaler to scale down values ranging 0 to 1"
      ],
      "id": "t0xMJ8G99cHR"
    },
    {
      "cell_type": "code",
      "execution_count": null,
      "metadata": {
        "colab": {
          "base_uri": "https://localhost:8080/"
        },
        "id": "hLbsst99PLsT",
        "outputId": "3647dae2-a19a-4304-9d73-df6d7707b3ef"
      },
      "outputs": [
        {
          "name": "stdout",
          "output_type": "stream",
          "text": [
            "[[0.00000000e+00 2.25600000e-03 2.61406133e-03 ... 5.34751773e-04\n",
            "  7.33974359e-04 6.74674675e-04]\n",
            " [0.00000000e+00 2.25600000e-03 2.61406133e-03 ... 0.00000000e+00\n",
            "  0.00000000e+00 0.00000000e+00]\n",
            " [0.00000000e+00 2.25600000e-03 2.61406133e-03 ... 1.15248227e-03\n",
            "  1.13782051e-03 1.36736737e-03]\n",
            " ...\n",
            " [1.74804099e-04 4.64000000e-04 3.44053852e-04 ... 4.68085106e-05\n",
            "  3.12500000e-05 6.50650651e-05]\n",
            " [5.09041591e-03 6.06000000e-03 7.21017203e-03 ... 9.33333333e-04\n",
            "  1.06810897e-03 1.04004004e-03]\n",
            " [0.00000000e+00 6.06000000e-03 7.21017203e-03 ... 8.15602837e-04\n",
            "  5.73717949e-04 5.25525526e-04]]\n"
          ]
        }
      ],
      "source": [
        "\n",
        "scaler = MinMaxScaler()\n",
        "X = scaler.fit_transform(X)\n",
        "print(X)\n"
      ],
      "id": "hLbsst99PLsT"
    },
    {
      "cell_type": "code",
      "execution_count": null,
      "metadata": {
        "colab": {
          "base_uri": "https://localhost:8080/",
          "height": 444
        },
        "id": "EQfBdJ_dfIbQ",
        "outputId": "587ed288-45f9-4df4-ed03-4861200e4bf8"
      },
      "outputs": [
        {
          "data": {
            "text/html": [
              "\n",
              "  <div id=\"df-521bf38b-7d40-414d-be38-a016d5ad9c0e\" class=\"colab-df-container\">\n",
              "    <div>\n",
              "<style scoped>\n",
              "    .dataframe tbody tr th:only-of-type {\n",
              "        vertical-align: middle;\n",
              "    }\n",
              "\n",
              "    .dataframe tbody tr th {\n",
              "        vertical-align: top;\n",
              "    }\n",
              "\n",
              "    .dataframe thead th {\n",
              "        text-align: right;\n",
              "    }\n",
              "</style>\n",
              "<table border=\"1\" class=\"dataframe\">\n",
              "  <thead>\n",
              "    <tr style=\"text-align: right;\">\n",
              "      <th></th>\n",
              "      <th>0</th>\n",
              "      <th>1</th>\n",
              "      <th>2</th>\n",
              "      <th>3</th>\n",
              "      <th>4</th>\n",
              "      <th>5</th>\n",
              "      <th>6</th>\n",
              "      <th>7</th>\n",
              "      <th>8</th>\n",
              "      <th>9</th>\n",
              "      <th>...</th>\n",
              "      <th>1024</th>\n",
              "      <th>1025</th>\n",
              "      <th>1026</th>\n",
              "      <th>1027</th>\n",
              "      <th>1028</th>\n",
              "      <th>1029</th>\n",
              "      <th>1030</th>\n",
              "      <th>1031</th>\n",
              "      <th>1032</th>\n",
              "      <th>1033</th>\n",
              "    </tr>\n",
              "  </thead>\n",
              "  <tbody>\n",
              "    <tr>\n",
              "      <th>0</th>\n",
              "      <td>0.000000</td>\n",
              "      <td>0.002256</td>\n",
              "      <td>0.002614</td>\n",
              "      <td>0.000586</td>\n",
              "      <td>0.000744</td>\n",
              "      <td>0.001283</td>\n",
              "      <td>0.000664</td>\n",
              "      <td>0.001038</td>\n",
              "      <td>0.000799</td>\n",
              "      <td>0.000862</td>\n",
              "      <td>...</td>\n",
              "      <td>0.000631</td>\n",
              "      <td>0.000727</td>\n",
              "      <td>0.000597</td>\n",
              "      <td>0.000798</td>\n",
              "      <td>0.000439</td>\n",
              "      <td>0.000576</td>\n",
              "      <td>0.000621</td>\n",
              "      <td>0.000535</td>\n",
              "      <td>0.000734</td>\n",
              "      <td>0.000675</td>\n",
              "    </tr>\n",
              "    <tr>\n",
              "      <th>1</th>\n",
              "      <td>0.000000</td>\n",
              "      <td>0.002256</td>\n",
              "      <td>0.002614</td>\n",
              "      <td>0.000586</td>\n",
              "      <td>0.000744</td>\n",
              "      <td>0.001283</td>\n",
              "      <td>0.000664</td>\n",
              "      <td>0.001038</td>\n",
              "      <td>0.000799</td>\n",
              "      <td>0.000862</td>\n",
              "      <td>...</td>\n",
              "      <td>0.000000</td>\n",
              "      <td>0.000000</td>\n",
              "      <td>0.000000</td>\n",
              "      <td>0.000000</td>\n",
              "      <td>0.000000</td>\n",
              "      <td>0.000000</td>\n",
              "      <td>0.000000</td>\n",
              "      <td>0.000000</td>\n",
              "      <td>0.000000</td>\n",
              "      <td>0.000000</td>\n",
              "    </tr>\n",
              "    <tr>\n",
              "      <th>2</th>\n",
              "      <td>0.000000</td>\n",
              "      <td>0.002256</td>\n",
              "      <td>0.002614</td>\n",
              "      <td>0.000586</td>\n",
              "      <td>0.000744</td>\n",
              "      <td>0.001283</td>\n",
              "      <td>0.000664</td>\n",
              "      <td>0.001038</td>\n",
              "      <td>0.000799</td>\n",
              "      <td>0.000862</td>\n",
              "      <td>...</td>\n",
              "      <td>0.000963</td>\n",
              "      <td>0.001617</td>\n",
              "      <td>0.001315</td>\n",
              "      <td>0.001450</td>\n",
              "      <td>0.001718</td>\n",
              "      <td>0.001258</td>\n",
              "      <td>0.001240</td>\n",
              "      <td>0.001152</td>\n",
              "      <td>0.001138</td>\n",
              "      <td>0.001367</td>\n",
              "    </tr>\n",
              "    <tr>\n",
              "      <th>3</th>\n",
              "      <td>0.000000</td>\n",
              "      <td>0.002256</td>\n",
              "      <td>0.002614</td>\n",
              "      <td>0.000586</td>\n",
              "      <td>0.000744</td>\n",
              "      <td>0.001283</td>\n",
              "      <td>0.000664</td>\n",
              "      <td>0.001038</td>\n",
              "      <td>0.000799</td>\n",
              "      <td>0.000862</td>\n",
              "      <td>...</td>\n",
              "      <td>0.001127</td>\n",
              "      <td>0.001362</td>\n",
              "      <td>0.001273</td>\n",
              "      <td>0.001249</td>\n",
              "      <td>0.001570</td>\n",
              "      <td>0.001370</td>\n",
              "      <td>0.001199</td>\n",
              "      <td>0.001366</td>\n",
              "      <td>0.001159</td>\n",
              "      <td>0.001173</td>\n",
              "    </tr>\n",
              "    <tr>\n",
              "      <th>4</th>\n",
              "      <td>0.000874</td>\n",
              "      <td>0.002256</td>\n",
              "      <td>0.002614</td>\n",
              "      <td>0.000586</td>\n",
              "      <td>0.000744</td>\n",
              "      <td>0.001283</td>\n",
              "      <td>0.000664</td>\n",
              "      <td>0.001038</td>\n",
              "      <td>0.000799</td>\n",
              "      <td>0.000862</td>\n",
              "      <td>...</td>\n",
              "      <td>0.001250</td>\n",
              "      <td>0.000921</td>\n",
              "      <td>0.000625</td>\n",
              "      <td>0.000512</td>\n",
              "      <td>0.000489</td>\n",
              "      <td>0.000443</td>\n",
              "      <td>0.000502</td>\n",
              "      <td>0.000772</td>\n",
              "      <td>0.000790</td>\n",
              "      <td>0.000873</td>\n",
              "    </tr>\n",
              "    <tr>\n",
              "      <th>...</th>\n",
              "      <td>...</td>\n",
              "      <td>...</td>\n",
              "      <td>...</td>\n",
              "      <td>...</td>\n",
              "      <td>...</td>\n",
              "      <td>...</td>\n",
              "      <td>...</td>\n",
              "      <td>...</td>\n",
              "      <td>...</td>\n",
              "      <td>...</td>\n",
              "      <td>...</td>\n",
              "      <td>...</td>\n",
              "      <td>...</td>\n",
              "      <td>...</td>\n",
              "      <td>...</td>\n",
              "      <td>...</td>\n",
              "      <td>...</td>\n",
              "      <td>...</td>\n",
              "      <td>...</td>\n",
              "      <td>...</td>\n",
              "      <td>...</td>\n",
              "    </tr>\n",
              "    <tr>\n",
              "      <th>42367</th>\n",
              "      <td>0.000000</td>\n",
              "      <td>0.000672</td>\n",
              "      <td>0.000613</td>\n",
              "      <td>0.000959</td>\n",
              "      <td>0.001764</td>\n",
              "      <td>0.001787</td>\n",
              "      <td>0.000512</td>\n",
              "      <td>0.001356</td>\n",
              "      <td>0.001391</td>\n",
              "      <td>0.000738</td>\n",
              "      <td>...</td>\n",
              "      <td>0.000288</td>\n",
              "      <td>0.000279</td>\n",
              "      <td>0.000203</td>\n",
              "      <td>0.000252</td>\n",
              "      <td>0.000240</td>\n",
              "      <td>0.000186</td>\n",
              "      <td>0.000170</td>\n",
              "      <td>0.000241</td>\n",
              "      <td>0.000288</td>\n",
              "      <td>0.000254</td>\n",
              "    </tr>\n",
              "    <tr>\n",
              "      <th>42368</th>\n",
              "      <td>0.000814</td>\n",
              "      <td>0.000000</td>\n",
              "      <td>0.000000</td>\n",
              "      <td>0.001009</td>\n",
              "      <td>0.001246</td>\n",
              "      <td>0.001393</td>\n",
              "      <td>0.000431</td>\n",
              "      <td>0.001139</td>\n",
              "      <td>0.001286</td>\n",
              "      <td>0.001107</td>\n",
              "      <td>...</td>\n",
              "      <td>0.000338</td>\n",
              "      <td>0.000596</td>\n",
              "      <td>0.000230</td>\n",
              "      <td>0.000432</td>\n",
              "      <td>0.000290</td>\n",
              "      <td>0.000306</td>\n",
              "      <td>0.000248</td>\n",
              "      <td>0.000441</td>\n",
              "      <td>0.000485</td>\n",
              "      <td>0.000477</td>\n",
              "    </tr>\n",
              "    <tr>\n",
              "      <th>42369</th>\n",
              "      <td>0.000175</td>\n",
              "      <td>0.000464</td>\n",
              "      <td>0.000344</td>\n",
              "      <td>0.000173</td>\n",
              "      <td>0.000317</td>\n",
              "      <td>0.000331</td>\n",
              "      <td>0.000125</td>\n",
              "      <td>0.000197</td>\n",
              "      <td>0.000279</td>\n",
              "      <td>0.000212</td>\n",
              "      <td>...</td>\n",
              "      <td>0.000087</td>\n",
              "      <td>0.000055</td>\n",
              "      <td>0.000048</td>\n",
              "      <td>0.000046</td>\n",
              "      <td>0.000039</td>\n",
              "      <td>0.000034</td>\n",
              "      <td>0.000053</td>\n",
              "      <td>0.000047</td>\n",
              "      <td>0.000031</td>\n",
              "      <td>0.000065</td>\n",
              "    </tr>\n",
              "    <tr>\n",
              "      <th>42370</th>\n",
              "      <td>0.005090</td>\n",
              "      <td>0.006060</td>\n",
              "      <td>0.007210</td>\n",
              "      <td>0.003032</td>\n",
              "      <td>0.003461</td>\n",
              "      <td>0.004192</td>\n",
              "      <td>0.002508</td>\n",
              "      <td>0.006765</td>\n",
              "      <td>0.002794</td>\n",
              "      <td>0.003490</td>\n",
              "      <td>...</td>\n",
              "      <td>0.001376</td>\n",
              "      <td>0.001485</td>\n",
              "      <td>0.000962</td>\n",
              "      <td>0.000870</td>\n",
              "      <td>0.000962</td>\n",
              "      <td>0.000735</td>\n",
              "      <td>0.000816</td>\n",
              "      <td>0.000933</td>\n",
              "      <td>0.001068</td>\n",
              "      <td>0.001040</td>\n",
              "    </tr>\n",
              "    <tr>\n",
              "      <th>42371</th>\n",
              "      <td>0.000000</td>\n",
              "      <td>0.006060</td>\n",
              "      <td>0.007210</td>\n",
              "      <td>0.003032</td>\n",
              "      <td>0.003461</td>\n",
              "      <td>0.004192</td>\n",
              "      <td>0.002508</td>\n",
              "      <td>0.006765</td>\n",
              "      <td>0.002794</td>\n",
              "      <td>0.003490</td>\n",
              "      <td>...</td>\n",
              "      <td>0.000929</td>\n",
              "      <td>0.001544</td>\n",
              "      <td>0.000616</td>\n",
              "      <td>0.000727</td>\n",
              "      <td>0.000512</td>\n",
              "      <td>0.000524</td>\n",
              "      <td>0.000543</td>\n",
              "      <td>0.000816</td>\n",
              "      <td>0.000574</td>\n",
              "      <td>0.000526</td>\n",
              "    </tr>\n",
              "  </tbody>\n",
              "</table>\n",
              "<p>42372 rows × 1034 columns</p>\n",
              "</div>\n",
              "    <div class=\"colab-df-buttons\">\n",
              "\n",
              "  <div class=\"colab-df-container\">\n",
              "    <button class=\"colab-df-convert\" onclick=\"convertToInteractive('df-521bf38b-7d40-414d-be38-a016d5ad9c0e')\"\n",
              "            title=\"Convert this dataframe to an interactive table.\"\n",
              "            style=\"display:none;\">\n",
              "\n",
              "  <svg xmlns=\"http://www.w3.org/2000/svg\" height=\"24px\" viewBox=\"0 -960 960 960\">\n",
              "    <path d=\"M120-120v-720h720v720H120Zm60-500h600v-160H180v160Zm220 220h160v-160H400v160Zm0 220h160v-160H400v160ZM180-400h160v-160H180v160Zm440 0h160v-160H620v160ZM180-180h160v-160H180v160Zm440 0h160v-160H620v160Z\"/>\n",
              "  </svg>\n",
              "    </button>\n",
              "\n",
              "  <style>\n",
              "    .colab-df-container {\n",
              "      display:flex;\n",
              "      gap: 12px;\n",
              "    }\n",
              "\n",
              "    .colab-df-convert {\n",
              "      background-color: #E8F0FE;\n",
              "      border: none;\n",
              "      border-radius: 50%;\n",
              "      cursor: pointer;\n",
              "      display: none;\n",
              "      fill: #1967D2;\n",
              "      height: 32px;\n",
              "      padding: 0 0 0 0;\n",
              "      width: 32px;\n",
              "    }\n",
              "\n",
              "    .colab-df-convert:hover {\n",
              "      background-color: #E2EBFA;\n",
              "      box-shadow: 0px 1px 2px rgba(60, 64, 67, 0.3), 0px 1px 3px 1px rgba(60, 64, 67, 0.15);\n",
              "      fill: #174EA6;\n",
              "    }\n",
              "\n",
              "    .colab-df-buttons div {\n",
              "      margin-bottom: 4px;\n",
              "    }\n",
              "\n",
              "    [theme=dark] .colab-df-convert {\n",
              "      background-color: #3B4455;\n",
              "      fill: #D2E3FC;\n",
              "    }\n",
              "\n",
              "    [theme=dark] .colab-df-convert:hover {\n",
              "      background-color: #434B5C;\n",
              "      box-shadow: 0px 1px 3px 1px rgba(0, 0, 0, 0.15);\n",
              "      filter: drop-shadow(0px 1px 2px rgba(0, 0, 0, 0.3));\n",
              "      fill: #FFFFFF;\n",
              "    }\n",
              "  </style>\n",
              "\n",
              "    <script>\n",
              "      const buttonEl =\n",
              "        document.querySelector('#df-521bf38b-7d40-414d-be38-a016d5ad9c0e button.colab-df-convert');\n",
              "      buttonEl.style.display =\n",
              "        google.colab.kernel.accessAllowed ? 'block' : 'none';\n",
              "\n",
              "      async function convertToInteractive(key) {\n",
              "        const element = document.querySelector('#df-521bf38b-7d40-414d-be38-a016d5ad9c0e');\n",
              "        const dataTable =\n",
              "          await google.colab.kernel.invokeFunction('convertToInteractive',\n",
              "                                                    [key], {});\n",
              "        if (!dataTable) return;\n",
              "\n",
              "        const docLinkHtml = 'Like what you see? Visit the ' +\n",
              "          '<a target=\"_blank\" href=https://colab.research.google.com/notebooks/data_table.ipynb>data table notebook</a>'\n",
              "          + ' to learn more about interactive tables.';\n",
              "        element.innerHTML = '';\n",
              "        dataTable['output_type'] = 'display_data';\n",
              "        await google.colab.output.renderOutput(dataTable, element);\n",
              "        const docLink = document.createElement('div');\n",
              "        docLink.innerHTML = docLinkHtml;\n",
              "        element.appendChild(docLink);\n",
              "      }\n",
              "    </script>\n",
              "  </div>\n",
              "\n",
              "\n",
              "<div id=\"df-7af289a4-bacf-41c6-ad3b-0f4d61021b48\">\n",
              "  <button class=\"colab-df-quickchart\" onclick=\"quickchart('df-7af289a4-bacf-41c6-ad3b-0f4d61021b48')\"\n",
              "            title=\"Suggest charts\"\n",
              "            style=\"display:none;\">\n",
              "\n",
              "<svg xmlns=\"http://www.w3.org/2000/svg\" height=\"24px\"viewBox=\"0 0 24 24\"\n",
              "     width=\"24px\">\n",
              "    <g>\n",
              "        <path d=\"M19 3H5c-1.1 0-2 .9-2 2v14c0 1.1.9 2 2 2h14c1.1 0 2-.9 2-2V5c0-1.1-.9-2-2-2zM9 17H7v-7h2v7zm4 0h-2V7h2v10zm4 0h-2v-4h2v4z\"/>\n",
              "    </g>\n",
              "</svg>\n",
              "  </button>\n",
              "\n",
              "<style>\n",
              "  .colab-df-quickchart {\n",
              "      --bg-color: #E8F0FE;\n",
              "      --fill-color: #1967D2;\n",
              "      --hover-bg-color: #E2EBFA;\n",
              "      --hover-fill-color: #174EA6;\n",
              "      --disabled-fill-color: #AAA;\n",
              "      --disabled-bg-color: #DDD;\n",
              "  }\n",
              "\n",
              "  [theme=dark] .colab-df-quickchart {\n",
              "      --bg-color: #3B4455;\n",
              "      --fill-color: #D2E3FC;\n",
              "      --hover-bg-color: #434B5C;\n",
              "      --hover-fill-color: #FFFFFF;\n",
              "      --disabled-bg-color: #3B4455;\n",
              "      --disabled-fill-color: #666;\n",
              "  }\n",
              "\n",
              "  .colab-df-quickchart {\n",
              "    background-color: var(--bg-color);\n",
              "    border: none;\n",
              "    border-radius: 50%;\n",
              "    cursor: pointer;\n",
              "    display: none;\n",
              "    fill: var(--fill-color);\n",
              "    height: 32px;\n",
              "    padding: 0;\n",
              "    width: 32px;\n",
              "  }\n",
              "\n",
              "  .colab-df-quickchart:hover {\n",
              "    background-color: var(--hover-bg-color);\n",
              "    box-shadow: 0 1px 2px rgba(60, 64, 67, 0.3), 0 1px 3px 1px rgba(60, 64, 67, 0.15);\n",
              "    fill: var(--button-hover-fill-color);\n",
              "  }\n",
              "\n",
              "  .colab-df-quickchart-complete:disabled,\n",
              "  .colab-df-quickchart-complete:disabled:hover {\n",
              "    background-color: var(--disabled-bg-color);\n",
              "    fill: var(--disabled-fill-color);\n",
              "    box-shadow: none;\n",
              "  }\n",
              "\n",
              "  .colab-df-spinner {\n",
              "    border: 2px solid var(--fill-color);\n",
              "    border-color: transparent;\n",
              "    border-bottom-color: var(--fill-color);\n",
              "    animation:\n",
              "      spin 1s steps(1) infinite;\n",
              "  }\n",
              "\n",
              "  @keyframes spin {\n",
              "    0% {\n",
              "      border-color: transparent;\n",
              "      border-bottom-color: var(--fill-color);\n",
              "      border-left-color: var(--fill-color);\n",
              "    }\n",
              "    20% {\n",
              "      border-color: transparent;\n",
              "      border-left-color: var(--fill-color);\n",
              "      border-top-color: var(--fill-color);\n",
              "    }\n",
              "    30% {\n",
              "      border-color: transparent;\n",
              "      border-left-color: var(--fill-color);\n",
              "      border-top-color: var(--fill-color);\n",
              "      border-right-color: var(--fill-color);\n",
              "    }\n",
              "    40% {\n",
              "      border-color: transparent;\n",
              "      border-right-color: var(--fill-color);\n",
              "      border-top-color: var(--fill-color);\n",
              "    }\n",
              "    60% {\n",
              "      border-color: transparent;\n",
              "      border-right-color: var(--fill-color);\n",
              "    }\n",
              "    80% {\n",
              "      border-color: transparent;\n",
              "      border-right-color: var(--fill-color);\n",
              "      border-bottom-color: var(--fill-color);\n",
              "    }\n",
              "    90% {\n",
              "      border-color: transparent;\n",
              "      border-bottom-color: var(--fill-color);\n",
              "    }\n",
              "  }\n",
              "</style>\n",
              "\n",
              "  <script>\n",
              "    async function quickchart(key) {\n",
              "      const quickchartButtonEl =\n",
              "        document.querySelector('#' + key + ' button');\n",
              "      quickchartButtonEl.disabled = true;  // To prevent multiple clicks.\n",
              "      quickchartButtonEl.classList.add('colab-df-spinner');\n",
              "      try {\n",
              "        const charts = await google.colab.kernel.invokeFunction(\n",
              "            'suggestCharts', [key], {});\n",
              "      } catch (error) {\n",
              "        console.error('Error during call to suggestCharts:', error);\n",
              "      }\n",
              "      quickchartButtonEl.classList.remove('colab-df-spinner');\n",
              "      quickchartButtonEl.classList.add('colab-df-quickchart-complete');\n",
              "    }\n",
              "    (() => {\n",
              "      let quickchartButtonEl =\n",
              "        document.querySelector('#df-7af289a4-bacf-41c6-ad3b-0f4d61021b48 button');\n",
              "      quickchartButtonEl.style.display =\n",
              "        google.colab.kernel.accessAllowed ? 'block' : 'none';\n",
              "    })();\n",
              "  </script>\n",
              "</div>\n",
              "\n",
              "    </div>\n",
              "  </div>\n"
            ],
            "text/plain": [
              "           0         1         2         3         4         5         6     \\\n",
              "0      0.000000  0.002256  0.002614  0.000586  0.000744  0.001283  0.000664   \n",
              "1      0.000000  0.002256  0.002614  0.000586  0.000744  0.001283  0.000664   \n",
              "2      0.000000  0.002256  0.002614  0.000586  0.000744  0.001283  0.000664   \n",
              "3      0.000000  0.002256  0.002614  0.000586  0.000744  0.001283  0.000664   \n",
              "4      0.000874  0.002256  0.002614  0.000586  0.000744  0.001283  0.000664   \n",
              "...         ...       ...       ...       ...       ...       ...       ...   \n",
              "42367  0.000000  0.000672  0.000613  0.000959  0.001764  0.001787  0.000512   \n",
              "42368  0.000814  0.000000  0.000000  0.001009  0.001246  0.001393  0.000431   \n",
              "42369  0.000175  0.000464  0.000344  0.000173  0.000317  0.000331  0.000125   \n",
              "42370  0.005090  0.006060  0.007210  0.003032  0.003461  0.004192  0.002508   \n",
              "42371  0.000000  0.006060  0.007210  0.003032  0.003461  0.004192  0.002508   \n",
              "\n",
              "           7         8         9     ...      1024      1025      1026  \\\n",
              "0      0.001038  0.000799  0.000862  ...  0.000631  0.000727  0.000597   \n",
              "1      0.001038  0.000799  0.000862  ...  0.000000  0.000000  0.000000   \n",
              "2      0.001038  0.000799  0.000862  ...  0.000963  0.001617  0.001315   \n",
              "3      0.001038  0.000799  0.000862  ...  0.001127  0.001362  0.001273   \n",
              "4      0.001038  0.000799  0.000862  ...  0.001250  0.000921  0.000625   \n",
              "...         ...       ...       ...  ...       ...       ...       ...   \n",
              "42367  0.001356  0.001391  0.000738  ...  0.000288  0.000279  0.000203   \n",
              "42368  0.001139  0.001286  0.001107  ...  0.000338  0.000596  0.000230   \n",
              "42369  0.000197  0.000279  0.000212  ...  0.000087  0.000055  0.000048   \n",
              "42370  0.006765  0.002794  0.003490  ...  0.001376  0.001485  0.000962   \n",
              "42371  0.006765  0.002794  0.003490  ...  0.000929  0.001544  0.000616   \n",
              "\n",
              "           1027      1028      1029      1030      1031      1032      1033  \n",
              "0      0.000798  0.000439  0.000576  0.000621  0.000535  0.000734  0.000675  \n",
              "1      0.000000  0.000000  0.000000  0.000000  0.000000  0.000000  0.000000  \n",
              "2      0.001450  0.001718  0.001258  0.001240  0.001152  0.001138  0.001367  \n",
              "3      0.001249  0.001570  0.001370  0.001199  0.001366  0.001159  0.001173  \n",
              "4      0.000512  0.000489  0.000443  0.000502  0.000772  0.000790  0.000873  \n",
              "...         ...       ...       ...       ...       ...       ...       ...  \n",
              "42367  0.000252  0.000240  0.000186  0.000170  0.000241  0.000288  0.000254  \n",
              "42368  0.000432  0.000290  0.000306  0.000248  0.000441  0.000485  0.000477  \n",
              "42369  0.000046  0.000039  0.000034  0.000053  0.000047  0.000031  0.000065  \n",
              "42370  0.000870  0.000962  0.000735  0.000816  0.000933  0.001068  0.001040  \n",
              "42371  0.000727  0.000512  0.000524  0.000543  0.000816  0.000574  0.000526  \n",
              "\n",
              "[42372 rows x 1034 columns]"
            ]
          },
          "execution_count": 34,
          "metadata": {},
          "output_type": "execute_result"
        }
      ],
      "source": [
        "pd.DataFrame(X)"
      ],
      "id": "EQfBdJ_dfIbQ"
    },
    {
      "cell_type": "markdown",
      "metadata": {
        "id": "IqienBbY9rhO"
      },
      "source": [
        "Using SMOTE technique to oversample minority class"
      ],
      "id": "IqienBbY9rhO"
    },
    {
      "cell_type": "code",
      "execution_count": null,
      "metadata": {
        "id": "hGHmQzJ6OLj9"
      },
      "outputs": [],
      "source": [
        "\n",
        "from imblearn.over_sampling import SMOTE\n",
        "from sklearn.model_selection import train_test_split\n",
        "import numpy as np\n",
        "\n",
        "# Initialize SMOTE with a random state\n",
        "ros = SMOTE(random_state=42)\n",
        "\n",
        "# Resample the data and split into train and test sets\n",
        "X_resampled, Y_resampled = ros.fit_resample(X, Y.ravel())\n",
        "x_train, x_test, y_train, y_test = train_test_split(X_resampled, Y_resampled, test_size=0.3, random_state=42)\n",
        "\n",
        "# Convert oversampled y_train and y_test into NumPy arrays\n",
        "y_train = np.array(y_train)\n",
        "y_test = np.array(y_test)\n",
        "\n",
        "# Expand x_train and x_test dimensions and insert the extended dimension at index 2\n",
        "x_train = np.expand_dims(x_train, axis=2)\n",
        "x_test = np.expand_dims(x_test, axis=2)\n",
        "input_shape = x_train.shape[1]  # input_shape takes the value of the column index\n",
        "\n",
        "\n",
        "\n",
        "\n",
        "\n",
        "\n",
        "\n",
        "\n",
        "\n",
        "\n",
        "\n",
        "#ros = SMOTE(random_state= 42)\n",
        "#X, Y = ros.fit_resample(X, Y.ravel())\n",
        "#x_train, x_test, y_train, y_test=train_test_split(X, Y, test_size=0.3, random_state = 42)\n",
        "\n",
        "#Convert oversampled y_train and y_test into numpy array\n",
        "#y_train = np.array(y_train)\n",
        "#y_test = np.array(y_test)\n",
        "\n",
        "#Expand x_train, x_test dimension and insert the extended dimension at index 2\n",
        "#x_train = np.expand_dims(x_train, axis=2)\n",
        "#x_test = np.expand_dims(x_test, axis=2)\n",
        "#input_shape=x_train.shape[1] # input_shape takes the value of the column index\n",
        "\n"
      ],
      "id": "hGHmQzJ6OLj9"
    },
    {
      "cell_type": "code",
      "execution_count": null,
      "metadata": {
        "colab": {
          "base_uri": "https://localhost:8080/"
        },
        "id": "DeldnXZ2QfBc",
        "outputId": "b08edccd-c18d-43c9-9514-aa3d9c3b2664"
      },
      "outputs": [
        {
          "data": {
            "text/plain": [
              "1034"
            ]
          },
          "execution_count": 36,
          "metadata": {},
          "output_type": "execute_result"
        }
      ],
      "source": [
        "x_train.shape[1] #to extract column array but x_train.shape[0] is to extract the row array"
      ],
      "id": "DeldnXZ2QfBc"
    },
    {
      "cell_type": "code",
      "execution_count": null,
      "metadata": {
        "colab": {
          "base_uri": "https://localhost:8080/"
        },
        "id": "9wpSdxlPRHsG",
        "outputId": "fa4242a2-4111-4222-994a-fc21ce414864"
      },
      "outputs": [
        {
          "data": {
            "text/plain": [
              "(54259, 1034, 1)"
            ]
          },
          "execution_count": 37,
          "metadata": {},
          "output_type": "execute_result"
        }
      ],
      "source": [
        "x_train.shape"
      ],
      "id": "9wpSdxlPRHsG"
    },
    {
      "cell_type": "markdown",
      "metadata": {
        "id": "DhQbshow_hkL"
      },
      "source": [
        "#Check shapes of all divisions"
      ],
      "id": "DhQbshow_hkL"
    },
    {
      "cell_type": "code",
      "execution_count": null,
      "metadata": {
        "colab": {
          "base_uri": "https://localhost:8080/"
        },
        "id": "Ujfqn2_Fhr84",
        "outputId": "c264f1f4-4048-41dc-9e73-a90a0083617b"
      },
      "outputs": [
        {
          "data": {
            "text/plain": [
              "((54259, 1034, 1), (23255, 1034, 1), (54259,), (23255,))"
            ]
          },
          "execution_count": 38,
          "metadata": {},
          "output_type": "execute_result"
        }
      ],
      "source": [
        "x_train.shape, x_test.shape, y_train.shape, y_test.shape"
      ],
      "id": "Ujfqn2_Fhr84"
    },
    {
      "cell_type": "code",
      "execution_count": null,
      "metadata": {
        "id": "s-knviMRIKcH"
      },
      "outputs": [],
      "source": [
        "input_shape=x_train.shape[1]"
      ],
      "id": "s-knviMRIKcH"
    },
    {
      "cell_type": "code",
      "execution_count": null,
      "metadata": {
        "colab": {
          "base_uri": "https://localhost:8080/"
        },
        "id": "vsX0wVMxDRHK",
        "outputId": "8b088af9-24e2-4069-f3a4-632adf19b690"
      },
      "outputs": [
        {
          "name": "stdout",
          "output_type": "stream",
          "text": [
            "1034\n"
          ]
        }
      ],
      "source": [
        "print(input_shape)"
      ],
      "id": "vsX0wVMxDRHK"
    },
    {
      "cell_type": "markdown",
      "metadata": {
        "id": "NpYjOfOQ_vSK"
      },
      "source": [
        "##Building CNN model with CONV1D of 32 neurons at the input layer\n",
        "input_shape is (1034,1)\n",
        "Dropout is 40% of the neurons dropped\n",
        "Hidden layer has a dense layer of 64 neurons"
      ],
      "id": "NpYjOfOQ_vSK"
    },
    {
      "cell_type": "code",
      "execution_count": null,
      "metadata": {
        "colab": {
          "base_uri": "https://localhost:8080/"
        },
        "id": "x9BaPGlpWg-S",
        "outputId": "c29cae94-2bf8-4d96-ce3a-40f8578e76fb"
      },
      "outputs": [
        {
          "name": "stdout",
          "output_type": "stream",
          "text": [
            "Model: \"model\"\n",
            "_________________________________________________________________\n",
            " Layer (type)                Output Shape              Param #   \n",
            "=================================================================\n",
            " input_1 (InputLayer)        [(None, 1034, 1)]         0         \n",
            "                                                                 \n",
            " sequential (Sequential)     (None, 33088)             128       \n",
            "                                                                 \n",
            " dense (Dense)               (None, 64)                2117696   \n",
            "                                                                 \n",
            " dropout (Dropout)           (None, 64)                0         \n",
            "                                                                 \n",
            " dense_1 (Dense)             (None, 1)                 65        \n",
            "                                                                 \n",
            "=================================================================\n",
            "Total params: 2117889 (8.08 MB)\n",
            "Trainable params: 2117889 (8.08 MB)\n",
            "Non-trainable params: 0 (0.00 Byte)\n",
            "_________________________________________________________________\n"
          ]
        }
      ],
      "source": [
        "\n",
        "from tensorflow.keras.models import Sequential, Model\n",
        "from tensorflow.keras.layers import Conv1D, Dense, Dropout, Flatten, Input\n",
        "from tensorflow.keras.initializers import he_uniform\n",
        "\n",
        "# Initialize a Sequential model\n",
        "model_cnn = Sequential()\n",
        "\n",
        "# Add Convolutional layer with 32 filters\n",
        "model_cnn.add(Conv1D(32, kernel_size=3, activation='relu', padding='same', input_shape=(x_train.shape[1], 1)))\n",
        "\n",
        "# Add Flatten layer\n",
        "model_cnn.add(Flatten())\n",
        "\n",
        "# Create an Input layer\n",
        "inputs = Input(shape=(x_train.shape[1], 1))\n",
        "\n",
        "# Connect the Flatten layer to a Dense layer\n",
        "m = Dense(64, activation='relu', kernel_initializer=he_uniform())(model_cnn(inputs))\n",
        "\n",
        "# Apply Dropout\n",
        "m = Dropout(0.4)(m)\n",
        "\n",
        "# Create the final prediction layer\n",
        "prediction_layer = Dense(1, activation='sigmoid')(m)\n",
        "\n",
        "# Build the model\n",
        "model_cnn_1 = Model(inputs=inputs, outputs=prediction_layer)\n",
        "\n",
        "# Compile the model\n",
        "model_cnn_1.compile(optimizer='adam', loss='binary_crossentropy', metrics=['accuracy'])\n",
        "\n",
        "# Display model summary\n",
        "model_cnn_1.summary()\n",
        "\n",
        "\n",
        "\n",
        "\n",
        "\n",
        "\n"
      ],
      "id": "x9BaPGlpWg-S"
    },
    {
      "cell_type": "markdown",
      "metadata": {
        "id": "vl8fAR6SAnHs"
      },
      "source": [
        "Training the model with train data and validate the model with 30% validation data"
      ],
      "id": "vl8fAR6SAnHs"
    },
    {
      "cell_type": "code",
      "execution_count": null,
      "metadata": {
        "colab": {
          "background_save": true,
          "base_uri": "https://localhost:8080/"
        },
        "id": "TUe7MN4Ruf3h",
        "outputId": "0f3f9ea0-8b77-467b-aa3e-f4fc3b2157d5"
      },
      "outputs": [
        {
          "name": "stderr",
          "output_type": "stream",
          "text": [
            "/usr/local/lib/python3.10/dist-packages/keras/src/engine/training_v1.py:2335: UserWarning: `Model.state_updates` will be removed in a future version. This property should not be used in TensorFlow 2.0, as `updates` are applied automatically.\n",
            "  updates = self.state_updates\n"
          ]
        }
      ],
      "source": [
        "history = model_cnn_1.fit(x_train, y_train, epochs=50, batch_size=30, verbose=0,validation_split=0.3)"
      ],
      "id": "TUe7MN4Ruf3h"
    },
    {
      "cell_type": "markdown",
      "metadata": {
        "id": "Dg5YF0y9BAPN"
      },
      "source": [
        "Make prediction using x_test"
      ],
      "id": "Dg5YF0y9BAPN"
    },
    {
      "cell_type": "code",
      "execution_count": null,
      "metadata": {
        "colab": {
          "background_save": true
        },
        "id": "wT90B-PzulL7",
        "outputId": "aad60a1c-4caa-4271-f822-cb2f55890e03"
      },
      "outputs": [
        {
          "name": "stderr",
          "output_type": "stream",
          "text": [
            "/usr/local/lib/python3.10/dist-packages/keras/src/engine/training_v1.py:2359: UserWarning: `Model.state_updates` will be removed in a future version. This property should not be used in TensorFlow 2.0, as `updates` are applied automatically.\n",
            "  updates=self.state_updates,\n"
          ]
        }
      ],
      "source": [
        "cnn_prediction=model_cnn_1.predict(x_test);"
      ],
      "id": "wT90B-PzulL7"
    },
    {
      "cell_type": "markdown",
      "metadata": {
        "id": "tGu1GQ7TBNUZ"
      },
      "source": [
        "Rename cnn_prediction as resampled_prediction"
      ],
      "id": "tGu1GQ7TBNUZ"
    },
    {
      "cell_type": "code",
      "execution_count": null,
      "metadata": {
        "colab": {
          "background_save": true
        },
        "id": "P_EKGb6yumtM"
      },
      "outputs": [],
      "source": [
        "resampled_prediction = cnn_prediction"
      ],
      "id": "P_EKGb6yumtM"
    },
    {
      "cell_type": "code",
      "execution_count": null,
      "metadata": {
        "colab": {
          "background_save": true
        },
        "id": "5BMEmg1ss_8u",
        "outputId": "f31e98e8-d9c7-4cde-f46f-882aa87fa778"
      },
      "outputs": [
        {
          "data": {
            "text/plain": [
              "(23255, 1)"
            ]
          },
          "execution_count": 45,
          "metadata": {},
          "output_type": "execute_result"
        }
      ],
      "source": [
        "resampled_prediction.shape"
      ],
      "id": "5BMEmg1ss_8u"
    },
    {
      "cell_type": "markdown",
      "metadata": {
        "id": "Li2XIh_ABb7L"
      },
      "source": [
        "Plot confusion matrix for the CNN model"
      ],
      "id": "Li2XIh_ABb7L"
    },
    {
      "cell_type": "code",
      "execution_count": null,
      "metadata": {
        "colab": {
          "background_save": true
        },
        "id": "TqMCzG_ekwa1",
        "outputId": "0476d36e-18ea-4f12-a9da-e5a25bcc09d0"
      },
      "outputs": [
        {
          "data": {
            "image/png": "[encoded data removed]",
            "text/plain": [
              "<Figure size 1000x700 with 2 Axes>"
            ]
          },
          "metadata": {},
          "output_type": "display_data"
        }
      ],
      "source": [
        "from sklearn.metrics import confusion_matrix\n",
        "import seaborn as sns\n",
        "import matplotlib.pyplot as plt\n",
        "import pandas as pd\n",
        "\n",
        "# Compute the confusion matrix\n",
        "cmx_data = confusion_matrix(y_test, resampled_prediction.round())\n",
        "\n",
        "# Get unique labels from y_test\n",
        "labels = sorted(list(set(y_test)))\n",
        "\n",
        "# Create a DataFrame for the confusion matrix\n",
        "df_cmx = pd.DataFrame(cmx_data, index=labels, columns=labels)\n",
        "\n",
        "# Set up the figure size and colormap\n",
        "plt.figure(figsize=(10, 7))\n",
        "colormap = sns.color_palette(\"Blues\")\n",
        "\n",
        "# Create a heatmap\n",
        "sns.heatmap(df_cmx, annot=True, cmap=colormap)\n",
        "\n",
        "# Display the plot\n",
        "plt.show()\n"
      ],
      "id": "TqMCzG_ekwa1"
    },
    {
      "cell_type": "markdown",
      "metadata": {
        "id": "MllQ-4hnGxvi"
      },
      "source": [
        "Determining precision and recall values for CNN Model\n"
      ],
      "id": "MllQ-4hnGxvi"
    },
    {
      "cell_type": "code",
      "execution_count": null,
      "metadata": {
        "colab": {
          "background_save": true
        },
        "id": "bdtnZzDcGfl3",
        "outputId": "c07fddeb-7d27-4046-dd1b-a3c12c889b0c"
      },
      "outputs": [
        {
          "name": "stdout",
          "output_type": "stream",
          "text": [
            "Precision: [0.49825844 0.49875172 0.49877319 ... 1.         1.         1.        ]\n",
            "Recall: [1.         1.         1.         ... 0.97825149 0.97799258 0.        ]\n"
          ]
        },
        {
          "data": {
            "image/png": "[encoded data removed]",
            "text/plain": [
              "<Figure size 800x600 with 1 Axes>"
            ]
          },
          "metadata": {},
          "output_type": "display_data"
        }
      ],
      "source": [
        "from sklearn.metrics import precision_recall_curve\n",
        "import matplotlib.pyplot as plt\n",
        "\n",
        "# Calculate precision and recall\n",
        "precision, recall, thresholds = precision_recall_curve(y_test, resampled_prediction)\n",
        "print(f'Precision: {precision}\\nRecall: {recall}')\n",
        "# Create a precision-recall curve\n",
        "plt.figure(figsize=(8, 6))\n",
        "plt.plot(recall, precision, color='purple')\n",
        "\n",
        "# Add axis labels and a title\n",
        "plt.title('Precision-Recall Curve')\n",
        "plt.xlabel('Recall')\n",
        "plt.ylabel('Precision')\n",
        "\n",
        "# Display the plot\n",
        "plt.show()\n",
        "\n",
        "\n",
        "\n"
      ],
      "id": "bdtnZzDcGfl3"
    },
    {
      "cell_type": "code",
      "execution_count": null,
      "metadata": {
        "colab": {
          "background_save": true
        },
        "id": "HSLIGyhGdcf2",
        "outputId": "50b32463-abfa-4d0e-c78d-e21d6b491ee1"
      },
      "outputs": [
        {
          "data": {
            "image/png": "[encoded data removed]",
            "text/plain": [
              "<Figure size 800x600 with 1 Axes>"
            ]
          },
          "metadata": {},
          "output_type": "display_data"
        }
      ],
      "source": [
        "from sklearn.metrics import roc_curve\n",
        "import matplotlib.pyplot as plt\n",
        "\n",
        "fpr, tpr, _ = roc_curve(y_test, resampled_prediction)\n",
        "\n",
        "# Create the ROC curve\n",
        "plt.figure(figsize=(8, 6))\n",
        "plt.plot(fpr, tpr)\n",
        "plt.xlabel('False Positive Rate')\n",
        "plt.ylabel('True Positive Rate')\n",
        "plt.title('Receiver Operating Characteristic (ROC) Curve')\n",
        "\n",
        "# Display the plot\n",
        "plt.show()\n"
      ],
      "id": "HSLIGyhGdcf2"
    },
    {
      "cell_type": "code",
      "execution_count": null,
      "metadata": {
        "colab": {
          "background_save": true
        },
        "id": "9Xc0O5TNKZEU",
        "outputId": "93720ca2-8203-4b86-f677-6b1e14ae5dad"
      },
      "outputs": [
        {
          "name": "stdout",
          "output_type": "stream",
          "text": [
            "TPR of CNN model : 0.9866229395011651\n",
            "FPR of CNN model : 0.0012751049365098779\n"
          ]
        }
      ],
      "source": [
        "from scipy import interpolate\n",
        "fpr, tpr, thresholds = roc_curve(y_test, resampled_prediction)\n",
        "tpr_intrp = interpolate.interp1d(thresholds, tpr)\n",
        "fpr_intrp= interpolate.interp1d(thresholds, fpr)\n",
        "\n",
        "print(f'TPR of CNN model : {tpr_intrp(0.5)}')\n",
        "print(f'FPR of CNN model : {fpr_intrp(0.5)}')\n",
        "\n"
      ],
      "id": "9Xc0O5TNKZEU"
    },
    {
      "cell_type": "code",
      "execution_count": null,
      "metadata": {
        "id": "O7pY_zYiq_LE"
      },
      "outputs": [],
      "source": [
        "# Visualisation with plot_metric\n",
        "fpr, tpr, thresholds = roc_curve(y_test, resampled_prediction)\n",
        "#print(f'CNN FPR: {fpr}\\nTPR:{tpr}\\nThresholds:{thresholds}')\n",
        "auc_value = auc(fpr,tpr)\n",
        "print(f'AUC score for CNN is:   {auc_value}')\n",
        "\n",
        "bc = BinaryClassification(y_test, resampled_prediction, labels=[1, 0])\n",
        "\n",
        "# Figures\n",
        "plt.figure(figsize=(10,8))\n",
        "bc.plot_roc_curve()\n",
        "plt.show()"
      ],
      "id": "O7pY_zYiq_LE"
    },
    {
      "cell_type": "code",
      "execution_count": null,
      "metadata": {
        "colab": {
          "background_save": true
        },
        "id": "sJ7qObUiro0C",
        "outputId": "e1d16586-fff9-455a-c315-e22fbfb3ca8c"
      },
      "outputs": [
        {
          "name": "stdout",
          "output_type": "stream",
          "text": [
            "              precision    recall  f1-score   support\n",
            "\n",
            "           0       0.99      1.00      0.99     11668\n",
            "           1       1.00      0.99      0.99     11587\n",
            "\n",
            "    accuracy                           0.99     23255\n",
            "   macro avg       0.99      0.99      0.99     23255\n",
            "weighted avg       0.99      0.99      0.99     23255\n",
            "\n"
          ]
        }
      ],
      "source": [
        "threshold=0.5\n",
        "for i in range(0,len(resampled_prediction)):\n",
        "\n",
        "    if  resampled_prediction[i] > threshold:\n",
        "        resampled_prediction[i] = 1\n",
        "    else:\n",
        "        resampled_prediction[i] = 0\n",
        "print(classification_report(y_test, resampled_prediction))\n"
      ],
      "id": "sJ7qObUiro0C"
    },
    {
      "cell_type": "markdown",
      "metadata": {
        "id": "4z4dAU1UB0qt"
      },
      "source": [
        "#Visualize accuracy in training data"
      ],
      "id": "4z4dAU1UB0qt"
    },
    {
      "cell_type": "code",
      "execution_count": null,
      "metadata": {
        "colab": {
          "background_save": true
        },
        "id": "yYB8nuy6Sb6y",
        "outputId": "b6b7568f-5d93-42d2-fba8-cc4cd796b588"
      },
      "outputs": [
        {
          "data": {
            "text/plain": [
              "<matplotlib.legend.Legend at 0x792a8d6ffac0>"
            ]
          },
          "execution_count": 52,
          "metadata": {},
          "output_type": "execute_result"
        },
        {
          "data": {
            "image/png": "[encoded data removed]",
            "text/plain": [
              "<Figure size 1200x1000 with 1 Axes>"
            ]
          },
          "metadata": {},
          "output_type": "display_data"
        }
      ],
      "source": [
        "#Visualize accuracy in training data\n",
        "plt.figure(figsize = (12, 10))\n",
        "plt.plot(history.history['acc'])\n",
        "plt.plot(history.history['val_acc'])\n",
        "plt.title('CNN Model accuracy')\n",
        "plt.ylabel('accuracy')\n",
        "plt.xlabel('epoch')\n",
        "plt.legend(['Training data', 'Validation data'], loc = 'lower right')"
      ],
      "id": "yYB8nuy6Sb6y"
    },
    {
      "cell_type": "markdown",
      "metadata": {
        "id": "wlwUlKHeBvPR"
      },
      "source": [
        "#Visualize loss in training data"
      ],
      "id": "wlwUlKHeBvPR"
    },
    {
      "cell_type": "code",
      "execution_count": null,
      "metadata": {
        "colab": {
          "background_save": true
        },
        "id": "xNRkabz4SblS",
        "outputId": "b9d5455a-958d-4432-b427-a39618d46b46"
      },
      "outputs": [
        {
          "data": {
            "text/plain": [
              "<matplotlib.legend.Legend at 0x792a8d842e00>"
            ]
          },
          "execution_count": 53,
          "metadata": {},
          "output_type": "execute_result"
        },
        {
          "data": {
            "image/png": "[encoded data removed]",
            "text/plain": [
              "<Figure size 1200x1000 with 1 Axes>"
            ]
          },
          "metadata": {},
          "output_type": "display_data"
        }
      ],
      "source": [
        "#Visualize loss in training data\n",
        "plt.figure(figsize = (12, 10))\n",
        "plt.plot(history.history['loss'])\n",
        "plt.plot(history.history['val_loss'])\n",
        "plt.title('CNN Model Loss')\n",
        "plt.ylabel('loss')\n",
        "plt.xlabel('epoch')\n",
        "plt.legend(['Training data', 'Validation data'], loc = 'lower right')"
      ],
      "id": "xNRkabz4SblS"
    },
    {
      "cell_type": "code",
      "execution_count": null,
      "metadata": {
        "colab": {
          "background_save": true
        },
        "id": "z7mO9Wwpdnwx",
        "outputId": "0d605399-c075-4aed-f7c3-d054f1dac26d"
      },
      "outputs": [
        {
          "name": "stdout",
          "output_type": "stream",
          "text": [
            "2014/01/01      0.0\n",
            "2014/01/02     1.76\n",
            "2014/01/03     1.61\n",
            "2014/01/04     5.87\n",
            "2014/01/05    3.015\n",
            "              ...  \n",
            "2016/10/27    17.46\n",
            "2016/10/28    22.69\n",
            "2016/10/29    18.39\n",
            "2016/10/30    11.68\n",
            "2016/10/31    15.26\n",
            "Name: 30010, Length: 1034, dtype: object\n",
            "[[0.]]\n"
          ]
        }
      ],
      "source": [
        "input_data = df_1.iloc[30010, 2:]\n",
        "print(input_data)\n",
        "input_data_arr = np.asarray(input_data)\n",
        "# Reshape the input data to (number_of_time_steps, number_of_features)\n",
        "input_data_arr_reshaped = input_data_arr.reshape(1, -1, 1)\n",
        "prediction_cnn = model_cnn_1.predict(input_data_arr_reshaped)\n",
        "print(prediction_cnn)\n",
        "#This will reshape your input data to match the expected input shape of your Conv1D model, which is a 2D shape (number_of_time_steps, number_of_features).\n",
        "\n",
        "\n",
        "\n",
        "\n",
        "\n"
      ],
      "id": "z7mO9Wwpdnwx"
    },
    {
      "cell_type": "markdown",
      "metadata": {
        "id": "OjfTROlsB9h4"
      },
      "source": [
        "Using backend package from keras to extract some training data from CNN layers"
      ],
      "id": "OjfTROlsB9h4"
    },
    {
      "cell_type": "code",
      "execution_count": null,
      "metadata": {
        "colab": {
          "background_save": true
        },
        "id": "X1QTuejnslzI",
        "outputId": "4ce358fc-e740-4307-fb7a-7a1a0f02aa56"
      },
      "outputs": [
        {
          "data": {
            "text/plain": [
              "array([0.], dtype=float32)"
            ]
          },
          "execution_count": 55,
          "metadata": {},
          "output_type": "execute_result"
        }
      ],
      "source": [
        "prediction_cnn[0]"
      ],
      "id": "X1QTuejnslzI"
    },
    {
      "cell_type": "code",
      "execution_count": null,
      "metadata": {
        "colab": {
          "background_save": true
        },
        "id": "CHoIIJbBrpBH",
        "outputId": "ae8194a1-896b-4cd4-f488-fb6fd23996ef"
      },
      "outputs": [
        {
          "name": "stdout",
          "output_type": "stream",
          "text": [
            "This customer is not defaulting.\n"
          ]
        }
      ],
      "source": [
        "if (prediction_cnn[0]== 1):\n",
        "   print(\"This customer is defaulting.\")\n",
        "else:\n",
        "   print(\"This customer is not defaulting.\")\n",
        "\n",
        "\n"
      ],
      "id": "CHoIIJbBrpBH"
    },
    {
      "cell_type": "code",
      "execution_count": null,
      "metadata": {
        "colab": {
          "background_save": true
        },
        "id": "B5z3VIw6IKAo",
        "outputId": "c0ff6abf-1846-48a9-bb6c-b548b81377e4"
      },
      "outputs": [
        {
          "name": "stdout",
          "output_type": "stream",
          "text": [
            "0 <keras.src.engine.input_layer.InputLayer object at 0x792a8df74c40>\n",
            "1 <keras.src.engine.sequential.Sequential object at 0x792a8df77910>\n",
            "2 <keras.src.layers.core.dense.Dense object at 0x792a8ef49270>\n",
            "3 <keras.src.layers.regularization.dropout.Dropout object at 0x792a8ef49630>\n",
            "4 <keras.src.layers.core.dense.Dense object at 0x792a8ef49a20>\n"
          ]
        }
      ],
      "source": [
        "\n",
        "from keras import backend as K\n",
        "for l in range(len(model_cnn_1.layers)):\n",
        "    print(l, model_cnn_1.layers[l])"
      ],
      "id": "B5z3VIw6IKAo"
    },
    {
      "cell_type": "markdown",
      "metadata": {
        "id": "caFvvHRkCSND"
      },
      "source": [
        "Check the features in the first layer of the CNN"
      ],
      "id": "caFvvHRkCSND"
    },
    {
      "cell_type": "code",
      "execution_count": null,
      "metadata": {
        "colab": {
          "background_save": true
        },
        "id": "Hj8te_sNIJ8D",
        "outputId": "61f2fd6c-42ef-4f90-ce1b-be3a99b7d12e"
      },
      "outputs": [
        {
          "data": {
            "text/plain": [
              "<tf.Tensor 'input_1:0' shape=(?, 1034, 1) dtype=float32>"
            ]
          },
          "execution_count": 58,
          "metadata": {},
          "output_type": "execute_result"
        }
      ],
      "source": [
        "model_cnn_1.layers[0].input"
      ],
      "id": "Hj8te_sNIJ8D"
    },
    {
      "cell_type": "markdown",
      "metadata": {
        "id": "34ESvLCSCgly"
      },
      "source": [
        "Find features to use for RF training"
      ],
      "id": "34ESvLCSCgly"
    },
    {
      "cell_type": "code",
      "execution_count": null,
      "metadata": {
        "colab": {
          "background_save": true
        },
        "id": "pHVcixZ6IJ3C"
      },
      "outputs": [],
      "source": [
        "\n",
        "findFeature = K.function([model_cnn.layers[0].input, K.learning_phase()], [model_cnn.layers[1].output])"
      ],
      "id": "pHVcixZ6IJ3C"
    },
    {
      "cell_type": "markdown",
      "metadata": {
        "id": "unvuF9n5C8cZ"
      },
      "source": [
        "# Extract samples as train data and test data from CNN layers"
      ],
      "id": "unvuF9n5C8cZ"
    },
    {
      "cell_type": "code",
      "execution_count": null,
      "metadata": {
        "colab": {
          "background_save": true
        },
        "id": "IKgYgenxIJyZ"
      },
      "outputs": [],
      "source": [
        "train_example4000 = findFeature([x_train[:4000], 0])[0]# Extract 4000 samples as train data\n",
        "\n",
        "test_example1500 = findFeature([x_test[:1500], 0])[0]# Extract 1500 samples as test data\n",
        "\n",
        "#train_example4000 = findFeature([x_train[:4000], 0])[0]# Extract 4000 samples as train data\n",
        "\n",
        "#test_example1500 = findFeature([x_test[:], 0])[0]# Extract 1500 samples as test data\n",
        "\n"
      ],
      "id": "IKgYgenxIJyZ"
    },
    {
      "cell_type": "code",
      "execution_count": null,
      "metadata": {
        "colab": {
          "background_save": true
        },
        "id": "Nu5jmIpfRDlQ",
        "outputId": "9e944528-2775-4764-9894-2085dc48b598"
      },
      "outputs": [
        {
          "data": {
            "text/plain": [
              "((4000, 33088), (1500, 33088))"
            ]
          },
          "execution_count": 61,
          "metadata": {},
          "output_type": "execute_result"
        }
      ],
      "source": [
        "train_example4000.shape, test_example1500.shape"
      ],
      "id": "Nu5jmIpfRDlQ"
    },
    {
      "cell_type": "markdown",
      "metadata": {
        "id": "k_H0OtFcxyl1"
      },
      "source": [
        "#Convert 3d array back to 2d array for RF model"
      ],
      "id": "k_H0OtFcxyl1"
    },
    {
      "cell_type": "code",
      "execution_count": null,
      "metadata": {
        "colab": {
          "background_save": true
        },
        "id": "BcSpDFNqxvao"
      },
      "outputs": [],
      "source": [
        "#y_train4000 = y_train[:4000].reshape(y_train[:4000].shape[0],)#Reshape y as a vector of only 1 column\n",
        "\n",
        "# Convert y_train to a 2D array\n",
        "y_train4000 = y_train[:4000].reshape(4000, -1)\n",
        "\n",
        "# Convert y_test to a 2D array\n",
        "y_test1500 = y_test[:1500].reshape(1500, -1)\n",
        "\n",
        "#y_test1500 = y_test[:1500]\n"
      ],
      "id": "BcSpDFNqxvao"
    },
    {
      "cell_type": "code",
      "execution_count": null,
      "metadata": {
        "colab": {
          "background_save": true
        },
        "id": "QyuKAFEITECX",
        "outputId": "8526de6e-63d9-4cdc-bbea-9cc85c24503d"
      },
      "outputs": [
        {
          "data": {
            "text/plain": [
              "((4000, 1), (1500, 1))"
            ]
          },
          "execution_count": 63,
          "metadata": {},
          "output_type": "execute_result"
        }
      ],
      "source": [
        "y_train4000.shape, y_test1500.shape"
      ],
      "id": "QyuKAFEITECX"
    },
    {
      "cell_type": "markdown",
      "metadata": {
        "id": "8bxtKxyuxgo8"
      },
      "source": [],
      "id": "8bxtKxyuxgo8"
    },
    {
      "cell_type": "markdown",
      "metadata": {
        "id": "PdLl19VQyRrP"
      },
      "source": [
        "#Check shapes of all train and test data extracted from CNN layers"
      ],
      "id": "PdLl19VQyRrP"
    },
    {
      "cell_type": "code",
      "execution_count": null,
      "metadata": {
        "colab": {
          "background_save": true
        },
        "id": "Ej9XfMbdIJuQ",
        "outputId": "e5589845-3ebc-4a1e-a2bd-4c9e42daf85a"
      },
      "outputs": [
        {
          "name": "stdout",
          "output_type": "stream",
          "text": [
            "(4000, 33088) (1500, 33088) (4000, 1) (1500, 1)\n"
          ]
        }
      ],
      "source": [
        "print(train_example4000.shape, test_example1500.shape, y_train4000.shape, y_test1500.shape)"
      ],
      "id": "Ej9XfMbdIJuQ"
    },
    {
      "cell_type": "markdown",
      "metadata": {
        "id": "qhcb7uSAyhiq"
      },
      "source": [
        "#Instantiate RF Model and train with the samples extracted"
      ],
      "id": "qhcb7uSAyhiq"
    },
    {
      "cell_type": "code",
      "execution_count": null,
      "metadata": {
        "colab": {
          "background_save": true
        },
        "id": "MbSwfUjgIJqH",
        "outputId": "2a8226ed-656a-4827-f581-768ec681592b"
      },
      "outputs": [
        {
          "name": "stderr",
          "output_type": "stream",
          "text": [
            "<ipython-input-65-15318ee9ea72>:3: DataConversionWarning: A column-vector y was passed when a 1d array was expected. Please change the shape of y to (n_samples,), for example using ravel().\n",
            "  rf.fit(train_example4000, y_train4000)\n"
          ]
        },
        {
          "data": {
            "text/html": [
              "<style>#sk-container-id-1 {color: black;background-color: white;}#sk-container-id-1 pre{padding: 0;}#sk-container-id-1 div.sk-toggleable {background-color: white;}#sk-container-id-1 label.sk-toggleable__label {cursor: pointer;display: block;width: 100%;margin-bottom: 0;padding: 0.3em;box-sizing: border-box;text-align: center;}#sk-container-id-1 label.sk-toggleable__label-arrow:before {content: \"▸\";float: left;margin-right: 0.25em;color: #696969;}#sk-container-id-1 label.sk-toggleable__label-arrow:hover:before {color: black;}#sk-container-id-1 div.sk-estimator:hover label.sk-toggleable__label-arrow:before {color: black;}#sk-container-id-1 div.sk-toggleable__content {max-height: 0;max-width: 0;overflow: hidden;text-align: left;background-color: #f0f8ff;}#sk-container-id-1 div.sk-toggleable__content pre {margin: 0.2em;color: black;border-radius: 0.25em;background-color: #f0f8ff;}#sk-container-id-1 input.sk-toggleable__control:checked~div.sk-toggleable__content {max-height: 200px;max-width: 100%;overflow: auto;}#sk-container-id-1 input.sk-toggleable__control:checked~label.sk-toggleable__label-arrow:before {content: \"▾\";}#sk-container-id-1 div.sk-estimator input.sk-toggleable__control:checked~label.sk-toggleable__label {background-color: #d4ebff;}#sk-container-id-1 div.sk-label input.sk-toggleable__control:checked~label.sk-toggleable__label {background-color: #d4ebff;}#sk-container-id-1 input.sk-hidden--visually {border: 0;clip: rect(1px 1px 1px 1px);clip: rect(1px, 1px, 1px, 1px);height: 1px;margin: -1px;overflow: hidden;padding: 0;position: absolute;width: 1px;}#sk-container-id-1 div.sk-estimator {font-family: monospace;background-color: #f0f8ff;border: 1px dotted black;border-radius: 0.25em;box-sizing: border-box;margin-bottom: 0.5em;}#sk-container-id-1 div.sk-estimator:hover {background-color: #d4ebff;}#sk-container-id-1 div.sk-parallel-item::after {content: \"\";width: 100%;border-bottom: 1px solid gray;flex-grow: 1;}#sk-container-id-1 div.sk-label:hover label.sk-toggleable__label {background-color: #d4ebff;}#sk-container-id-1 div.sk-serial::before {content: \"\";position: absolute;border-left: 1px solid gray;box-sizing: border-box;top: 0;bottom: 0;left: 50%;z-index: 0;}#sk-container-id-1 div.sk-serial {display: flex;flex-direction: column;align-items: center;background-color: white;padding-right: 0.2em;padding-left: 0.2em;position: relative;}#sk-container-id-1 div.sk-item {position: relative;z-index: 1;}#sk-container-id-1 div.sk-parallel {display: flex;align-items: stretch;justify-content: center;background-color: white;position: relative;}#sk-container-id-1 div.sk-item::before, #sk-container-id-1 div.sk-parallel-item::before {content: \"\";position: absolute;border-left: 1px solid gray;box-sizing: border-box;top: 0;bottom: 0;left: 50%;z-index: -1;}#sk-container-id-1 div.sk-parallel-item {display: flex;flex-direction: column;z-index: 1;position: relative;background-color: white;}#sk-container-id-1 div.sk-parallel-item:first-child::after {align-self: flex-end;width: 50%;}#sk-container-id-1 div.sk-parallel-item:last-child::after {align-self: flex-start;width: 50%;}#sk-container-id-1 div.sk-parallel-item:only-child::after {width: 0;}#sk-container-id-1 div.sk-dashed-wrapped {border: 1px dashed gray;margin: 0 0.4em 0.5em 0.4em;box-sizing: border-box;padding-bottom: 0.4em;background-color: white;}#sk-container-id-1 div.sk-label label {font-family: monospace;font-weight: bold;display: inline-block;line-height: 1.2em;}#sk-container-id-1 div.sk-label-container {text-align: center;}#sk-container-id-1 div.sk-container {/* jupyter's `normalize.less` sets `[hidden] { display: none; }` but bootstrap.min.css set `[hidden] { display: none !important; }` so we also need the `!important` here to be able to override the default hidden behavior on the sphinx rendered scikit-learn.org. See: https://github.com/scikit-learn/scikit-learn/issues/21755 */display: inline-block !important;position: relative;}#sk-container-id-1 div.sk-text-repr-fallback {display: none;}</style><div id=\"sk-container-id-1\" class=\"sk-top-container\"><div class=\"sk-text-repr-fallback\"><pre>RandomForestClassifier(n_estimators=50, random_state=42)</pre><b>In a Jupyter environment, please rerun this cell to show the HTML representation or trust the notebook. <br />On GitHub, the HTML representation is unable to render, please try loading this page with nbviewer.org.</b></div><div class=\"sk-container\" hidden><div class=\"sk-item\"><div class=\"sk-estimator sk-toggleable\"><input class=\"sk-toggleable__control sk-hidden--visually\" id=\"sk-estimator-id-1\" type=\"checkbox\" checked><label for=\"sk-estimator-id-1\" class=\"sk-toggleable__label sk-toggleable__label-arrow\">RandomForestClassifier</label><div class=\"sk-toggleable__content\"><pre>RandomForestClassifier(n_estimators=50, random_state=42)</pre></div></div></div></div></div>"
            ],
            "text/plain": [
              "RandomForestClassifier(n_estimators=50, random_state=42)"
            ]
          },
          "execution_count": 65,
          "metadata": {},
          "output_type": "execute_result"
        }
      ],
      "source": [
        "from sklearn.ensemble import RandomForestClassifier\n",
        "rf = RandomForestClassifier(n_estimators= 50, random_state= 42)\n",
        "rf.fit(train_example4000, y_train4000)"
      ],
      "id": "MbSwfUjgIJqH"
    },
    {
      "cell_type": "markdown",
      "metadata": {
        "id": "gVoQJ5pVyxLt"
      },
      "source": [
        "#Check performance of the RF model using test data extracted from CNN\n",
        "\n",
        "---\n",
        "\n",
        "layers\n",
        "\n",
        "---\n",
        "\n"
      ],
      "id": "gVoQJ5pVyxLt"
    },
    {
      "cell_type": "code",
      "execution_count": null,
      "metadata": {
        "colab": {
          "background_save": true
        },
        "id": "CNvnSSptIJlx",
        "outputId": "083464ed-61c5-41fc-ff76-1fb4707b05f0"
      },
      "outputs": [
        {
          "name": "stdout",
          "output_type": "stream",
          "text": [
            "              precision    recall  f1-score   support\n",
            "\n",
            "           0       0.98      1.00      0.99       764\n",
            "           1       1.00      0.98      0.99       736\n",
            "\n",
            "    accuracy                           0.99      1500\n",
            "   macro avg       0.99      0.99      0.99      1500\n",
            "weighted avg       0.99      0.99      0.99      1500\n",
            "\n",
            "Accuracy: 0.992\n"
          ]
        }
      ],
      "source": [
        "y_test_rf = rf.predict(test_example1500)\n",
        "\n",
        "from sklearn.metrics import confusion_matrix, classification_report, accuracy_score\n",
        "\n",
        "print(classification_report(y_test1500, y_test_rf))\n",
        "print(\"Accuracy: {0}\".format(accuracy_score(y_test1500, y_test_rf)))"
      ],
      "id": "CNvnSSptIJlx"
    },
    {
      "cell_type": "code",
      "execution_count": null,
      "metadata": {
        "colab": {
          "background_save": true
        },
        "id": "Fr0q6QbnJ04L",
        "outputId": "bf64c3c3-44d0-49be-e809-e821320da78d"
      },
      "outputs": [
        {
          "name": "stdout",
          "output_type": "stream",
          "text": [
            "Random Forest Accuracy: 0.992\n"
          ]
        }
      ],
      "source": [
        "# Evaluate the model on the test data\n",
        "accuracy = rf.score(test_example1500, y_test1500)\n",
        "\n",
        "print(f\"Random Forest Accuracy: {accuracy}\")"
      ],
      "id": "Fr0q6QbnJ04L"
    },
    {
      "cell_type": "code",
      "execution_count": null,
      "metadata": {
        "id": "4qI6A6Bx8Nqw"
      },
      "outputs": [],
      "source": [
        "labels = sorted(list(set(y_test)))\n",
        "cmx_data = confusion_matrix(y_test1500, y_test_rf, labels=labels)\n",
        "\n",
        "df_cmx = pd.DataFrame(cmx_data, index=labels, columns=labels)\n",
        "plt.figure(figsize = (10,7))\n",
        "colormap = sns.color_palette(\"Blues\")\n",
        "sns.heatmap(df_cmx, annot=True, cmap = colormap)\n",
        "plt.show()"
      ],
      "id": "4qI6A6Bx8Nqw"
    },
    {
      "cell_type": "code",
      "execution_count": null,
      "metadata": {
        "id": "_uKW6-o97b2J"
      },
      "outputs": [],
      "source": [
        "from scipy import interpolate\n",
        "fpr, tpr, thresholds = roc_curve(y_test1500, y_test_rf)\n",
        "tpr_intrp = interpolate.interp1d(thresholds, tpr)\n",
        "fpr_intrp= interpolate.interp1d(thresholds, fpr)\n",
        "\n",
        "print(f'TPR of RF model : {tpr_intrp(0.5)}')\n",
        "print(f'FPR of RF model : {fpr_intrp(0.5)}')\n"
      ],
      "id": "_uKW6-o97b2J"
    },
    {
      "cell_type": "code",
      "execution_count": null,
      "metadata": {
        "id": "ZPYv3ZsX7zsH"
      },
      "outputs": [],
      "source": [
        "thresholds = 0.5\n",
        "#calculate precision and recall\n",
        "precision, recall, thresholds = precision_recall_curve(y_test1500, y_test_rf)\n",
        "print(f'Precision: {precision}\\nRecall: {recall}\\nThresholds: {thresholds}')\n",
        "#create precision recall curve\n",
        "fig, ax = plt.subplots()\n",
        "ax.plot(recall, precision, color='purple')\n",
        "\n",
        "#add axis labels to plot\n",
        "ax.set_title('Precision-Recall Curve OF RF')\n",
        "ax.set_ylabel('Precision')\n",
        "ax.set_xlabel('Recall')\n",
        "\n",
        "#display plot\n",
        "plt.show()"
      ],
      "id": "ZPYv3ZsX7zsH"
    },
    {
      "cell_type": "code",
      "execution_count": null,
      "metadata": {
        "id": "ZNYJPjgT7zVK"
      },
      "outputs": [],
      "source": [
        "# Visualisation with plot_metric\n",
        "false_positive_rate, true_positive_rate, _ = roc_curve(y_test1500, y_test_rf)\n",
        "print(f'false_positive_rate: {false_positive_rate}\\ntrue_positive_rate: {true_positive_rate}')\n",
        "\n",
        "pr, tpr, thresholds = roc_curve(y_test1500, y_test_rf)\n",
        "tpr_intrp = interpolate.interp1d(thresholds, tpr)\n",
        "fpr_intrp= interpolate.interp1d(thresholds, fpr)\n",
        "\n",
        "print(f'TPR of RF model : {tpr_intrp(0.5)}')\n",
        "print(f'FPR of RF model : {fpr_intrp(0.5)}')\n",
        "\n",
        "bc = BinaryClassification(y_test1500, y_test_rf, labels=[1, 0])\n",
        "\n",
        "# Figures\n",
        "plt.figure(figsize=(10,8))\n",
        "bc.plot_roc_curve()\n",
        "plt.show()"
      ],
      "id": "ZNYJPjgT7zVK"
    },
    {
      "cell_type": "code",
      "execution_count": null,
      "metadata": {
        "id": "9ZXGdLtK7y7v"
      },
      "outputs": [],
      "source": [
        "from sklearn.metrics import auc\n",
        "print(\"roc_auc score is :  \",roc_auc_score(y_test1500, y_test_rf))\n",
        "\n",
        "f1 = f1_score(y_test1500, y_test_rf)\n",
        "print(\"f1 score is :  \",f1)\n",
        "\n",
        "precision, recall, thresholds = precision_recall_curve(y_test1500, y_test_rf)\n",
        "print(f'Precision: {precision}\\nRecall: {recall}')\n",
        "print(\"precision-recall curve array is :  \", precision_recall_curve(y_test1500, y_test_rf))\n",
        "\n",
        "auc = auc(recall, precision)\n",
        "\n",
        "print(\"precision-recall AUC score of RF is :  \", auc)"
      ],
      "id": "9ZXGdLtK7y7v"
    },
    {
      "cell_type": "code",
      "execution_count": null,
      "metadata": {
        "id": "4gV_WNNUaeA0"
      },
      "outputs": [],
      "source": [
        "y_test_rf.shape"
      ],
      "id": "4gV_WNNUaeA0"
    },
    {
      "cell_type": "markdown",
      "metadata": {
        "id": "xpaFy5SOzET2"
      },
      "source": [
        "#Infusion of CNN predictions and RF predictions"
      ],
      "id": "xpaFy5SOzET2"
    },
    {
      "cell_type": "code",
      "execution_count": null,
      "metadata": {
        "id": "4C66on6djI4w"
      },
      "outputs": [],
      "source": [
        "y_test=y_test1500\n",
        "resampled_prediction=y_test_rf"
      ],
      "id": "4C66on6djI4w"
    },
    {
      "cell_type": "code",
      "execution_count": null,
      "metadata": {
        "id": "NOG4gk5lHm0K"
      },
      "outputs": [],
      "source": [
        "#labels = sorted(list(y_test))\n",
        "#cmx_data = confusion_matrix(y_test, resampled_prediction)\n",
        "cmx_data = confusion_matrix(y_test1500, y_test_rf)\n",
        "df_cmx = pd.DataFrame(cmx_data)\n",
        "plt.figure(figsize = (10,7))\n",
        "colormap = sns.color_palette(\"Greens\")\n",
        "sns.heatmap(df_cmx, annot=True, cmap = colormap)\n",
        "plt.show()"
      ],
      "id": "NOG4gk5lHm0K"
    },
    {
      "cell_type": "markdown",
      "metadata": {
        "id": "qhtkrm3m06M0"
      },
      "source": [
        "#Method 2: CNN-RF  Modelling\n",
        "Using  weights of  the network during  training"
      ],
      "id": "qhtkrm3m06M0"
    },
    {
      "cell_type": "code",
      "execution_count": null,
      "metadata": {
        "colab": {
          "background_save": true
        },
        "id": "y3n6_yLOUYz7"
      },
      "outputs": [],
      "source": [
        "cnn_weight = 0.3  # Adjust the weights as needed\n",
        "rf_weight = 0.7\n",
        "\n",
        "# Combine predictions using weighted averaging\n",
        "cnn_rf_predictions = (cnn_weight * cnn_prediction + rf_weight * y_test_rf)"
      ],
      "id": "y3n6_yLOUYz7"
    },
    {
      "cell_type": "code",
      "execution_count": null,
      "metadata": {
        "colab": {
          "background_save": true
        },
        "id": "F8KyjcsQUfhg"
      },
      "outputs": [],
      "source": [
        "# Binary classification example (using 0.5 as the threshold)\n",
        "cnn_rf_class_predictions = (cnn_rf_predictions > 0.5).astype(int)[0]\n"
      ],
      "id": "F8KyjcsQUfhg"
    },
    {
      "cell_type": "code",
      "execution_count": null,
      "metadata": {
        "colab": {
          "background_save": true
        },
        "id": "TumbsxpTUnCS",
        "outputId": "3f8e4560-7a93-4ec4-edc3-cacf89a6164c"
      },
      "outputs": [
        {
          "data": {
            "text/plain": [
              "(1500,)"
            ]
          },
          "execution_count": 78,
          "metadata": {},
          "output_type": "execute_result"
        }
      ],
      "source": [
        "cnn_rf_class_predictions.shape"
      ],
      "id": "TumbsxpTUnCS"
    },
    {
      "cell_type": "code",
      "execution_count": null,
      "metadata": {
        "colab": {
          "background_save": true
        },
        "id": "pYho74JKf_sg",
        "outputId": "db280c99-14bd-4814-f4a5-f60fe6f02591"
      },
      "outputs": [
        {
          "data": {
            "text/plain": [
              "(1500,)"
            ]
          },
          "execution_count": 79,
          "metadata": {},
          "output_type": "execute_result"
        }
      ],
      "source": [
        "y_test = y_test.reshape(-1)\n",
        "y_test.shape"
      ],
      "id": "pYho74JKf_sg"
    },
    {
      "cell_type": "code",
      "execution_count": null,
      "metadata": {
        "colab": {
          "background_save": true
        },
        "id": "Q2UF6XBdVdNp",
        "outputId": "84318c72-3f64-4ba7-cac7-737c89a7b9e1"
      },
      "outputs": [
        {
          "name": "stdout",
          "output_type": "stream",
          "text": [
            "Accuracy: 0.99\n",
            "Confusion Matrix:\n",
            "[[764   0]\n",
            " [ 12 724]]\n",
            "Classification Report:\n",
            "              precision    recall  f1-score   support\n",
            "\n",
            "           0       0.98      1.00      0.99       764\n",
            "           1       1.00      0.98      0.99       736\n",
            "\n",
            "    accuracy                           0.99      1500\n",
            "   macro avg       0.99      0.99      0.99      1500\n",
            "weighted avg       0.99      0.99      0.99      1500\n",
            "\n"
          ]
        }
      ],
      "source": [
        "from sklearn.metrics import accuracy_score, confusion_matrix, classification_report\n",
        "\n",
        "# Example: True class labels for your test data\n",
        "true_labels = y_test\n",
        "# Ensure true_labels and cnn_rf_class_predictions have the same shape\n",
        "# Convert them to integer arrays if necessary\n",
        "true_labels = true_labels.astype(int)\n",
        "cnn_rf_class_predictions = cnn_rf_class_predictions.astype(int)\n",
        "\n",
        "# Example: True class labels for your test data\n",
        "#true_labels = y_test\n",
        "\n",
        "# Calculate accuracy\n",
        "accuracy = accuracy_score(true_labels, cnn_rf_class_predictions)\n",
        "print(f'Accuracy: {accuracy:.2f}')\n",
        "\n",
        "# Calculate confusion matrix\n",
        "confusion = confusion_matrix(true_labels, cnn_rf_class_predictions)\n",
        "print('Confusion Matrix:')\n",
        "print(confusion)\n",
        "\n",
        "# Generate a classification report\n",
        "report = classification_report(true_labels, cnn_rf_class_predictions)\n",
        "print('Classification Report:')\n",
        "print(report)\n"
      ],
      "id": "Q2UF6XBdVdNp"
    },
    {
      "cell_type": "code",
      "execution_count": null,
      "metadata": {
        "colab": {
          "background_save": true
        },
        "id": "TOLIjr8mfviQ",
        "outputId": "3be4e395-0cac-4a12-ad43-ce6803d14ae5"
      },
      "outputs": [
        {
          "data": {
            "text/plain": [
              "0"
            ]
          },
          "execution_count": 81,
          "metadata": {},
          "output_type": "execute_result"
        }
      ],
      "source": [
        "true_labels[0]"
      ],
      "id": "TOLIjr8mfviQ"
    },
    {
      "cell_type": "code",
      "execution_count": null,
      "metadata": {
        "colab": {
          "background_save": true
        },
        "id": "LHtugpUHc-na"
      },
      "outputs": [],
      "source": [
        "from sklearn.metrics import precision_score, recall_score, f1_score\n",
        "precision = precision_score(true_labels, cnn_rf_class_predictions)\n",
        "recall = recall_score(true_labels, cnn_rf_class_predictions)\n",
        "f1 = f1_score(true_labels, cnn_rf_class_predictions)\n"
      ],
      "id": "LHtugpUHc-na"
    },
    {
      "cell_type": "code",
      "execution_count": null,
      "metadata": {
        "colab": {
          "background_save": true
        },
        "id": "hLO2PyZWjX_D",
        "outputId": "1fc83d9a-a666-4cd2-c3aa-cc6f53743238"
      },
      "outputs": [
        {
          "name": "stdout",
          "output_type": "stream",
          "text": [
            "Precision of CNN-RF is:  1.0\n",
            "Recall of CNN-RF is:  0.9836956521739131\n",
            "f1 of CNN-RF is:  0.9917808219178083\n"
          ]
        }
      ],
      "source": [
        "print(f'Precision of CNN-RF is: ', precision)\n",
        "print(f'Recall of CNN-RF is: ', recall)\n",
        "print(f'f1 of CNN-RF is: ', f1)"
      ],
      "id": "hLO2PyZWjX_D"
    },
    {
      "cell_type": "code",
      "execution_count": null,
      "metadata": {
        "colab": {
          "background_save": true
        },
        "id": "CiVk4V7nc-Ht",
        "outputId": "76bc292d-2507-4e98-d313-8412a291da00"
      },
      "outputs": [
        {
          "name": "stdout",
          "output_type": "stream",
          "text": [
            "false_positive_rate: [0. 0. 1.]\n",
            "true_positive_rate: [0.         0.98369565 1.        ]\n",
            "TPR of CNN-RF model : 0.9918478260869565\n",
            "FPR of CNN-RF model : 0.5\n"
          ]
        },
        {
          "data": {
            "image/png": "[encoded data removed]",
            "text/plain": [
              "<Figure size 1000x800 with 1 Axes>"
            ]
          },
          "metadata": {},
          "output_type": "display_data"
        }
      ],
      "source": [
        "# Visualisation with plot_metric - CNN-RF\n",
        "false_positive_rate, true_positive_rate, _ = roc_curve(true_labels, cnn_rf_class_predictions)\n",
        "print(f'false_positive_rate: {false_positive_rate}\\ntrue_positive_rate: {true_positive_rate}')\n",
        "\n",
        "pr, tpr, thresholds = roc_curve(true_labels, cnn_rf_class_predictions)\n",
        "tpr_intrp = interpolate.interp1d(thresholds, tpr)\n",
        "fpr_intrp= interpolate.interp1d(thresholds, fpr)\n",
        "\n",
        "print(f'TPR of CNN-RF model : {tpr_intrp(0.5)}')\n",
        "print(f'FPR of CNN-RF model : {fpr_intrp(0.5)}')\n",
        "\n",
        "bc = BinaryClassification(y_test1500, y_test_rf, labels=[1, 0])\n",
        "\n",
        "# Figures\n",
        "plt.figure(figsize=(10,8))\n",
        "bc.plot_roc_curve()\n",
        "plt.show()"
      ],
      "id": "CiVk4V7nc-Ht"
    },
    {
      "cell_type": "markdown",
      "metadata": {
        "id": "63qRhV46zcu5"
      },
      "source": [
        "#ROC CURVE for the new model"
      ],
      "id": "63qRhV46zcu5"
    },
    {
      "cell_type": "code",
      "execution_count": null,
      "metadata": {
        "colab": {
          "background_save": true
        },
        "id": "Iu4BPav1e_PE",
        "outputId": "1fe173c4-38bf-4976-b68b-dfae41614ee5"
      },
      "outputs": [
        {
          "name": "stdout",
          "output_type": "stream",
          "text": [
            "false_positive_rate: [0. 0. 1.]\n",
            "true_positive_rate: [0.         0.98369565 1.        ]\n",
            "TPR of CNN-RF model : 0.995108695652174\n",
            "FPR of CNN-RF model : 0.7\n"
          ]
        },
        {
          "data": {
            "image/png": "[encoded data removed]",
            "text/plain": [
              "<Figure size 1000x800 with 1 Axes>"
            ]
          },
          "metadata": {},
          "output_type": "display_data"
        }
      ],
      "source": [
        "# Visualisation with plot_metric\n",
        "false_positive_rate, true_positive_rate, _ = roc_curve(y_test, cnn_rf_class_predictions)\n",
        "print(f'false_positive_rate: {false_positive_rate}\\ntrue_positive_rate: {true_positive_rate}')\n",
        "\n",
        "pr, tpr, thresholds = roc_curve(y_test, cnn_rf_class_predictions)\n",
        "tpr_intrp = interpolate.interp1d(thresholds, tpr)\n",
        "fpr_intrp= interpolate.interp1d(thresholds, fpr)\n",
        "\n",
        "print(f'TPR of CNN-RF model : {tpr_intrp(0.3)}')\n",
        "print(f'FPR of CNN-RF model : {fpr_intrp(0.3)}')\n",
        "\n",
        "bc = BinaryClassification(y_test, cnn_rf_class_predictions, labels=[1, 0])\n",
        "\n",
        "# Figures\n",
        "plt.figure(figsize=(10,8))\n",
        "bc.plot_roc_curve()\n",
        "plt.show()"
      ],
      "id": "Iu4BPav1e_PE"
    },
    {
      "cell_type": "markdown",
      "metadata": {
        "id": "Sz8rqHGezy1k"
      },
      "source": [
        "#Check Precision and Recall ofthe new model"
      ],
      "id": "Sz8rqHGezy1k"
    },
    {
      "cell_type": "code",
      "execution_count": null,
      "metadata": {
        "colab": {
          "background_save": true
        },
        "id": "LIvvWup9np5I",
        "outputId": "582a23bd-7d16-4545-d6f6-00b97398044a"
      },
      "outputs": [
        {
          "name": "stdout",
          "output_type": "stream",
          "text": [
            "|                 |   Predicted Positive |   Predicted Negative |\n",
            "|-----------------+----------------------+----------------------|\n",
            "| Actual Positive |                  764 |                    0 |\n",
            "| Actual Negative |                   12 |                  724 |\n",
            "\n",
            "Precision: [0.49066667 1.         1.        ]\n",
            "Recall: [1.         0.98369565 0.        ]\n",
            "Thresholds: [0 1]\n"
          ]
        },
        {
          "data": {
            "image/png": "[encoded data removed]",
            "text/plain": [
              "<Figure size 640x480 with 1 Axes>"
            ]
          },
          "metadata": {},
          "output_type": "display_data"
        }
      ],
      "source": [
        "matrix = confusion_matrix(y_test, cnn_rf_class_predictions)\n",
        "matrix = pd.DataFrame(matrix, index=[\"Actual Positive\", \"Actual Negative\"], columns = [\"Predicted Positive\", \"Predicted Negative\"])\n",
        "print(tabulate(matrix, tablefmt=\"orgtbl\",\n",
        "               headers=\"keys\"))\n",
        "\n",
        "\n",
        "print()\n",
        "#calculate precision and recall\n",
        "precision, recall, thresholds = precision_recall_curve(y_test, cnn_rf_class_predictions)\n",
        "print(f'Precision: {precision}\\nRecall: {recall}\\nThresholds: {thresholds}')\n",
        "#create precision recall curve\n",
        "fig, ax = plt.subplots()\n",
        "ax.plot(recall, precision, color='purple')\n",
        "\n",
        "#add axis labels to plot\n",
        "ax.set_title('Precision-Recall Curve')\n",
        "ax.set_ylabel('Precision')\n",
        "ax.set_xlabel('Recall')\n",
        "\n",
        "#display plot\n",
        "plt.show()"
      ],
      "id": "LIvvWup9np5I"
    },
    {
      "cell_type": "markdown",
      "metadata": {
        "id": "M7T0u1_60enV"
      },
      "source": [
        "#More metrics results for  the CNN-RF model"
      ],
      "id": "M7T0u1_60enV"
    },
    {
      "cell_type": "code",
      "execution_count": null,
      "metadata": {
        "colab": {
          "background_save": true
        },
        "id": "0c9H09QlS8EK",
        "outputId": "20354eb5-dd60-425d-9782-d03bcb00c089"
      },
      "outputs": [
        {
          "name": "stdout",
          "output_type": "stream",
          "text": [
            "Confusion Matrix : \n",
            " [[764   0]\n",
            " [ 12 724]]\n",
            "Accuracy :  0.992\n",
            "Sensitivity :  1.0\n",
            "Specificity :  0.9836956521739131\n",
            "AUC 0.9918478260869565\n"
          ]
        }
      ],
      "source": [
        "\n",
        "from sklearn.metrics import confusion_matrix\n",
        "from sklearn import metrics\n",
        "\n",
        "\n",
        "#cnn_prediction=resampled_prediction;\n",
        "cm1 = confusion_matrix(y_test, cnn_rf_class_predictions)\n",
        "print('Confusion Matrix : \\n', cm1)\n",
        "\n",
        "total1=sum(sum(cm1))\n",
        "\n",
        "accuracy1=(cm1[0,0]+cm1[1,1])/total1\n",
        "print ('Accuracy : ', accuracy1)\n",
        "\n",
        "sensitivity1 = cm1[0,0]/(cm1[0,0]+cm1[0,1])\n",
        "print('Sensitivity : ', sensitivity1 )\n",
        "\n",
        "specificity1 = cm1[1,1]/(cm1[1,0]+cm1[1,1])\n",
        "print('Specificity : ', specificity1)\n",
        "\n",
        "fpr, tpr, thresholds = metrics.roc_curve(y_test, cnn_rf_class_predictions)\n",
        "print(\"AUC\",metrics.auc(fpr, tpr))"
      ],
      "id": "0c9H09QlS8EK"
    },
    {
      "cell_type": "code",
      "execution_count": null,
      "metadata": {
        "colab": {
          "background_save": true
        },
        "id": "GQknTTFfS778",
        "outputId": "1142e2d3-b495-4e8c-c0d7-8c47d3fa98ec"
      },
      "outputs": [
        {
          "name": "stdout",
          "output_type": "stream",
          "text": [
            "roc_auc score is :   0.9918478260869565\n",
            "f1 score is :   0.9917808219178083\n",
            "precision-recall curve array is :   (array([0.49066667, 1.        , 1.        ]), array([1.        , 0.98369565, 0.        ]), array([0, 1]))\n",
            "precision-recall AUC score is :   0.9958478260869565\n"
          ]
        }
      ],
      "source": [
        "from sklearn.metrics import auc\n",
        "print(\"roc_auc score is :  \",roc_auc_score(y_test, cnn_rf_class_predictions))\n",
        "\n",
        "f1 = f1_score(y_test, cnn_rf_class_predictions)\n",
        "print(\"f1 score is :  \",f1)\n",
        "\n",
        "precision, recall, thresholds = precision_recall_curve(y_test, cnn_rf_class_predictions)\n",
        "\n",
        "print(\"precision-recall curve array is :  \", precision_recall_curve(y_test, cnn_rf_class_predictions))\n",
        "\n",
        "auc = auc(recall, precision)\n",
        "\n",
        "print(\"precision-recall AUC score is :  \", auc)"
      ],
      "id": "GQknTTFfS778"
    },
    {
      "cell_type": "code",
      "execution_count": null,
      "metadata": {
        "colab": {
          "background_save": true
        },
        "id": "02ZiNKdt0hRJ",
        "outputId": "3245d127-1d55-4dac-c6ce-4888bf32211e"
      },
      "outputs": [
        {
          "data": {
            "text/plain": [
              "dtype('int64')"
            ]
          },
          "execution_count": 89,
          "metadata": {},
          "output_type": "execute_result"
        }
      ],
      "source": [
        "resampled_prediction.dtype"
      ],
      "id": "02ZiNKdt0hRJ"
    },
    {
      "cell_type": "markdown",
      "metadata": {
        "id": "6mzx6YI23kwS"
      },
      "source": [
        "#Make predictions using the loaded model"
      ],
      "id": "6mzx6YI23kwS"
    },
    {
      "cell_type": "code",
      "execution_count": null,
      "metadata": {
        "colab": {
          "background_save": true
        },
        "id": "XknDS5NK3E86",
        "outputId": "baffaec4-9832-4436-ca62-7f976b8e7d57"
      },
      "outputs": [
        {
          "ename": "NameError",
          "evalue": "name 'loaded_model' is not defined",
          "output_type": "error",
          "traceback": [
            "\u001b[0;31m---------------------------------------------------------------------------\u001b[0m",
            "\u001b[0;31mNameError\u001b[0m                                 Traceback (most recent call last)",
            "\u001b[0;32m<ipython-input-90-89bd37047b78>\u001b[0m in \u001b[0;36m<cell line: 4>\u001b[0;34m()\u001b[0m\n\u001b[1;32m      2\u001b[0m \u001b[0;34m\u001b[0m\u001b[0m\n\u001b[1;32m      3\u001b[0m \u001b[0;31m# Make predictions using the loaded model\u001b[0m\u001b[0;34m\u001b[0m\u001b[0;34m\u001b[0m\u001b[0m\n\u001b[0;32m----> 4\u001b[0;31m \u001b[0mprediction\u001b[0m \u001b[0;34m=\u001b[0m \u001b[0mloaded_model\u001b[0m\u001b[0;34m.\u001b[0m\u001b[0mpredict\u001b[0m\u001b[0;34m(\u001b[0m\u001b[0;34m[\u001b[0m\u001b[0mresampled_prediction\u001b[0m\u001b[0;34m,\u001b[0m \u001b[0my_test_rf\u001b[0m\u001b[0;34m]\u001b[0m\u001b[0;34m)\u001b[0m\u001b[0;34m\u001b[0m\u001b[0;34m\u001b[0m\u001b[0m\n\u001b[0m\u001b[1;32m      5\u001b[0m \u001b[0;34m\u001b[0m\u001b[0m\n\u001b[1;32m      6\u001b[0m \u001b[0;31m# Assuming your model's output is binary (0 for non-default, 1 for default)\u001b[0m\u001b[0;34m\u001b[0m\u001b[0;34m\u001b[0m\u001b[0m\n",
            "\u001b[0;31mNameError\u001b[0m: name 'loaded_model' is not defined"
          ]
        }
      ],
      "source": [
        "# Assuming you have loaded your test data as 'X_row_data'\n",
        "\n",
        "# Make predictions using the loaded model\n",
        "prediction = loaded_model.predict([resampled_prediction, y_test_rf])\n",
        "\n",
        "# Assuming your model's output is binary (0 for non-default, 1 for default)\n",
        "if prediction[0][0] > 0.5:\n",
        "    print(\"This customer is defaulting.\")\n",
        "else:\n",
        "    print(\"This customer is not defaulting.\")\n"
      ],
      "id": "XknDS5NK3E86"
    },
    {
      "cell_type": "code",
      "execution_count": null,
      "metadata": {
        "colab": {
          "background_save": true
        },
        "id": "pm-BcOhWxMTL"
      },
      "outputs": [],
      "source": [
        "input_data = df_1.iloc[30010, 2:]\n",
        "print(input_data)\n",
        "input_data_arr = np.asarray(input_data)\n",
        "# Reshape the input data to (number_of_time_steps, number_of_features)\n",
        "input_data_arr_reshaped = input_data_arr.reshape(1, -1, 1)\n",
        "prediction_cnn = model_cnn_1.predict(input_data_arr_reshaped)\n",
        "print(prediction_cnn)\n",
        "#This will reshape your input data to match the expected"
      ],
      "id": "pm-BcOhWxMTL"
    },
    {
      "cell_type": "markdown",
      "metadata": {
        "id": "LA6S4cIx5yr1"
      },
      "source": [
        "\\"
      ],
      "id": "LA6S4cIx5yr1"
    }
  ],
  "metadata": {
    "accelerator": "GPU",
    "colab": {
      "provenance": [],
      "include_colab_link": true
    },
    "kernelspec": {
      "display_name": "Python 3",
      "name": "python3"
    },
    "language_info": {
      "codemirror_mode": {
        "name": "ipython",
        "version": 3
      },
      "file_extension": ".py",
      "mimetype": "text/x-python",
      "name": "python",
      "nbconvert_exporter": "python",
      "pygments_lexer": "ipython3",
      "version": "3.8.5"
    }
  },
  "nbformat": 4,
  "nbformat_minor": 5
}